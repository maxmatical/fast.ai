{
  "nbformat": 4,
  "nbformat_minor": 0,
  "metadata": {
    "colab": {
      "name": "full_twitter_sentiment_transformers.ipynb",
      "provenance": [],
      "collapsed_sections": [],
      "toc_visible": true,
      "include_colab_link": true
    },
    "kernelspec": {
      "name": "python3",
      "display_name": "Python 3"
    },
    "accelerator": "GPU"
  },
  "cells": [
    {
      "cell_type": "markdown",
      "metadata": {
        "id": "view-in-github",
        "colab_type": "text"
      },
      "source": [
        "<a href=\"https://colab.research.google.com/github/maxmatical/fast.ai/blob/master/full_twitter_sentiment_transformers.ipynb\" target=\"_parent\"><img src=\"https://colab.research.google.com/assets/colab-badge.svg\" alt=\"Open In Colab\"/></a>"
      ]
    },
    {
      "cell_type": "code",
      "metadata": {
        "id": "QMgx99NYbpIV",
        "colab_type": "code",
        "colab": {}
      },
      "source": [
        "%%capture\n",
        "!pip install git+https://github.com/fastai/fastai.git\n",
        "!pip install transformers\n",
        "!pip install scikit-optimize"
      ],
      "execution_count": 0,
      "outputs": []
    },
    {
      "cell_type": "code",
      "metadata": {
        "id": "YnCNplZFCBp4",
        "colab_type": "code",
        "outputId": "31f8bac7-ce49-4e98-c674-5083d03179dd",
        "colab": {
          "base_uri": "https://localhost:8080/",
          "height": 52
        }
      },
      "source": [
        "# Set up environment and download course-v3\n",
        "!curl -s https://course.fast.ai/setup/colab | bash"
      ],
      "execution_count": 2,
      "outputs": [
        {
          "output_type": "stream",
          "text": [
            "Updating fastai...\n",
            "Done.\n"
          ],
          "name": "stdout"
        }
      ]
    },
    {
      "cell_type": "code",
      "metadata": {
        "id": "qKq5YwwRCM5r",
        "colab_type": "code",
        "colab": {
          "base_uri": "https://localhost:8080/",
          "height": 744
        },
        "outputId": "e1339ba7-818e-40df-de79-2eaceb9bf68a"
      },
      "source": [
        "import numpy as np\n",
        "import pandas as pd\n",
        "from matplotlib import pyplot as plt\n",
        "\n",
        "from fastai import *\n",
        "from fastai.text import *\n",
        "from fastai.utils.show_install import *\n",
        "from fastai.callbacks import *\n",
        "\n",
        "import torch\n",
        "import torch.optim as optim\n",
        "\n",
        "# transformers\n",
        "from transformers import PreTrainedModel, PreTrainedTokenizer, PretrainedConfig\n",
        "\n",
        "from transformers import BertForSequenceClassification, BertTokenizer, BertConfig\n",
        "from transformers import RobertaForSequenceClassification, RobertaTokenizer, RobertaConfig\n",
        "from transformers import XLNetForSequenceClassification, XLNetTokenizer, XLNetConfig\n",
        "from transformers import XLMForSequenceClassification, XLMTokenizer, XLMConfig\n",
        "from transformers import DistilBertForSequenceClassification, DistilBertTokenizer, DistilBertConfig\n",
        "show_install()\n"
      ],
      "execution_count": 3,
      "outputs": [
        {
          "output_type": "display_data",
          "data": {
            "text/html": [
              "<p style=\"color: red;\">\n",
              "The default version of TensorFlow in Colab will soon switch to TensorFlow 2.x.<br>\n",
              "We recommend you <a href=\"https://www.tensorflow.org/guide/migrate\" target=\"_blank\">upgrade</a> now \n",
              "or ensure your notebook will continue to use TensorFlow 1.x via the <code>%tensorflow_version 1.x</code> magic:\n",
              "<a href=\"https://colab.research.google.com/notebooks/tensorflow_version.ipynb\" target=\"_blank\">more info</a>.</p>\n"
            ],
            "text/plain": [
              "<IPython.core.display.HTML object>"
            ]
          },
          "metadata": {
            "tags": []
          }
        },
        {
          "output_type": "stream",
          "text": [
            "\n",
            "\n",
            "```text\n",
            "=== Software === \n",
            "python        : 3.6.8\n",
            "fastai        : 1.0.60.dev0\n",
            "fastprogress  : 0.1.21\n",
            "torch         : 1.3.1\n",
            "nvidia driver : 418.67\n",
            "torch cuda    : 10.1.243 / is available\n",
            "torch cudnn   : 7603 / is enabled\n",
            "\n",
            "=== Hardware === \n",
            "nvidia gpus   : 1\n",
            "torch devices : 1\n",
            "  - gpu0      : 16280MB | Tesla P100-PCIE-16GB\n",
            "\n",
            "=== Environment === \n",
            "platform      : Linux-4.14.137+-x86_64-with-Ubuntu-18.04-bionic\n",
            "distro        : #1 SMP Thu Aug 8 02:47:02 PDT 2019\n",
            "conda env     : Unknown\n",
            "python        : /usr/bin/python3\n",
            "sys.path      : \n",
            "/env/python\n",
            "/usr/lib/python36.zip\n",
            "/usr/lib/python3.6\n",
            "/usr/lib/python3.6/lib-dynload\n",
            "/usr/local/lib/python3.6/dist-packages\n",
            "/usr/lib/python3/dist-packages\n",
            "/usr/local/lib/python3.6/dist-packages/IPython/extensions\n",
            "/root/.ipython\n",
            "```\n",
            "\n",
            "Please make sure to include opening/closing ``` when you paste into forums/github to make the reports appear formatted as code sections.\n",
            "\n",
            "Optional package(s) to enhance the diagnostics can be installed with:\n",
            "pip install distro\n",
            "Once installed, re-run this utility to get the additional information\n"
          ],
          "name": "stdout"
        }
      ]
    },
    {
      "cell_type": "code",
      "metadata": {
        "id": "GbCUnF1cgj9f",
        "colab_type": "code",
        "outputId": "a88adb9f-c7c6-4f95-857e-859b84967be2",
        "colab": {
          "base_uri": "https://localhost:8080/",
          "height": 52
        }
      },
      "source": [
        "\n",
        "\n",
        "import fastai\n",
        "import transformers\n",
        "print('fastai version :', fastai.__version__)\n",
        "print('transformers version :', transformers.__version__)\n",
        "\n"
      ],
      "execution_count": 4,
      "outputs": [
        {
          "output_type": "stream",
          "text": [
            "fastai version : 1.0.60.dev0\n",
            "transformers version : 2.2.0\n"
          ],
          "name": "stdout"
        }
      ]
    },
    {
      "cell_type": "markdown",
      "metadata": {
        "id": "jYky0SyQCZPU",
        "colab_type": "text"
      },
      "source": [
        "# Exploratory Data Analysis"
      ]
    },
    {
      "cell_type": "code",
      "metadata": {
        "id": "g8bWDpNtCQNY",
        "colab_type": "code",
        "colab": {}
      },
      "source": [
        "df = pd.read_csv('combined_tweets_clean.csv')"
      ],
      "execution_count": 0,
      "outputs": []
    },
    {
      "cell_type": "code",
      "metadata": {
        "id": "RLdscs8CCd--",
        "colab_type": "code",
        "outputId": "6285804c-9fa1-41c5-96c6-3c13233d25fc",
        "colab": {
          "base_uri": "https://localhost:8080/",
          "height": 328
        }
      },
      "source": [
        "print(len(df))\n",
        "\n",
        "df.head(5)"
      ],
      "execution_count": 6,
      "outputs": [
        {
          "output_type": "stream",
          "text": [
            "18737\n"
          ],
          "name": "stdout"
        },
        {
          "output_type": "execute_result",
          "data": {
            "text/html": [
              "<div>\n",
              "<style scoped>\n",
              "    .dataframe tbody tr th:only-of-type {\n",
              "        vertical-align: middle;\n",
              "    }\n",
              "\n",
              "    .dataframe tbody tr th {\n",
              "        vertical-align: top;\n",
              "    }\n",
              "\n",
              "    .dataframe thead th {\n",
              "        text-align: right;\n",
              "    }\n",
              "</style>\n",
              "<table border=\"1\" class=\"dataframe\">\n",
              "  <thead>\n",
              "    <tr style=\"text-align: right;\">\n",
              "      <th></th>\n",
              "      <th>Unnamed: 0</th>\n",
              "      <th>Unnamed: 0.1</th>\n",
              "      <th>sentiment</th>\n",
              "      <th>date</th>\n",
              "      <th>id</th>\n",
              "      <th>location</th>\n",
              "      <th>name</th>\n",
              "      <th>text</th>\n",
              "    </tr>\n",
              "  </thead>\n",
              "  <tbody>\n",
              "    <tr>\n",
              "      <th>0</th>\n",
              "      <td>0</td>\n",
              "      <td>0</td>\n",
              "      <td>neutral</td>\n",
              "      <td>2011-08-30 23:54</td>\n",
              "      <td>1.090000e+17</td>\n",
              "      <td>NaN</td>\n",
              "      <td>CPtte</td>\n",
              "      <td>Ok, I'm loving $GLD calls today, gold traders ...</td>\n",
              "    </tr>\n",
              "    <tr>\n",
              "      <th>1</th>\n",
              "      <td>1</td>\n",
              "      <td>1</td>\n",
              "      <td>bearish</td>\n",
              "      <td>2011-08-30 23:52</td>\n",
              "      <td>1.090000e+17</td>\n",
              "      <td>NaN</td>\n",
              "      <td>MichaelVlaicu</td>\n",
              "      <td>@auptimus if gold corrects I'd buy out dated g...</td>\n",
              "    </tr>\n",
              "    <tr>\n",
              "      <th>2</th>\n",
              "      <td>2</td>\n",
              "      <td>2</td>\n",
              "      <td>unrelated</td>\n",
              "      <td>2011-08-30 23:16</td>\n",
              "      <td>1.090000e+17</td>\n",
              "      <td>NaN</td>\n",
              "      <td>boposlav</td>\n",
              "      <td>What You Need to Know About the World's Larges...</td>\n",
              "    </tr>\n",
              "    <tr>\n",
              "      <th>3</th>\n",
              "      <td>3</td>\n",
              "      <td>3</td>\n",
              "      <td>unrelated</td>\n",
              "      <td>2011-08-30 23:08</td>\n",
              "      <td>1.090000e+17</td>\n",
              "      <td>NaN</td>\n",
              "      <td>ITMTrading</td>\n",
              "      <td>Ever wanted to know the difference between GLD...</td>\n",
              "    </tr>\n",
              "    <tr>\n",
              "      <th>4</th>\n",
              "      <td>4</td>\n",
              "      <td>4</td>\n",
              "      <td>unrelated</td>\n",
              "      <td>2011-08-30 23:06</td>\n",
              "      <td>1.090000e+17</td>\n",
              "      <td>NaN</td>\n",
              "      <td>iembot_gld</td>\n",
              "      <td>#GLD Area Forecast Discussion (AFD) http://t.c...</td>\n",
              "    </tr>\n",
              "  </tbody>\n",
              "</table>\n",
              "</div>"
            ],
            "text/plain": [
              "   Unnamed: 0  ...                                               text\n",
              "0           0  ...  Ok, I'm loving $GLD calls today, gold traders ...\n",
              "1           1  ...  @auptimus if gold corrects I'd buy out dated g...\n",
              "2           2  ...  What You Need to Know About the World's Larges...\n",
              "3           3  ...  Ever wanted to know the difference between GLD...\n",
              "4           4  ...  #GLD Area Forecast Discussion (AFD) http://t.c...\n",
              "\n",
              "[5 rows x 8 columns]"
            ]
          },
          "metadata": {
            "tags": []
          },
          "execution_count": 6
        }
      ]
    },
    {
      "cell_type": "code",
      "metadata": {
        "id": "liW3zbbzCktu",
        "colab_type": "code",
        "outputId": "d859531f-f17c-4adb-e077-f97ce701e7f5",
        "colab": {
          "base_uri": "https://localhost:8080/",
          "height": 321
        }
      },
      "source": [
        "df['sentiment'].value_counts().plot(kind='bar')\n",
        "\n",
        "print(df['sentiment'].unique())"
      ],
      "execution_count": 7,
      "outputs": [
        {
          "output_type": "stream",
          "text": [
            "['neutral' 'bearish' 'unrelated' 'bullish']\n"
          ],
          "name": "stdout"
        },
        {
          "output_type": "display_data",
          "data": {
            "image/png": "[encoded data removed]",
            "text/plain": [
              "<Figure size 432x288 with 1 Axes>"
            ]
          },
          "metadata": {
            "tags": []
          }
        }
      ]
    },
    {
      "cell_type": "markdown",
      "metadata": {
        "id": "XscVftJYDTQt",
        "colab_type": "text"
      },
      "source": [
        "Unrelated and neutral sentiments dominate the data currently (although this might not be the case in the future with the full dataset). It might be better to use a stratified sampling technique for classification"
      ]
    },
    {
      "cell_type": "code",
      "metadata": {
        "id": "x-GUhvxkELES",
        "colab_type": "code",
        "outputId": "265a1872-f8ed-41c5-8c72-45da9bb1dd66",
        "colab": {
          "base_uri": "https://localhost:8080/",
          "height": 52
        }
      },
      "source": [
        "from sklearn.model_selection import StratifiedShuffleSplit\n",
        "\n",
        "sss = StratifiedShuffleSplit(n_splits=5, test_size=0.2, random_state=0)\n",
        "sss.get_n_splits(df['text'], df['sentiment'])\n",
        "\n",
        "print(sss)\n",
        "\n"
      ],
      "execution_count": 8,
      "outputs": [
        {
          "output_type": "stream",
          "text": [
            "StratifiedShuffleSplit(n_splits=5, random_state=0, test_size=0.2,\n",
            "            train_size=None)\n"
          ],
          "name": "stdout"
        }
      ]
    },
    {
      "cell_type": "code",
      "metadata": {
        "id": "THDVEb8tFFGN",
        "colab_type": "code",
        "outputId": "7e027e78-0365-42bd-d37d-3051fc9bb081",
        "colab": {
          "base_uri": "https://localhost:8080/",
          "height": 34
        }
      },
      "source": [
        "train_idx, val_idx = next(sss.split(df['text'], df['sentiment']))\n",
        "\n",
        "print(len(train_idx), len(val_idx))"
      ],
      "execution_count": 9,
      "outputs": [
        {
          "output_type": "stream",
          "text": [
            "14989 3748\n"
          ],
          "name": "stdout"
        }
      ]
    },
    {
      "cell_type": "markdown",
      "metadata": {
        "id": "YnI14U3zKskb",
        "colab_type": "text"
      },
      "source": [
        "Verifying that the stratified split preseves the distribution of the labels"
      ]
    },
    {
      "cell_type": "code",
      "metadata": {
        "id": "QPqoB9P-JzhJ",
        "colab_type": "code",
        "colab": {}
      },
      "source": [
        "df_train = df.iloc[train_idx, :]\n",
        "df_val = df.iloc[val_idx, :]"
      ],
      "execution_count": 0,
      "outputs": []
    },
    {
      "cell_type": "code",
      "metadata": {
        "id": "loavhYCJKdmz",
        "colab_type": "code",
        "outputId": "3f483633-75f5-4de2-a704-f3605e98d875",
        "colab": {
          "base_uri": "https://localhost:8080/",
          "height": 321
        }
      },
      "source": [
        "df_train['sentiment'].value_counts().plot(kind='bar')"
      ],
      "execution_count": 11,
      "outputs": [
        {
          "output_type": "execute_result",
          "data": {
            "text/plain": [
              "<matplotlib.axes._subplots.AxesSubplot at 0x7f319be06fd0>"
            ]
          },
          "metadata": {
            "tags": []
          },
          "execution_count": 11
        },
        {
          "output_type": "display_data",
          "data": {
            "image/png": "[encoded data removed]",
            "text/plain": [
              "<Figure size 432x288 with 1 Axes>"
            ]
          },
          "metadata": {
            "tags": []
          }
        }
      ]
    },
    {
      "cell_type": "code",
      "metadata": {
        "id": "MaoWfiBQKQG2",
        "colab_type": "code",
        "outputId": "ee39b35e-7032-4aec-c706-b58bdd99b8ea",
        "colab": {
          "base_uri": "https://localhost:8080/",
          "height": 321
        }
      },
      "source": [
        "df_val['sentiment'].value_counts().plot(kind='bar')"
      ],
      "execution_count": 12,
      "outputs": [
        {
          "output_type": "execute_result",
          "data": {
            "text/plain": [
              "<matplotlib.axes._subplots.AxesSubplot at 0x7f319bb53cc0>"
            ]
          },
          "metadata": {
            "tags": []
          },
          "execution_count": 12
        },
        {
          "output_type": "display_data",
          "data": {
            "image/png": "[encoded data removed]",
            "text/plain": [
              "<Figure size 432x288 with 1 Axes>"
            ]
          },
          "metadata": {
            "tags": []
          }
        }
      ]
    },
    {
      "cell_type": "markdown",
      "metadata": {
        "id": "mrWWL-PxKiZt",
        "colab_type": "text"
      },
      "source": [
        "Looks like the distribution of the labels in train and val are the same, so we can start modelling now"
      ]
    },
    {
      "cell_type": "markdown",
      "metadata": {
        "id": "lNDdmRdjhOcs",
        "colab_type": "text"
      },
      "source": [
        "# Setting up data for transformers"
      ]
    },
    {
      "cell_type": "code",
      "metadata": {
        "id": "QmsJcRyjhN6P",
        "colab_type": "code",
        "colab": {}
      },
      "source": [
        "MODEL_CLASSES = {\n",
        "    'bert': (BertForSequenceClassification, BertTokenizer, BertConfig),\n",
        "    'xlnet': (XLNetForSequenceClassification, XLNetTokenizer, XLNetConfig),\n",
        "    'xlm': (XLMForSequenceClassification, XLMTokenizer, XLMConfig),\n",
        "    'roberta': (RobertaForSequenceClassification, RobertaTokenizer, RobertaConfig),\n",
        "    'distilbert': (DistilBertForSequenceClassification, DistilBertTokenizer, DistilBertConfig)\n",
        "}\n"
      ],
      "execution_count": 0,
      "outputs": []
    },
    {
      "cell_type": "code",
      "metadata": {
        "id": "Lr8kEitJhQik",
        "colab_type": "code",
        "colab": {}
      },
      "source": [
        "# Parameters\n",
        "# seed = 42\n",
        "use_fp16 = False\n",
        "model_type = 'roberta'\n",
        "pretrained_model_name = 'roberta-base' # 'roberta-base-openai-detector'\n",
        "\n",
        "# model_type = 'bert'\n",
        "# pretrained_model_name='bert-base-uncased'\n",
        "\n",
        "# model_type = 'distilbert'\n",
        "# pretrained_model_name = 'distilbert-base-uncased-distilled-squad'#'distilbert-base-uncased'#'distilbert-base-uncased'\n",
        "\n",
        "#model_type = 'xlm'\n",
        "#pretrained_model_name = 'xlm-clm-enfr-1024'\n",
        "\n",
        "#model_type = 'xlnet'\n",
        "#pretrained_model_name = 'xlnet-base-cased'"
      ],
      "execution_count": 0,
      "outputs": []
    },
    {
      "cell_type": "code",
      "metadata": {
        "id": "VRwrbj_ohUHO",
        "colab_type": "code",
        "outputId": "f57cb3ad-bc32-468d-8c49-8e97286f0e09",
        "colab": {
          "base_uri": "https://localhost:8080/",
          "height": 54
        }
      },
      "source": [
        "model_class, tokenizer_class, config_class = MODEL_CLASSES[model_type]\n",
        "model_class.pretrained_model_archive_map.keys()"
      ],
      "execution_count": 15,
      "outputs": [
        {
          "output_type": "execute_result",
          "data": {
            "text/plain": [
              "dict_keys(['roberta-base', 'roberta-large', 'roberta-large-mnli', 'distilroberta-base', 'roberta-base-openai-detector', 'roberta-large-openai-detector'])"
            ]
          },
          "metadata": {
            "tags": []
          },
          "execution_count": 15
        }
      ]
    },
    {
      "cell_type": "markdown",
      "metadata": {
        "id": "IM3QmtXYhg1h",
        "colab_type": "text"
      },
      "source": [
        "## Setting up tokenizer + numericalizer\n"
      ]
    },
    {
      "cell_type": "code",
      "metadata": {
        "id": "BB_Mk2iFhaIO",
        "colab_type": "code",
        "colab": {}
      },
      "source": [
        "class TransformersBaseTokenizer(BaseTokenizer):\n",
        "    \"\"\"Wrapper around PreTrainedTokenizer to be compatible with fast.ai\"\"\"\n",
        "    def __init__(self, pretrained_tokenizer: PreTrainedTokenizer, model_type = 'bert', **kwargs):\n",
        "        self._pretrained_tokenizer = pretrained_tokenizer\n",
        "        self.max_seq_len = pretrained_tokenizer.max_len\n",
        "        self.model_type = model_type\n",
        "\n",
        "    def __call__(self, *args, **kwargs): \n",
        "        return self\n",
        "\n",
        "    def tokenizer(self, t:str) -> List[str]:\n",
        "        \"\"\"Limits the maximum sequence length and add the spesial tokens\"\"\"\n",
        "        CLS = self._pretrained_tokenizer.cls_token\n",
        "        SEP = self._pretrained_tokenizer.sep_token\n",
        "        if self.model_type in ['roberta']:\n",
        "            tokens = self._pretrained_tokenizer.tokenize(t, add_prefix_space=True)[:self.max_seq_len - 2]\n",
        "        else:\n",
        "            tokens = self._pretrained_tokenizer.tokenize(t)[:self.max_seq_len - 2]\n",
        "        return [CLS] + tokens + [SEP]"
      ],
      "execution_count": 0,
      "outputs": []
    },
    {
      "cell_type": "code",
      "metadata": {
        "id": "ufWfsFnzhl3c",
        "colab_type": "code",
        "outputId": "5b20610b-8cc1-4172-e079-132f85d208ec",
        "colab": {
          "base_uri": "https://localhost:8080/",
          "height": 52
        }
      },
      "source": [
        "transformer_tokenizer = tokenizer_class.from_pretrained(pretrained_model_name)\n",
        "transformer_base_tokenizer = TransformersBaseTokenizer(pretrained_tokenizer = transformer_tokenizer, model_type = model_type)\n",
        "fastai_tokenizer = Tokenizer(tok_func = transformer_base_tokenizer, pre_rules=[], post_rules=[])"
      ],
      "execution_count": 17,
      "outputs": [
        {
          "output_type": "stream",
          "text": [
            "100%|██████████| 898823/898823 [00:00<00:00, 1765560.09B/s]\n",
            "100%|██████████| 456318/456318 [00:00<00:00, 1338917.06B/s]\n"
          ],
          "name": "stderr"
        }
      ]
    },
    {
      "cell_type": "code",
      "metadata": {
        "id": "AfKmo0fWhogF",
        "colab_type": "code",
        "outputId": "8a52f00f-447b-4bf4-d9fe-6f989ecc13f3",
        "colab": {
          "base_uri": "https://localhost:8080/",
          "height": 245
        }
      },
      "source": [
        "tokenizer_class.pretrained_vocab_files_map"
      ],
      "execution_count": 18,
      "outputs": [
        {
          "output_type": "execute_result",
          "data": {
            "text/plain": [
              "{'merges_file': {'distilroberta-base': 'https://s3.amazonaws.com/models.huggingface.co/bert/distilroberta-base-merges.txt',\n",
              "  'roberta-base': 'https://s3.amazonaws.com/models.huggingface.co/bert/roberta-base-merges.txt',\n",
              "  'roberta-base-openai-detector': 'https://s3.amazonaws.com/models.huggingface.co/bert/roberta-base-merges.txt',\n",
              "  'roberta-large': 'https://s3.amazonaws.com/models.huggingface.co/bert/roberta-large-merges.txt',\n",
              "  'roberta-large-mnli': 'https://s3.amazonaws.com/models.huggingface.co/bert/roberta-large-mnli-merges.txt',\n",
              "  'roberta-large-openai-detector': 'https://s3.amazonaws.com/models.huggingface.co/bert/roberta-large-merges.txt'},\n",
              " 'vocab_file': {'distilroberta-base': 'https://s3.amazonaws.com/models.huggingface.co/bert/distilroberta-base-vocab.json',\n",
              "  'roberta-base': 'https://s3.amazonaws.com/models.huggingface.co/bert/roberta-base-vocab.json',\n",
              "  'roberta-base-openai-detector': 'https://s3.amazonaws.com/models.huggingface.co/bert/roberta-base-vocab.json',\n",
              "  'roberta-large': 'https://s3.amazonaws.com/models.huggingface.co/bert/roberta-large-vocab.json',\n",
              "  'roberta-large-mnli': 'https://s3.amazonaws.com/models.huggingface.co/bert/roberta-large-mnli-vocab.json',\n",
              "  'roberta-large-openai-detector': 'https://s3.amazonaws.com/models.huggingface.co/bert/roberta-large-vocab.json'}}"
            ]
          },
          "metadata": {
            "tags": []
          },
          "execution_count": 18
        }
      ]
    },
    {
      "cell_type": "code",
      "metadata": {
        "id": "e42OyYUEhqav",
        "colab_type": "code",
        "colab": {}
      },
      "source": [
        "class TransformersVocab(Vocab):\n",
        "    def __init__(self, tokenizer: PreTrainedTokenizer):\n",
        "        super(TransformersVocab, self).__init__(itos = [])\n",
        "        self.tokenizer = tokenizer\n",
        "    \n",
        "    def numericalize(self, t:Collection[str]) -> List[int]:\n",
        "        \"Convert a list of tokens `t` to their ids.\"\n",
        "        return self.tokenizer.convert_tokens_to_ids(t)\n",
        "        #return self.tokenizer.encode(t)\n",
        "\n",
        "    def textify(self, nums:Collection[int], sep=' ') -> List[str]:\n",
        "        \"Convert a list of `nums` to their tokens.\"\n",
        "        nums = np.array(nums).tolist()\n",
        "        return sep.join(self.tokenizer.convert_ids_to_tokens(nums)) if sep is not None else self.tokenizer.convert_ids_to_tokens(nums)"
      ],
      "execution_count": 0,
      "outputs": []
    },
    {
      "cell_type": "code",
      "metadata": {
        "id": "6KqWBee4hxz1",
        "colab_type": "code",
        "colab": {}
      },
      "source": [
        "transformer_vocab =  TransformersVocab(tokenizer = transformer_tokenizer)\n",
        "numericalize_processor = NumericalizeProcessor(vocab=transformer_vocab)\n",
        "\n",
        "tokenize_processor = TokenizeProcessor(tokenizer=fastai_tokenizer, include_bos=False, include_eos=False)\n",
        "\n",
        "transformer_processor = [tokenize_processor, numericalize_processor]"
      ],
      "execution_count": 0,
      "outputs": []
    },
    {
      "cell_type": "markdown",
      "metadata": {
        "id": "VQZYkF0fh8yN",
        "colab_type": "text"
      },
      "source": [
        "## Setting up databunch\n"
      ]
    },
    {
      "cell_type": "code",
      "metadata": {
        "id": "lralLwd8h7XE",
        "colab_type": "code",
        "colab": {}
      },
      "source": [
        "pad_first = bool(model_type in ['xlnet'])\n",
        "pad_idx = transformer_tokenizer.pad_token_id"
      ],
      "execution_count": 0,
      "outputs": []
    },
    {
      "cell_type": "code",
      "metadata": {
        "id": "elHGg4NTiBWd",
        "colab_type": "code",
        "colab": {}
      },
      "source": [
        "bs = 32\n",
        "\n",
        "data_clas = (TextList.from_df(df, cols='text', processor=transformer_processor)\n",
        "             .split_by_idxs(train_idx, val_idx)\n",
        "             .label_from_df(cols= 'sentiment')\n",
        "             .databunch(bs=bs, pad_first=pad_first, pad_idx=pad_idx))\n",
        "\n"
      ],
      "execution_count": 0,
      "outputs": []
    },
    {
      "cell_type": "code",
      "metadata": {
        "id": "jtFBaIN9iolm",
        "colab_type": "code",
        "outputId": "eeee8104-b261-4d79-e908-b959a58f601e",
        "colab": {
          "base_uri": "https://localhost:8080/",
          "height": 345
        }
      },
      "source": [
        "print('[CLS] token :', transformer_tokenizer.cls_token)\n",
        "print('[SEP] token :', transformer_tokenizer.sep_token)\n",
        "print('[PAD] token :', transformer_tokenizer.pad_token)\n",
        "data_clas.show_batch()"
      ],
      "execution_count": 23,
      "outputs": [
        {
          "output_type": "stream",
          "text": [
            "[CLS] token : <s>\n",
            "[SEP] token : </s>\n",
            "[PAD] token : <pad>\n"
          ],
          "name": "stdout"
        },
        {
          "output_type": "display_data",
          "data": {
            "text/html": [
              "<table border=\"1\" class=\"dataframe\">\n",
              "  <thead>\n",
              "    <tr style=\"text-align: right;\">\n",
              "      <th>text</th>\n",
              "      <th>target</th>\n",
              "    </tr>\n",
              "  </thead>\n",
              "  <tbody>\n",
              "    <tr>\n",
              "      <td>&lt;s&gt; ĠRT Ġ@ to pperc ool : Ġ@ day dev Ġ à¹ Ħ à¸ ¡ à¹ Ī à¹ ĥ à¸ Ĭ à¹ Ī à¸ Ħ à¸ £ à¸ ± à¸ ļ Ġ Ġ à¸ ķ à¸ ¥ à¸ ² à¸ Ķ à¸ Ĺ à¸ Ń à¸ ĩ à¹ Ģ à¸ ķ à¹ ĩ à¸ ¡ à¸ ķ à¸ ± à¸ § Ġ à¸ Ħ à¸ · à¸ Ń à¸ Ń</td>\n",
              "      <td>unrelated</td>\n",
              "    </tr>\n",
              "    <tr>\n",
              "      <td>&lt;s&gt; ĠChina Ġis Ġalready Ġdumping Ġits ĠU . S . D ĠAnd ĠLoading Ġup Ġon Ġ$ Gold . Ġ# China Ġwinding Ġdown ĠU . ĠS Ġ# Tre as uries , Ġloading Ġup ĠGold . ĠRead Ġmore Ġhttps :// t . co / ro Hy qt K rd 5 Ġ ĠðŁ Ĵ Ľ ðŁ Ĵ ľ ðŁ Ĵ Ľ ðŁ Ĵ ľ ðŁ Ĵ Ľ ðŁ Ĵ ľ ðŁ Ĵ ľ</td>\n",
              "      <td>bullish</td>\n",
              "    </tr>\n",
              "    <tr>\n",
              "      <td>&lt;s&gt; Ġ2019 ĠReturns ... ĠWhich Ġone Ġdo Ġyou Ġhave ? ĠðŁ ¤ Ķ Ċ Bitcoin Ġ$ BTC : Ġ+ 116 % Ċ Oil Ġ$ US O : Ġ+ 33 % Ċ RE IT s Ġ$ V N Q : Ġ+ 18 % Ċ N as daq Ġ100 Ġ$ Q Q Q : Ġ+ 17 % Ċ Small ĠCaps Ġ$ I WM : Ġ+ 14 % Ċ S &amp; amp ;</td>\n",
              "      <td>unrelated</td>\n",
              "    </tr>\n",
              "    <tr>\n",
              "      <td>&lt;s&gt; ĠMore Ġ# Trade H acks Ġin Ġmy Ġ# ebook s : Ċ https :// t . co / U q ee J kr q U f Âł Ċ Ċ $ ES _ F Ġ$ N Q _ F Ġ$ Z B _ F Ġ$ SP X Ġ$ R UT Ġ$ A AP L Ġ$ NFL X Ġ$ AM Z N Ġ$ TS LA Ġ$ V IX Ġ$ FB Ġ$</td>\n",
              "      <td>unrelated</td>\n",
              "    </tr>\n",
              "    <tr>\n",
              "      <td>&lt;s&gt; Ġ$ SH MP Ġ- Ġ. 184 Ġ- Ġon Ġthe Ġchart Ġbase ! ĠEveryone Ġloves ĠNatural ĠFresh ĠSh rimp ! Ġ$ AM Z N Ġ$ TS LA Ġ$ W MT Ġ$ T GT Ġ$ NV DA Ġ$ SP Y Ġ$ GL D Ġ$ E BA Y Ġ$ A AP L Ġ$ FB Ġ$ TW TR Ġ$ GS Ġ$ S Ġ$ G OO G Ġ$ DIS Ġ Ġ$ IB M Ġ$</td>\n",
              "      <td>unrelated</td>\n",
              "    </tr>\n",
              "  </tbody>\n",
              "</table>"
            ],
            "text/plain": [
              "<IPython.core.display.HTML object>"
            ]
          },
          "metadata": {
            "tags": []
          }
        }
      ]
    },
    {
      "cell_type": "code",
      "metadata": {
        "id": "KApZcW2iiynP",
        "colab_type": "code",
        "outputId": "33b13400-c9ac-4930-ab21-f59dff3323be",
        "colab": {
          "base_uri": "https://localhost:8080/",
          "height": 208
        }
      },
      "source": [
        "# checking batch and numericalizer\n",
        "\n",
        "print('[CLS] id :', transformer_tokenizer.cls_token_id)\n",
        "print('[SEP] id :', transformer_tokenizer.sep_token_id)\n",
        "print('[PAD] id :', pad_idx)\n",
        "test_one_batch = data_clas.one_batch()[0]\n",
        "print('Batch shape : ',test_one_batch.shape)\n",
        "print(test_one_batch)\n",
        "\n"
      ],
      "execution_count": 24,
      "outputs": [
        {
          "output_type": "stream",
          "text": [
            "[CLS] id : 0\n",
            "[SEP] id : 2\n",
            "[PAD] id : 1\n",
            "Batch shape :  torch.Size([32, 202])\n",
            "tensor([[    0, 10541,   787,  ..., 24107,  5543,     2],\n",
            "        [    0,   901,   849,  ...,     1,     1,     1],\n",
            "        [    0,    68, 10237,  ...,     1,     1,     1],\n",
            "        ...,\n",
            "        [    0,   188,  2589,  ...,     1,     1,     1],\n",
            "        [    0,  1541,  2521,  ...,     1,     1,     1],\n",
            "        [    0,    68,  4186,  ...,     1,     1,     1]])\n"
          ],
          "name": "stdout"
        }
      ]
    },
    {
      "cell_type": "markdown",
      "metadata": {
        "id": "7ye6u9YhjAjH",
        "colab_type": "text"
      },
      "source": [
        "# RoBERTa"
      ]
    },
    {
      "cell_type": "code",
      "metadata": {
        "id": "OGhkWAqii4ld",
        "colab_type": "code",
        "colab": {}
      },
      "source": [
        "class CustomTransformerModel(nn.Module):\n",
        "    def __init__(self, transformer_model: PreTrainedModel):\n",
        "        super(CustomTransformerModel,self).__init__()\n",
        "        self.transformer = transformer_model\n",
        "        \n",
        "    def forward(self, input_ids, attention_mask=None):\n",
        "        \n",
        "        #attention_mask = (input_ids!=1).type(input_ids.type()) # Test attention_mask for RoBERTa\n",
        "        \n",
        "        logits = self.transformer(input_ids,\n",
        "                                attention_mask = attention_mask)[0]   \n",
        "        return logits"
      ],
      "execution_count": 0,
      "outputs": []
    },
    {
      "cell_type": "code",
      "metadata": {
        "id": "6v7nVxGbjdG9",
        "colab_type": "code",
        "outputId": "32b8928f-339a-4fc6-c328-af2243abe20f",
        "colab": {
          "base_uri": "https://localhost:8080/",
          "height": 451
        }
      },
      "source": [
        "n_labels = 4\n",
        "\n",
        "config = config_class.from_pretrained(pretrained_model_name)\n",
        "config.num_labels = n_labels\n",
        "config.use_bfloat16 = use_fp16\n",
        "print(config)"
      ],
      "execution_count": 26,
      "outputs": [
        {
          "output_type": "stream",
          "text": [
            "100%|██████████| 473/473 [00:00<00:00, 141132.94B/s]"
          ],
          "name": "stderr"
        },
        {
          "output_type": "stream",
          "text": [
            "{\n",
            "  \"attention_probs_dropout_prob\": 0.1,\n",
            "  \"finetuning_task\": null,\n",
            "  \"hidden_act\": \"gelu\",\n",
            "  \"hidden_dropout_prob\": 0.1,\n",
            "  \"hidden_size\": 768,\n",
            "  \"initializer_range\": 0.02,\n",
            "  \"intermediate_size\": 3072,\n",
            "  \"is_decoder\": false,\n",
            "  \"layer_norm_eps\": 1e-05,\n",
            "  \"max_position_embeddings\": 514,\n",
            "  \"num_attention_heads\": 12,\n",
            "  \"num_hidden_layers\": 12,\n",
            "  \"num_labels\": 4,\n",
            "  \"output_attentions\": false,\n",
            "  \"output_hidden_states\": false,\n",
            "  \"output_past\": true,\n",
            "  \"pruned_heads\": {},\n",
            "  \"torchscript\": false,\n",
            "  \"type_vocab_size\": 1,\n",
            "  \"use_bfloat16\": false,\n",
            "  \"vocab_size\": 50265\n",
            "}\n",
            "\n"
          ],
          "name": "stdout"
        },
        {
          "output_type": "stream",
          "text": [
            "\n"
          ],
          "name": "stderr"
        }
      ]
    },
    {
      "cell_type": "code",
      "metadata": {
        "id": "Q1hSeT81jhdK",
        "colab_type": "code",
        "colab": {
          "base_uri": "https://localhost:8080/",
          "height": 34
        },
        "outputId": "000ae9be-0779-4fe4-f9c8-c2b6dd373d00"
      },
      "source": [
        "transformer_model = model_class.from_pretrained(pretrained_model_name, config = config)\n",
        "\n",
        "custom_transformer_model = CustomTransformerModel(transformer_model = transformer_model)"
      ],
      "execution_count": 27,
      "outputs": [
        {
          "output_type": "stream",
          "text": [
            "100%|██████████| 501200538/501200538 [00:17<00:00, 29296270.73B/s]\n"
          ],
          "name": "stderr"
        }
      ]
    },
    {
      "cell_type": "markdown",
      "metadata": {
        "id": "0Twth-Kqj_MA",
        "colab_type": "text"
      },
      "source": [
        "## Creating learner"
      ]
    },
    {
      "cell_type": "code",
      "metadata": {
        "id": "30kj8X6Vjl-O",
        "colab_type": "code",
        "colab": {}
      },
      "source": [
        "from transformers import AdamW"
      ],
      "execution_count": 0,
      "outputs": []
    },
    {
      "cell_type": "code",
      "metadata": {
        "id": "ck8Xd9S_kGbp",
        "colab_type": "code",
        "outputId": "58ddbb72-686e-4e7c-bc71-2fb877fe8789",
        "colab": {
          "base_uri": "https://localhost:8080/",
          "height": 34
        }
      },
      "source": [
        "try: \n",
        "    learn.destroy()\n",
        "except:\n",
        "    'no learner created'\n",
        "\n",
        "learn = Learner(data_clas,\n",
        "               custom_transformer_model,\n",
        "               opt_func = lambda input: AdamW(input,correct_bias=False),\n",
        "               loss_func = FlattenedLoss(LabelSmoothingCrossEntropy, axis=-1),\n",
        "               metrics = [accuracy])"
      ],
      "execution_count": 37,
      "outputs": [
        {
          "output_type": "stream",
          "text": [
            "this Learner object self-destroyed - it still exists, but no longer usable\n"
          ],
          "name": "stdout"
        }
      ]
    },
    {
      "cell_type": "markdown",
      "metadata": {
        "id": "CPJZb0kUkd80",
        "colab_type": "text"
      },
      "source": [
        "### Creating layer splitting for gradual unfreezing and discriminative learning rates\n",
        "\n",
        "use   \"num_hidden_layers\" in config + 2 (1 for embedding and 1 for head)"
      ]
    },
    {
      "cell_type": "code",
      "metadata": {
        "id": "BjACE6gekRxw",
        "colab_type": "code",
        "colab": {}
      },
      "source": [
        "# For roberta-base\n",
        "list_layers = [learn.model.transformer.roberta.embeddings,\n",
        "              learn.model.transformer.roberta.encoder.layer[0],\n",
        "              learn.model.transformer.roberta.encoder.layer[1],\n",
        "              learn.model.transformer.roberta.encoder.layer[2],\n",
        "              learn.model.transformer.roberta.encoder.layer[3],\n",
        "              learn.model.transformer.roberta.encoder.layer[4],\n",
        "              learn.model.transformer.roberta.encoder.layer[5],\n",
        "              learn.model.transformer.roberta.encoder.layer[6],\n",
        "              learn.model.transformer.roberta.encoder.layer[7],\n",
        "              learn.model.transformer.roberta.encoder.layer[8],\n",
        "              learn.model.transformer.roberta.encoder.layer[9],\n",
        "              learn.model.transformer.roberta.encoder.layer[10],\n",
        "              learn.model.transformer.roberta.encoder.layer[11],\n",
        "              learn.model.transformer.roberta.pooler]"
      ],
      "execution_count": 0,
      "outputs": []
    },
    {
      "cell_type": "code",
      "metadata": {
        "id": "W1EMlOm6kr22",
        "colab_type": "code",
        "outputId": "116d6ae1-21fc-47a7-b5c7-da40799a5e33",
        "colab": {
          "base_uri": "https://localhost:8080/",
          "height": 34
        }
      },
      "source": [
        "# check groups\n",
        "learn.split(list_layers)\n",
        "num_groups = len(learn.layer_groups)\n",
        "print('Learner split in',num_groups,'groups')\n",
        "# print(learn.layer_groups)\n",
        "\n"
      ],
      "execution_count": 39,
      "outputs": [
        {
          "output_type": "stream",
          "text": [
            "Learner split in 14 groups\n"
          ],
          "name": "stdout"
        }
      ]
    },
    {
      "cell_type": "markdown",
      "metadata": {
        "id": "BBjFUqKQxgdh",
        "colab_type": "text"
      },
      "source": [
        "Optional: Freeze the model to train the head"
      ]
    },
    {
      "cell_type": "code",
      "metadata": {
        "id": "yK12C4yxk7vh",
        "colab_type": "code",
        "colab": {
          "base_uri": "https://localhost:8080/",
          "height": 1000
        },
        "outputId": "febda3a7-5ed1-4845-e9e7-5ccae09a1ed3"
      },
      "source": [
        "# learn.freeze();\n",
        "\n",
        "learn.unfreeze();\n",
        "learn.summary()"
      ],
      "execution_count": 40,
      "outputs": [
        {
          "output_type": "execute_result",
          "data": {
            "text/plain": [
              "CustomTransformerModel\n",
              "======================================================================\n",
              "Layer (type)         Output Shape         Param #    Trainable \n",
              "======================================================================\n",
              "Embedding            [202, 768]           38,603,520 True      \n",
              "______________________________________________________________________\n",
              "Embedding            [202, 768]           394,752    True      \n",
              "______________________________________________________________________\n",
              "Embedding            [202, 768]           768        True      \n",
              "______________________________________________________________________\n",
              "LayerNorm            [202, 768]           1,536      True      \n",
              "______________________________________________________________________\n",
              "Dropout              [202, 768]           0          False     \n",
              "______________________________________________________________________\n",
              "Linear               [202, 768]           590,592    True      \n",
              "______________________________________________________________________\n",
              "Linear               [202, 768]           590,592    True      \n",
              "______________________________________________________________________\n",
              "Linear               [202, 768]           590,592    True      \n",
              "______________________________________________________________________\n",
              "Dropout              [12, 202, 202]       0          False     \n",
              "______________________________________________________________________\n",
              "Linear               [202, 768]           590,592    True      \n",
              "______________________________________________________________________\n",
              "LayerNorm            [202, 768]           1,536      True      \n",
              "______________________________________________________________________\n",
              "Dropout              [202, 768]           0          False     \n",
              "______________________________________________________________________\n",
              "Linear               [202, 3072]          2,362,368  True      \n",
              "______________________________________________________________________\n",
              "Linear               [202, 768]           2,360,064  True      \n",
              "______________________________________________________________________\n",
              "LayerNorm            [202, 768]           1,536      True      \n",
              "______________________________________________________________________\n",
              "Dropout              [202, 768]           0          False     \n",
              "______________________________________________________________________\n",
              "Linear               [202, 768]           590,592    True      \n",
              "______________________________________________________________________\n",
              "Linear               [202, 768]           590,592    True      \n",
              "______________________________________________________________________\n",
              "Linear               [202, 768]           590,592    True      \n",
              "______________________________________________________________________\n",
              "Dropout              [12, 202, 202]       0          False     \n",
              "______________________________________________________________________\n",
              "Linear               [202, 768]           590,592    True      \n",
              "______________________________________________________________________\n",
              "LayerNorm            [202, 768]           1,536      True      \n",
              "______________________________________________________________________\n",
              "Dropout              [202, 768]           0          False     \n",
              "______________________________________________________________________\n",
              "Linear               [202, 3072]          2,362,368  True      \n",
              "______________________________________________________________________\n",
              "Linear               [202, 768]           2,360,064  True      \n",
              "______________________________________________________________________\n",
              "LayerNorm            [202, 768]           1,536      True      \n",
              "______________________________________________________________________\n",
              "Dropout              [202, 768]           0          False     \n",
              "______________________________________________________________________\n",
              "Linear               [202, 768]           590,592    True      \n",
              "______________________________________________________________________\n",
              "Linear               [202, 768]           590,592    True      \n",
              "______________________________________________________________________\n",
              "Linear               [202, 768]           590,592    True      \n",
              "______________________________________________________________________\n",
              "Dropout              [12, 202, 202]       0          False     \n",
              "______________________________________________________________________\n",
              "Linear               [202, 768]           590,592    True      \n",
              "______________________________________________________________________\n",
              "LayerNorm            [202, 768]           1,536      True      \n",
              "______________________________________________________________________\n",
              "Dropout              [202, 768]           0          False     \n",
              "______________________________________________________________________\n",
              "Linear               [202, 3072]          2,362,368  True      \n",
              "______________________________________________________________________\n",
              "Linear               [202, 768]           2,360,064  True      \n",
              "______________________________________________________________________\n",
              "LayerNorm            [202, 768]           1,536      True      \n",
              "______________________________________________________________________\n",
              "Dropout              [202, 768]           0          False     \n",
              "______________________________________________________________________\n",
              "Linear               [202, 768]           590,592    True      \n",
              "______________________________________________________________________\n",
              "Linear               [202, 768]           590,592    True      \n",
              "______________________________________________________________________\n",
              "Linear               [202, 768]           590,592    True      \n",
              "______________________________________________________________________\n",
              "Dropout              [12, 202, 202]       0          False     \n",
              "______________________________________________________________________\n",
              "Linear               [202, 768]           590,592    True      \n",
              "______________________________________________________________________\n",
              "LayerNorm            [202, 768]           1,536      True      \n",
              "______________________________________________________________________\n",
              "Dropout              [202, 768]           0          False     \n",
              "______________________________________________________________________\n",
              "Linear               [202, 3072]          2,362,368  True      \n",
              "______________________________________________________________________\n",
              "Linear               [202, 768]           2,360,064  True      \n",
              "______________________________________________________________________\n",
              "LayerNorm            [202, 768]           1,536      True      \n",
              "______________________________________________________________________\n",
              "Dropout              [202, 768]           0          False     \n",
              "______________________________________________________________________\n",
              "Linear               [202, 768]           590,592    True      \n",
              "______________________________________________________________________\n",
              "Linear               [202, 768]           590,592    True      \n",
              "______________________________________________________________________\n",
              "Linear               [202, 768]           590,592    True      \n",
              "______________________________________________________________________\n",
              "Dropout              [12, 202, 202]       0          False     \n",
              "______________________________________________________________________\n",
              "Linear               [202, 768]           590,592    True      \n",
              "______________________________________________________________________\n",
              "LayerNorm            [202, 768]           1,536      True      \n",
              "______________________________________________________________________\n",
              "Dropout              [202, 768]           0          False     \n",
              "______________________________________________________________________\n",
              "Linear               [202, 3072]          2,362,368  True      \n",
              "______________________________________________________________________\n",
              "Linear               [202, 768]           2,360,064  True      \n",
              "______________________________________________________________________\n",
              "LayerNorm            [202, 768]           1,536      True      \n",
              "______________________________________________________________________\n",
              "Dropout              [202, 768]           0          False     \n",
              "______________________________________________________________________\n",
              "Linear               [202, 768]           590,592    True      \n",
              "______________________________________________________________________\n",
              "Linear               [202, 768]           590,592    True      \n",
              "______________________________________________________________________\n",
              "Linear               [202, 768]           590,592    True      \n",
              "______________________________________________________________________\n",
              "Dropout              [12, 202, 202]       0          False     \n",
              "______________________________________________________________________\n",
              "Linear               [202, 768]           590,592    True      \n",
              "______________________________________________________________________\n",
              "LayerNorm            [202, 768]           1,536      True      \n",
              "______________________________________________________________________\n",
              "Dropout              [202, 768]           0          False     \n",
              "______________________________________________________________________\n",
              "Linear               [202, 3072]          2,362,368  True      \n",
              "______________________________________________________________________\n",
              "Linear               [202, 768]           2,360,064  True      \n",
              "______________________________________________________________________\n",
              "LayerNorm            [202, 768]           1,536      True      \n",
              "______________________________________________________________________\n",
              "Dropout              [202, 768]           0          False     \n",
              "______________________________________________________________________\n",
              "Linear               [202, 768]           590,592    True      \n",
              "______________________________________________________________________\n",
              "Linear               [202, 768]           590,592    True      \n",
              "______________________________________________________________________\n",
              "Linear               [202, 768]           590,592    True      \n",
              "______________________________________________________________________\n",
              "Dropout              [12, 202, 202]       0          False     \n",
              "______________________________________________________________________\n",
              "Linear               [202, 768]           590,592    True      \n",
              "______________________________________________________________________\n",
              "LayerNorm            [202, 768]           1,536      True      \n",
              "______________________________________________________________________\n",
              "Dropout              [202, 768]           0          False     \n",
              "______________________________________________________________________\n",
              "Linear               [202, 3072]          2,362,368  True      \n",
              "______________________________________________________________________\n",
              "Linear               [202, 768]           2,360,064  True      \n",
              "______________________________________________________________________\n",
              "LayerNorm            [202, 768]           1,536      True      \n",
              "______________________________________________________________________\n",
              "Dropout              [202, 768]           0          False     \n",
              "______________________________________________________________________\n",
              "Linear               [202, 768]           590,592    True      \n",
              "______________________________________________________________________\n",
              "Linear               [202, 768]           590,592    True      \n",
              "______________________________________________________________________\n",
              "Linear               [202, 768]           590,592    True      \n",
              "______________________________________________________________________\n",
              "Dropout              [12, 202, 202]       0          False     \n",
              "______________________________________________________________________\n",
              "Linear               [202, 768]           590,592    True      \n",
              "______________________________________________________________________\n",
              "LayerNorm            [202, 768]           1,536      True      \n",
              "______________________________________________________________________\n",
              "Dropout              [202, 768]           0          False     \n",
              "______________________________________________________________________\n",
              "Linear               [202, 3072]          2,362,368  True      \n",
              "______________________________________________________________________\n",
              "Linear               [202, 768]           2,360,064  True      \n",
              "______________________________________________________________________\n",
              "LayerNorm            [202, 768]           1,536      True      \n",
              "______________________________________________________________________\n",
              "Dropout              [202, 768]           0          False     \n",
              "______________________________________________________________________\n",
              "Linear               [202, 768]           590,592    True      \n",
              "______________________________________________________________________\n",
              "Linear               [202, 768]           590,592    True      \n",
              "______________________________________________________________________\n",
              "Linear               [202, 768]           590,592    True      \n",
              "______________________________________________________________________\n",
              "Dropout              [12, 202, 202]       0          False     \n",
              "______________________________________________________________________\n",
              "Linear               [202, 768]           590,592    True      \n",
              "______________________________________________________________________\n",
              "LayerNorm            [202, 768]           1,536      True      \n",
              "______________________________________________________________________\n",
              "Dropout              [202, 768]           0          False     \n",
              "______________________________________________________________________\n",
              "Linear               [202, 3072]          2,362,368  True      \n",
              "______________________________________________________________________\n",
              "Linear               [202, 768]           2,360,064  True      \n",
              "______________________________________________________________________\n",
              "LayerNorm            [202, 768]           1,536      True      \n",
              "______________________________________________________________________\n",
              "Dropout              [202, 768]           0          False     \n",
              "______________________________________________________________________\n",
              "Linear               [202, 768]           590,592    True      \n",
              "______________________________________________________________________\n",
              "Linear               [202, 768]           590,592    True      \n",
              "______________________________________________________________________\n",
              "Linear               [202, 768]           590,592    True      \n",
              "______________________________________________________________________\n",
              "Dropout              [12, 202, 202]       0          False     \n",
              "______________________________________________________________________\n",
              "Linear               [202, 768]           590,592    True      \n",
              "______________________________________________________________________\n",
              "LayerNorm            [202, 768]           1,536      True      \n",
              "______________________________________________________________________\n",
              "Dropout              [202, 768]           0          False     \n",
              "______________________________________________________________________\n",
              "Linear               [202, 3072]          2,362,368  True      \n",
              "______________________________________________________________________\n",
              "Linear               [202, 768]           2,360,064  True      \n",
              "______________________________________________________________________\n",
              "LayerNorm            [202, 768]           1,536      True      \n",
              "______________________________________________________________________\n",
              "Dropout              [202, 768]           0          False     \n",
              "______________________________________________________________________\n",
              "Linear               [202, 768]           590,592    True      \n",
              "______________________________________________________________________\n",
              "Linear               [202, 768]           590,592    True      \n",
              "______________________________________________________________________\n",
              "Linear               [202, 768]           590,592    True      \n",
              "______________________________________________________________________\n",
              "Dropout              [12, 202, 202]       0          False     \n",
              "______________________________________________________________________\n",
              "Linear               [202, 768]           590,592    True      \n",
              "______________________________________________________________________\n",
              "LayerNorm            [202, 768]           1,536      True      \n",
              "______________________________________________________________________\n",
              "Dropout              [202, 768]           0          False     \n",
              "______________________________________________________________________\n",
              "Linear               [202, 3072]          2,362,368  True      \n",
              "______________________________________________________________________\n",
              "Linear               [202, 768]           2,360,064  True      \n",
              "______________________________________________________________________\n",
              "LayerNorm            [202, 768]           1,536      True      \n",
              "______________________________________________________________________\n",
              "Dropout              [202, 768]           0          False     \n",
              "______________________________________________________________________\n",
              "Linear               [202, 768]           590,592    True      \n",
              "______________________________________________________________________\n",
              "Linear               [202, 768]           590,592    True      \n",
              "______________________________________________________________________\n",
              "Linear               [202, 768]           590,592    True      \n",
              "______________________________________________________________________\n",
              "Dropout              [12, 202, 202]       0          False     \n",
              "______________________________________________________________________\n",
              "Linear               [202, 768]           590,592    True      \n",
              "______________________________________________________________________\n",
              "LayerNorm            [202, 768]           1,536      True      \n",
              "______________________________________________________________________\n",
              "Dropout              [202, 768]           0          False     \n",
              "______________________________________________________________________\n",
              "Linear               [202, 3072]          2,362,368  True      \n",
              "______________________________________________________________________\n",
              "Linear               [202, 768]           2,360,064  True      \n",
              "______________________________________________________________________\n",
              "LayerNorm            [202, 768]           1,536      True      \n",
              "______________________________________________________________________\n",
              "Dropout              [202, 768]           0          False     \n",
              "______________________________________________________________________\n",
              "Linear               [768]                590,592    True      \n",
              "______________________________________________________________________\n",
              "Tanh                 [768]                0          False     \n",
              "______________________________________________________________________\n",
              "Linear               [768]                590,592    True      \n",
              "______________________________________________________________________\n",
              "Dropout              [768]                0          False     \n",
              "______________________________________________________________________\n",
              "Linear               [4]                  3,076      True      \n",
              "______________________________________________________________________\n",
              "\n",
              "Total params: 125,239,300\n",
              "Total trainable params: 125,239,300\n",
              "Total non-trainable params: 0\n",
              "Optimized with f3197b1bd08\n",
              "Using true weight decay as discussed in https://www.fast.ai/2018/07/02/adam-weight-decay/ \n",
              "Loss function : FlattenedLoss\n",
              "======================================================================\n",
              "Callbacks functions applied "
            ]
          },
          "metadata": {
            "tags": []
          },
          "execution_count": 40
        }
      ]
    },
    {
      "cell_type": "code",
      "metadata": {
        "id": "HBlWmpdrlJxq",
        "colab_type": "code",
        "outputId": "a7775f8b-f34e-4f50-998d-6fd43f61bff7",
        "colab": {
          "base_uri": "https://localhost:8080/",
          "height": 331
        }
      },
      "source": [
        "learn.lr_find()\n",
        "learn.recorder.plot(suggestion = True, skip_end=15)"
      ],
      "execution_count": 33,
      "outputs": [
        {
          "output_type": "display_data",
          "data": {
            "text/html": [
              ""
            ],
            "text/plain": [
              "<IPython.core.display.HTML object>"
            ]
          },
          "metadata": {
            "tags": []
          }
        },
        {
          "output_type": "stream",
          "text": [
            "LR Finder is complete, type {learner_name}.recorder.plot() to see the graph.\n",
            "Min numerical gradient: 4.37E-05\n",
            "Min loss divided by 10: 5.25E-06\n"
          ],
          "name": "stdout"
        },
        {
          "output_type": "display_data",
          "data": {
            "image/png": "[encoded data removed]",
            "text/plain": [
              "<Figure size 432x288 with 1 Axes>"
            ]
          },
          "metadata": {
            "tags": []
          }
        }
      ]
    },
    {
      "cell_type": "code",
      "metadata": {
        "id": "m6PHHECClV1H",
        "colab_type": "code",
        "outputId": "5e721acc-0b1a-40da-d82c-c26ebab7d169",
        "colab": {
          "base_uri": "https://localhost:8080/",
          "height": 729
        }
      },
      "source": [
        "learn.to_fp16()\n",
        "\n",
        "lr_init = 3e-5\n",
        "lr = lr_init\n",
        "\n",
        "\"\"\"Training without adjusting the momentum\"\"\"\n",
        "learn.fit_one_cycle(10, \n",
        "                    lr, \n",
        "                    pct_start = 0.3,\n",
        "                    callbacks=[SaveModelCallback(learn, every='improvement', monitor='accuracy', \n",
        "                                                 name='classifier_stage1')])\n",
        "\n",
        "\"\"\"Training discriminative learning rates\"\"\"\n",
        "# learn.fit_one_cycle(5, \n",
        "#                     slice(lr/10, lr), \n",
        "#                     callbacks=[SaveModelCallback(learn, every='improvement', monitor='accuracy', \n",
        "#                                                  name='classifier_stage1')])\n",
        "\"\"\"\n",
        "Clipping momentum\n",
        "\"\"\"\n",
        "\n",
        "\n",
        "# learn.fit_one_cycle(10, \n",
        "#                     lr, \n",
        "#                     moms=(0.8,0.7),\n",
        "#                     callbacks=[SaveModelCallback(learn, every='improvement', monitor='accuracy', \n",
        "#                                                  name='classifier_stage1')])\n",
        "\n",
        "\"\"\"\n",
        "\n",
        "Warmup cosine with restarts\n",
        "\n",
        "\"\"\"\n",
        "\n",
        "# def fit_sgd_warm(learn, n_cycles, lr, mom, cycle_len, cycle_mult):\n",
        "#     n = len(learn.data.train_dl)\n",
        "#     phases = [(TrainingPhase(n * (cycle_len * cycle_mult**i))\n",
        "#                  .schedule_hp('lr', lr, anneal=annealing_cos)\n",
        "#                 #  .schedule_hp('mom', mom)) for i in range(n_cycles)]# remove to keep mom the same\n",
        "#     sched = GeneralScheduler(learn, phases)\n",
        "#     learn.callbacks.append(sched)\n",
        "#     if cycle_mult != 1:\n",
        "#         total_epochs = int(cycle_len * (1 - (cycle_mult)**n_cycles)/(1-cycle_mult)) \n",
        "#     else: total_epochs = n_cycles * cycle_len\n",
        "\n",
        "#     learn.fit(total_epochs, \n",
        "#               callbacks=[SaveModelCallback(learn, every='improvement', monitor='accuracy', \n",
        "#                                                  name='classifier_stage1')])\n",
        "\n",
        "# fit_sgd_warm(learn, 3, 1e-3, 0.9, 1, 2)\n",
        "\n",
        "\n",
        "learn.recorder.plot_losses()"
      ],
      "execution_count": 41,
      "outputs": [
        {
          "output_type": "display_data",
          "data": {
            "text/html": [
              "<table border=\"1\" class=\"dataframe\">\n",
              "  <thead>\n",
              "    <tr style=\"text-align: left;\">\n",
              "      <th>epoch</th>\n",
              "      <th>train_loss</th>\n",
              "      <th>valid_loss</th>\n",
              "      <th>accuracy</th>\n",
              "      <th>time</th>\n",
              "    </tr>\n",
              "  </thead>\n",
              "  <tbody>\n",
              "    <tr>\n",
              "      <td>0</td>\n",
              "      <td>0.568935</td>\n",
              "      <td>0.721980</td>\n",
              "      <td>0.830843</td>\n",
              "      <td>01:45</td>\n",
              "    </tr>\n",
              "    <tr>\n",
              "      <td>1</td>\n",
              "      <td>0.612938</td>\n",
              "      <td>0.699195</td>\n",
              "      <td>0.838847</td>\n",
              "      <td>01:40</td>\n",
              "    </tr>\n",
              "    <tr>\n",
              "      <td>2</td>\n",
              "      <td>0.597805</td>\n",
              "      <td>0.714365</td>\n",
              "      <td>0.835646</td>\n",
              "      <td>01:43</td>\n",
              "    </tr>\n",
              "    <tr>\n",
              "      <td>3</td>\n",
              "      <td>0.542867</td>\n",
              "      <td>0.686443</td>\n",
              "      <td>0.847118</td>\n",
              "      <td>01:40</td>\n",
              "    </tr>\n",
              "    <tr>\n",
              "      <td>4</td>\n",
              "      <td>0.494922</td>\n",
              "      <td>0.722468</td>\n",
              "      <td>0.840448</td>\n",
              "      <td>01:43</td>\n",
              "    </tr>\n",
              "    <tr>\n",
              "      <td>5</td>\n",
              "      <td>0.467289</td>\n",
              "      <td>0.706438</td>\n",
              "      <td>0.848986</td>\n",
              "      <td>01:39</td>\n",
              "    </tr>\n",
              "    <tr>\n",
              "      <td>6</td>\n",
              "      <td>0.444974</td>\n",
              "      <td>0.722917</td>\n",
              "      <td>0.846585</td>\n",
              "      <td>01:45</td>\n",
              "    </tr>\n",
              "    <tr>\n",
              "      <td>7</td>\n",
              "      <td>0.418880</td>\n",
              "      <td>0.729790</td>\n",
              "      <td>0.850320</td>\n",
              "      <td>01:41</td>\n",
              "    </tr>\n",
              "    <tr>\n",
              "      <td>8</td>\n",
              "      <td>0.417364</td>\n",
              "      <td>0.723551</td>\n",
              "      <td>0.850854</td>\n",
              "      <td>01:43</td>\n",
              "    </tr>\n",
              "    <tr>\n",
              "      <td>9</td>\n",
              "      <td>0.402631</td>\n",
              "      <td>0.725080</td>\n",
              "      <td>0.849787</td>\n",
              "      <td>01:45</td>\n",
              "    </tr>\n",
              "  </tbody>\n",
              "</table>"
            ],
            "text/plain": [
              "<IPython.core.display.HTML object>"
            ]
          },
          "metadata": {
            "tags": []
          }
        },
        {
          "output_type": "stream",
          "text": [
            "Better model found at epoch 0 with accuracy value: 0.8308430910110474.\n",
            "Better model found at epoch 1 with accuracy value: 0.8388473987579346.\n",
            "Better model found at epoch 3 with accuracy value: 0.8471184372901917.\n",
            "Better model found at epoch 5 with accuracy value: 0.8489861488342285.\n",
            "Better model found at epoch 7 with accuracy value: 0.8503201603889465.\n",
            "Better model found at epoch 8 with accuracy value: 0.8508538007736206.\n"
          ],
          "name": "stdout"
        },
        {
          "output_type": "display_data",
          "data": {
            "image/png": "[encoded data removed]",
            "text/plain": [
              "<Figure size 432x288 with 1 Axes>"
            ]
          },
          "metadata": {
            "tags": []
          }
        }
      ]
    },
    {
      "cell_type": "markdown",
      "metadata": {
        "id": "PY-O__onPn31",
        "colab_type": "text"
      },
      "source": [
        "**Results**\n",
        "\n",
        "approx 85.3% accuracy training unfrozen model (without discriminative learning rate) for 5 epochs\n"
      ]
    },
    {
      "cell_type": "code",
      "metadata": {
        "id": "_U2u6mCmlgMw",
        "colab_type": "code",
        "colab": {}
      },
      "source": [
        "try: \n",
        "    learn.load('classifier_stage1')\n",
        "except:\n",
        "    print('no learner created')\n",
        "learn.unfreeze();"
      ],
      "execution_count": 0,
      "outputs": []
    },
    {
      "cell_type": "code",
      "metadata": {
        "id": "k13jU0KIqaIN",
        "colab_type": "code",
        "colab": {}
      },
      "source": [
        "lr = lr_init/10\n",
        "\n",
        "\"\"\"Training without adjusting the momentum\"\"\"\n",
        "learn.fit_one_cycle(10, \n",
        "                    lr,\n",
        "                    pct_start = 0.3, \n",
        "                    callbacks=[SaveModelCallback(learn, every='improvement', monitor='accuracy', \n",
        "                                                 name='classifier_stage1')])\n",
        "\n",
        "# \"\"\"Training discriminative learning rates\"\"\"\n",
        "# learn.fit_one_cycle(5, \n",
        "#                     slice(lr/10, lr), \n",
        "#                     callbacks=[SaveModelCallback(learn, every='improvement', monitor='accuracy', \n",
        "#                                                  name='classifier_stage1')])\n",
        "\"\"\"\n",
        "Clipping momentum\n",
        "\"\"\"\n",
        "\n",
        "\n",
        "# learn.fit_one_cycle(10, \n",
        "#                     lr, \n",
        "#                     moms=(0.8,0.7),\n",
        "#                     callbacks=[SaveModelCallback(learn, every='improvement', monitor='accuracy', \n",
        "#                                                  name='classifier_stage1')])\n",
        "\n",
        "learn.recorder.plot_losses()"
      ],
      "execution_count": 0,
      "outputs": []
    },
    {
      "cell_type": "markdown",
      "metadata": {
        "id": "Er5hmarEXYuO",
        "colab_type": "text"
      },
      "source": [
        "### Getting validation accuracy"
      ]
    },
    {
      "cell_type": "markdown",
      "metadata": {
        "id": "7lfy1g8yaopm",
        "colab_type": "text"
      },
      "source": [
        "1st way: using learn.get_preds() and accuracy"
      ]
    },
    {
      "cell_type": "code",
      "metadata": {
        "id": "Mz0Vqm9LXaMF",
        "colab_type": "code",
        "colab": {
          "base_uri": "https://localhost:8080/",
          "height": 34
        },
        "outputId": "be25f77f-fe4d-4250-c56b-f500ee889dac"
      },
      "source": [
        "preds, y, losses = learn.get_preds(ds_type=DatasetType.Valid, with_loss = True)\n",
        "print(accuracy(preds, y))"
      ],
      "execution_count": 60,
      "outputs": [
        {
          "output_type": "stream",
          "text": [
            "tensor(0.8509)\n"
          ],
          "name": "stdout"
        }
      ]
    },
    {
      "cell_type": "markdown",
      "metadata": {
        "id": "5f2J2JQParAP",
        "colab_type": "text"
      },
      "source": [
        "2nd way: using learn.validate()"
      ]
    },
    {
      "cell_type": "code",
      "metadata": {
        "id": "LDgEUraUqvhI",
        "colab_type": "code",
        "colab": {}
      },
      "source": [
        "val_accuracy = learn.validate(learn.data.valid_dl)[1].numpy()\n"
      ],
      "execution_count": 0,
      "outputs": []
    },
    {
      "cell_type": "code",
      "metadata": {
        "id": "c22cWi50aJfZ",
        "colab_type": "code",
        "colab": {
          "base_uri": "https://localhost:8080/",
          "height": 34
        },
        "outputId": "8cfec4c2-f189-4c77-be2d-ec30965c6ef2"
      },
      "source": [
        "print(val_accuracy)\n",
        "type(val_accuracy)"
      ],
      "execution_count": 56,
      "outputs": [
        {
          "output_type": "stream",
          "text": [
            "0.8508538\n"
          ],
          "name": "stdout"
        }
      ]
    },
    {
      "cell_type": "markdown",
      "metadata": {
        "id": "PRFf_DPKbGTs",
        "colab_type": "text"
      },
      "source": [
        "# Hyperparam tuning"
      ]
    },
    {
      "cell_type": "code",
      "metadata": {
        "id": "vq1NzEGsZYQn",
        "colab_type": "code",
        "colab": {
          "base_uri": "https://localhost:8080/",
          "height": 200
        },
        "outputId": "597c726d-ee38-45f2-bc7d-948575362f82"
      },
      "source": [
        "\n",
        "from hyperband import hyperband\n",
        "from skopt.space import Integer, Real, Categorical\n",
        "space = [\n",
        "         Real(0.05, 0.9, name = 'pct_start'),\n",
        "         Real(0.8, 0.9, name = 'b1'),\n",
        "         Real(0.7, 0.999, name = 'b2')\n",
        "]\n",
        "\n",
        "# add hyperparams from space here\n",
        "def fit_and_score(resources, checkpoint, pct_start, b1, b2):\n",
        "    import warnings\n",
        "    warnings.simplefilter(action='ignore', category=FutureWarning)\n",
        "\n",
        "    learn = Learner(data_clas,\n",
        "            custom_transformer_model,\n",
        "            opt_func = lambda input: AdamW(input,correct_bias=False),\n",
        "            loss_func = FlattenedLoss(LabelSmoothingCrossEntropy, axis=-1),\n",
        "            metrics = [accuracy])\n",
        "    \n",
        "    learn.to_fp16()\n",
        "\n",
        "    lr = 3e-5\n",
        "    learn.fit_one_cycle(1, \n",
        "                lr,\n",
        "                pct_start = pct_start,\n",
        "                moms = (b1, b2),\n",
        "                callbacks=[SaveModelCallback(learn, every='improvement', monitor='accuracy', \n",
        "                                                name='classifier_stage1')])\n",
        "\n",
        "    val_accuracy = learn.validate(learn.data.valid_dl)[1].numpy()\n",
        "\n",
        "    # Maximisation problem\n",
        "    return - val_accuracy, [pct_start, b1, b2]\n",
        "\n",
        "\n",
        "accuracies, hps = hyperband(objective=fit_and_score, dimensions=space)\n",
        "for acc, hp in zip(accuracies, hps):\n",
        "    print(acc, hp)\n"
      ],
      "execution_count": 0,
      "outputs": [
        {
          "output_type": "stream",
          "text": [
            "\n",
            "\n",
            "\n",
            "\n",
            "\n",
            "  1%|          | 18.0/2025 [34:26<62:59:34, 112.99s/it, min_score=-.852, models_evaluated=0]\u001b[A\u001b[A\u001b[A\u001b[A\u001b[A"
          ],
          "name": "stderr"
        },
        {
          "output_type": "display_data",
          "data": {
            "text/html": [
              "\n",
              "    <div>\n",
              "        <style>\n",
              "            /* Turns off some styling */\n",
              "            progress {\n",
              "                /* gets rid of default border in Firefox and Opera. */\n",
              "                border: none;\n",
              "                /* Needs to be in here for Safari polyfill so background images work as expected. */\n",
              "                background-size: auto;\n",
              "            }\n",
              "            .progress-bar-interrupted, .progress-bar-interrupted::-webkit-progress-bar {\n",
              "                background: #F44336;\n",
              "            }\n",
              "        </style>\n",
              "      <progress value='0' class='' max='1', style='width:300px; height:20px; vertical-align: middle;'></progress>\n",
              "      0.00% [0/1 00:00<00:00]\n",
              "    </div>\n",
              "    \n",
              "<table border=\"1\" class=\"dataframe\">\n",
              "  <thead>\n",
              "    <tr style=\"text-align: left;\">\n",
              "      <th>epoch</th>\n",
              "      <th>train_loss</th>\n",
              "      <th>valid_loss</th>\n",
              "      <th>accuracy</th>\n",
              "      <th>time</th>\n",
              "    </tr>\n",
              "  </thead>\n",
              "  <tbody>\n",
              "  </tbody>\n",
              "</table><p>\n",
              "\n",
              "    <div>\n",
              "        <style>\n",
              "            /* Turns off some styling */\n",
              "            progress {\n",
              "                /* gets rid of default border in Firefox and Opera. */\n",
              "                border: none;\n",
              "                /* Needs to be in here for Safari polyfill so background images work as expected. */\n",
              "                background-size: auto;\n",
              "            }\n",
              "            .progress-bar-interrupted, .progress-bar-interrupted::-webkit-progress-bar {\n",
              "                background: #F44336;\n",
              "            }\n",
              "        </style>\n",
              "      <progress value='280' class='' max='468', style='width:300px; height:20px; vertical-align: middle;'></progress>\n",
              "      59.83% [280/468 00:58<00:39 0.4636]\n",
              "    </div>\n",
              "    "
            ],
            "text/plain": [
              "<IPython.core.display.HTML object>"
            ]
          },
          "metadata": {
            "tags": []
          }
        }
      ]
    },
    {
      "cell_type": "code",
      "metadata": {
        "id": "ntfPUsQEaAKl",
        "colab_type": "code",
        "colab": {}
      },
      "source": [
        ""
      ],
      "execution_count": 0,
      "outputs": []
    }
  ]
}