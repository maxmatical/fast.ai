{
  "nbformat": 4,
  "nbformat_minor": 0,
  "metadata": {
    "colab": {
      "name": "full_twitter_sentiment_transformers.ipynb",
      "provenance": [],
      "collapsed_sections": [],
      "toc_visible": true,
      "include_colab_link": true
    },
    "kernelspec": {
      "name": "python3",
      "display_name": "Python 3"
    },
    "accelerator": "GPU"
  },
  "cells": [
    {
      "cell_type": "markdown",
      "metadata": {
        "id": "view-in-github",
        "colab_type": "text"
      },
      "source": [
        "<a href=\"https://colab.research.google.com/github/maxmatical/fast.ai/blob/master/full_twitter_sentiment_transformers.ipynb\" target=\"_parent\"><img src=\"https://colab.research.google.com/assets/colab-badge.svg\" alt=\"Open In Colab\"/></a>"
      ]
    },
    {
      "cell_type": "code",
      "metadata": {
        "id": "QMgx99NYbpIV",
        "colab_type": "code",
        "colab": {}
      },
      "source": [
        "%%capture\n",
        "!pip install git+https://github.com/fastai/fastai.git\n",
        "!pip install transformers\n",
        "!pip install scikit-optimize"
      ],
      "execution_count": 0,
      "outputs": []
    },
    {
      "cell_type": "code",
      "metadata": {
        "id": "YnCNplZFCBp4",
        "colab_type": "code",
        "outputId": "f056c7e9-f802-4986-9387-d12ba6133a67",
        "colab": {
          "base_uri": "https://localhost:8080/",
          "height": 52
        }
      },
      "source": [
        "# Set up environment and download course-v3\n",
        "!curl -s https://course.fast.ai/setup/colab | bash"
      ],
      "execution_count": 2,
      "outputs": [
        {
          "output_type": "stream",
          "text": [
            "Updating fastai...\n",
            "Done.\n"
          ],
          "name": "stdout"
        }
      ]
    },
    {
      "cell_type": "code",
      "metadata": {
        "id": "qKq5YwwRCM5r",
        "colab_type": "code",
        "outputId": "c613c542-c6c0-4258-9723-23880310f008",
        "colab": {
          "base_uri": "https://localhost:8080/",
          "height": 744
        }
      },
      "source": [
        "import numpy as np\n",
        "import pandas as pd\n",
        "from matplotlib import pyplot as plt\n",
        "\n",
        "from fastai import *\n",
        "from fastai.text import *\n",
        "from fastai.utils.show_install import *\n",
        "from fastai.callbacks import *\n",
        "\n",
        "import torch\n",
        "import torch.optim as optim\n",
        "\n",
        "# transformers\n",
        "from transformers import PreTrainedModel, PreTrainedTokenizer, PretrainedConfig\n",
        "\n",
        "from transformers import AlbertForSequenceClassification, AlbertTokenizer, AlbertConfig\n",
        "from transformers import BertForSequenceClassification, BertTokenizer, BertConfig\n",
        "from transformers import RobertaForSequenceClassification, RobertaTokenizer, RobertaConfig\n",
        "from transformers import XLNetForSequenceClassification, XLNetTokenizer, XLNetConfig\n",
        "from transformers import XLMForSequenceClassification, XLMTokenizer, XLMConfig\n",
        "from transformers import DistilBertForSequenceClassification, DistilBertTokenizer, DistilBertConfig\n",
        "show_install()\n"
      ],
      "execution_count": 3,
      "outputs": [
        {
          "output_type": "display_data",
          "data": {
            "text/html": [
              "<p style=\"color: red;\">\n",
              "The default version of TensorFlow in Colab will soon switch to TensorFlow 2.x.<br>\n",
              "We recommend you <a href=\"https://www.tensorflow.org/guide/migrate\" target=\"_blank\">upgrade</a> now \n",
              "or ensure your notebook will continue to use TensorFlow 1.x via the <code>%tensorflow_version 1.x</code> magic:\n",
              "<a href=\"https://colab.research.google.com/notebooks/tensorflow_version.ipynb\" target=\"_blank\">more info</a>.</p>\n"
            ],
            "text/plain": [
              "<IPython.core.display.HTML object>"
            ]
          },
          "metadata": {
            "tags": []
          }
        },
        {
          "output_type": "stream",
          "text": [
            "\n",
            "\n",
            "```text\n",
            "=== Software === \n",
            "python        : 3.6.9\n",
            "fastai        : 1.0.60.dev0\n",
            "fastprogress  : 0.1.22\n",
            "torch         : 1.3.1\n",
            "nvidia driver : 418.67\n",
            "torch cuda    : 10.1.243 / is available\n",
            "torch cudnn   : 7603 / is enabled\n",
            "\n",
            "=== Hardware === \n",
            "nvidia gpus   : 1\n",
            "torch devices : 1\n",
            "  - gpu0      : 16280MB | Tesla P100-PCIE-16GB\n",
            "\n",
            "=== Environment === \n",
            "platform      : Linux-4.14.137+-x86_64-with-Ubuntu-18.04-bionic\n",
            "distro        : #1 SMP Thu Aug 8 02:47:02 PDT 2019\n",
            "conda env     : Unknown\n",
            "python        : /usr/bin/python3\n",
            "sys.path      : \n",
            "/env/python\n",
            "/usr/lib/python36.zip\n",
            "/usr/lib/python3.6\n",
            "/usr/lib/python3.6/lib-dynload\n",
            "/usr/local/lib/python3.6/dist-packages\n",
            "/usr/lib/python3/dist-packages\n",
            "/usr/local/lib/python3.6/dist-packages/IPython/extensions\n",
            "/root/.ipython\n",
            "```\n",
            "\n",
            "Please make sure to include opening/closing ``` when you paste into forums/github to make the reports appear formatted as code sections.\n",
            "\n",
            "Optional package(s) to enhance the diagnostics can be installed with:\n",
            "pip install distro\n",
            "Once installed, re-run this utility to get the additional information\n"
          ],
          "name": "stdout"
        }
      ]
    },
    {
      "cell_type": "code",
      "metadata": {
        "id": "GbCUnF1cgj9f",
        "colab_type": "code",
        "outputId": "e95cf37b-e04b-4e90-f034-5e0b085d9f1c",
        "colab": {
          "base_uri": "https://localhost:8080/",
          "height": 52
        }
      },
      "source": [
        "\n",
        "\n",
        "import fastai\n",
        "import transformers\n",
        "print('fastai version :', fastai.__version__)\n",
        "print('transformers version :', transformers.__version__)\n",
        "\n"
      ],
      "execution_count": 4,
      "outputs": [
        {
          "output_type": "stream",
          "text": [
            "fastai version : 1.0.60.dev0\n",
            "transformers version : 2.2.1\n"
          ],
          "name": "stdout"
        }
      ]
    },
    {
      "cell_type": "markdown",
      "metadata": {
        "id": "jYky0SyQCZPU",
        "colab_type": "text"
      },
      "source": [
        "# Exploratory Data Analysis"
      ]
    },
    {
      "cell_type": "code",
      "metadata": {
        "id": "g8bWDpNtCQNY",
        "colab_type": "code",
        "colab": {}
      },
      "source": [
        "df = pd.read_csv('combined_tweets_clean.csv')"
      ],
      "execution_count": 0,
      "outputs": []
    },
    {
      "cell_type": "code",
      "metadata": {
        "id": "RLdscs8CCd--",
        "colab_type": "code",
        "outputId": "5adcce8a-6064-4136-b72c-0235ebf73498",
        "colab": {
          "base_uri": "https://localhost:8080/",
          "height": 328
        }
      },
      "source": [
        "print(len(df))\n",
        "\n",
        "df.head(5)"
      ],
      "execution_count": 6,
      "outputs": [
        {
          "output_type": "stream",
          "text": [
            "18737\n"
          ],
          "name": "stdout"
        },
        {
          "output_type": "execute_result",
          "data": {
            "text/html": [
              "<div>\n",
              "<style scoped>\n",
              "    .dataframe tbody tr th:only-of-type {\n",
              "        vertical-align: middle;\n",
              "    }\n",
              "\n",
              "    .dataframe tbody tr th {\n",
              "        vertical-align: top;\n",
              "    }\n",
              "\n",
              "    .dataframe thead th {\n",
              "        text-align: right;\n",
              "    }\n",
              "</style>\n",
              "<table border=\"1\" class=\"dataframe\">\n",
              "  <thead>\n",
              "    <tr style=\"text-align: right;\">\n",
              "      <th></th>\n",
              "      <th>Unnamed: 0</th>\n",
              "      <th>Unnamed: 0.1</th>\n",
              "      <th>sentiment</th>\n",
              "      <th>date</th>\n",
              "      <th>id</th>\n",
              "      <th>location</th>\n",
              "      <th>name</th>\n",
              "      <th>text</th>\n",
              "    </tr>\n",
              "  </thead>\n",
              "  <tbody>\n",
              "    <tr>\n",
              "      <th>0</th>\n",
              "      <td>0</td>\n",
              "      <td>0</td>\n",
              "      <td>neutral</td>\n",
              "      <td>2011-08-30 23:54</td>\n",
              "      <td>1.090000e+17</td>\n",
              "      <td>NaN</td>\n",
              "      <td>CPtte</td>\n",
              "      <td>Ok, I'm loving $GLD calls today, gold traders ...</td>\n",
              "    </tr>\n",
              "    <tr>\n",
              "      <th>1</th>\n",
              "      <td>1</td>\n",
              "      <td>1</td>\n",
              "      <td>bearish</td>\n",
              "      <td>2011-08-30 23:52</td>\n",
              "      <td>1.090000e+17</td>\n",
              "      <td>NaN</td>\n",
              "      <td>MichaelVlaicu</td>\n",
              "      <td>@auptimus if gold corrects I'd buy out dated g...</td>\n",
              "    </tr>\n",
              "    <tr>\n",
              "      <th>2</th>\n",
              "      <td>2</td>\n",
              "      <td>2</td>\n",
              "      <td>unrelated</td>\n",
              "      <td>2011-08-30 23:16</td>\n",
              "      <td>1.090000e+17</td>\n",
              "      <td>NaN</td>\n",
              "      <td>boposlav</td>\n",
              "      <td>What You Need to Know About the World's Larges...</td>\n",
              "    </tr>\n",
              "    <tr>\n",
              "      <th>3</th>\n",
              "      <td>3</td>\n",
              "      <td>3</td>\n",
              "      <td>unrelated</td>\n",
              "      <td>2011-08-30 23:08</td>\n",
              "      <td>1.090000e+17</td>\n",
              "      <td>NaN</td>\n",
              "      <td>ITMTrading</td>\n",
              "      <td>Ever wanted to know the difference between GLD...</td>\n",
              "    </tr>\n",
              "    <tr>\n",
              "      <th>4</th>\n",
              "      <td>4</td>\n",
              "      <td>4</td>\n",
              "      <td>unrelated</td>\n",
              "      <td>2011-08-30 23:06</td>\n",
              "      <td>1.090000e+17</td>\n",
              "      <td>NaN</td>\n",
              "      <td>iembot_gld</td>\n",
              "      <td>#GLD Area Forecast Discussion (AFD) http://t.c...</td>\n",
              "    </tr>\n",
              "  </tbody>\n",
              "</table>\n",
              "</div>"
            ],
            "text/plain": [
              "   Unnamed: 0  ...                                               text\n",
              "0           0  ...  Ok, I'm loving $GLD calls today, gold traders ...\n",
              "1           1  ...  @auptimus if gold corrects I'd buy out dated g...\n",
              "2           2  ...  What You Need to Know About the World's Larges...\n",
              "3           3  ...  Ever wanted to know the difference between GLD...\n",
              "4           4  ...  #GLD Area Forecast Discussion (AFD) http://t.c...\n",
              "\n",
              "[5 rows x 8 columns]"
            ]
          },
          "metadata": {
            "tags": []
          },
          "execution_count": 6
        }
      ]
    },
    {
      "cell_type": "code",
      "metadata": {
        "id": "liW3zbbzCktu",
        "colab_type": "code",
        "outputId": "6cbdaa52-abab-49f8-d8a0-1806b25c6e59",
        "colab": {
          "base_uri": "https://localhost:8080/",
          "height": 321
        }
      },
      "source": [
        "df['sentiment'].value_counts().plot(kind='bar')\n",
        "\n",
        "print(df['sentiment'].unique())"
      ],
      "execution_count": 7,
      "outputs": [
        {
          "output_type": "stream",
          "text": [
            "['neutral' 'bearish' 'unrelated' 'bullish']\n"
          ],
          "name": "stdout"
        },
        {
          "output_type": "display_data",
          "data": {
            "image/png": "[encoded data removed]",
            "text/plain": [
              "<Figure size 432x288 with 1 Axes>"
            ]
          },
          "metadata": {
            "tags": []
          }
        }
      ]
    },
    {
      "cell_type": "markdown",
      "metadata": {
        "id": "XscVftJYDTQt",
        "colab_type": "text"
      },
      "source": [
        "Unrelated and neutral sentiments dominate the data currently (although this might not be the case in the future with the full dataset). It might be better to use a stratified sampling technique for classification"
      ]
    },
    {
      "cell_type": "code",
      "metadata": {
        "id": "x-GUhvxkELES",
        "colab_type": "code",
        "outputId": "b8d5281d-00f4-4c85-ad42-5fd1da22e13c",
        "colab": {
          "base_uri": "https://localhost:8080/",
          "height": 52
        }
      },
      "source": [
        "from sklearn.model_selection import StratifiedShuffleSplit\n",
        "\n",
        "sss = StratifiedShuffleSplit(n_splits=5, test_size=0.2, random_state=0)\n",
        "sss.get_n_splits(df['text'], df['sentiment'])\n",
        "\n",
        "print(sss)\n",
        "\n"
      ],
      "execution_count": 8,
      "outputs": [
        {
          "output_type": "stream",
          "text": [
            "StratifiedShuffleSplit(n_splits=5, random_state=0, test_size=0.2,\n",
            "            train_size=None)\n"
          ],
          "name": "stdout"
        }
      ]
    },
    {
      "cell_type": "code",
      "metadata": {
        "id": "THDVEb8tFFGN",
        "colab_type": "code",
        "outputId": "89545bf3-d281-4749-e0ba-6943993706b6",
        "colab": {
          "base_uri": "https://localhost:8080/",
          "height": 34
        }
      },
      "source": [
        "train_idx, val_idx = next(sss.split(df['text'], df['sentiment']))\n",
        "\n",
        "print(len(train_idx), len(val_idx))"
      ],
      "execution_count": 9,
      "outputs": [
        {
          "output_type": "stream",
          "text": [
            "14989 3748\n"
          ],
          "name": "stdout"
        }
      ]
    },
    {
      "cell_type": "markdown",
      "metadata": {
        "id": "YnI14U3zKskb",
        "colab_type": "text"
      },
      "source": [
        "Verifying that the stratified split preseves the distribution of the labels"
      ]
    },
    {
      "cell_type": "code",
      "metadata": {
        "id": "QPqoB9P-JzhJ",
        "colab_type": "code",
        "colab": {}
      },
      "source": [
        "df_train = df.iloc[train_idx, :]\n",
        "df_val = df.iloc[val_idx, :]"
      ],
      "execution_count": 0,
      "outputs": []
    },
    {
      "cell_type": "code",
      "metadata": {
        "id": "loavhYCJKdmz",
        "colab_type": "code",
        "outputId": "ff8db3e1-d23b-4f77-b3f3-c60fa7834c55",
        "colab": {
          "base_uri": "https://localhost:8080/",
          "height": 321
        }
      },
      "source": [
        "df_train['sentiment'].value_counts().plot(kind='bar')"
      ],
      "execution_count": 11,
      "outputs": [
        {
          "output_type": "execute_result",
          "data": {
            "text/plain": [
              "<matplotlib.axes._subplots.AxesSubplot at 0x7f5ff04ce7b8>"
            ]
          },
          "metadata": {
            "tags": []
          },
          "execution_count": 11
        },
        {
          "output_type": "display_data",
          "data": {
            "image/png": "[encoded data removed]",
            "text/plain": [
              "<Figure size 432x288 with 1 Axes>"
            ]
          },
          "metadata": {
            "tags": []
          }
        }
      ]
    },
    {
      "cell_type": "code",
      "metadata": {
        "id": "MaoWfiBQKQG2",
        "colab_type": "code",
        "outputId": "a570e708-2f3b-4dc3-9a41-c8cbe0db8abb",
        "colab": {
          "base_uri": "https://localhost:8080/",
          "height": 321
        }
      },
      "source": [
        "df_val['sentiment'].value_counts().plot(kind='bar')"
      ],
      "execution_count": 12,
      "outputs": [
        {
          "output_type": "execute_result",
          "data": {
            "text/plain": [
              "<matplotlib.axes._subplots.AxesSubplot at 0x7f5ff0224b70>"
            ]
          },
          "metadata": {
            "tags": []
          },
          "execution_count": 12
        },
        {
          "output_type": "display_data",
          "data": {
            "image/png": "[encoded data removed]",
            "text/plain": [
              "<Figure size 432x288 with 1 Axes>"
            ]
          },
          "metadata": {
            "tags": []
          }
        }
      ]
    },
    {
      "cell_type": "markdown",
      "metadata": {
        "id": "mrWWL-PxKiZt",
        "colab_type": "text"
      },
      "source": [
        "Looks like the distribution of the labels in train and val are the same, so we can start modelling now"
      ]
    },
    {
      "cell_type": "markdown",
      "metadata": {
        "id": "lNDdmRdjhOcs",
        "colab_type": "text"
      },
      "source": [
        "# Setting up data for transformers"
      ]
    },
    {
      "cell_type": "code",
      "metadata": {
        "id": "QmsJcRyjhN6P",
        "colab_type": "code",
        "colab": {}
      },
      "source": [
        "MODEL_CLASSES = {\n",
        "    'bert': (BertForSequenceClassification, BertTokenizer, BertConfig),\n",
        "    'xlnet': (XLNetForSequenceClassification, XLNetTokenizer, XLNetConfig),\n",
        "    'xlm': (XLMForSequenceClassification, XLMTokenizer, XLMConfig),\n",
        "    'roberta': (RobertaForSequenceClassification, RobertaTokenizer, RobertaConfig),\n",
        "    'distilbert': (DistilBertForSequenceClassification, DistilBertTokenizer, DistilBertConfig)\n",
        "}\n"
      ],
      "execution_count": 0,
      "outputs": []
    },
    {
      "cell_type": "code",
      "metadata": {
        "id": "Lr8kEitJhQik",
        "colab_type": "code",
        "colab": {}
      },
      "source": [
        "# Parameters\n",
        "# seed = 42\n",
        "use_fp16 = False\n",
        "model_type = 'roberta'\n",
        "pretrained_model_name = 'roberta-base' # 'roberta-base-openai-detector'\n",
        "\n",
        "# model_type = 'bert'\n",
        "# pretrained_model_name='bert-base-uncased'\n",
        "\n",
        "# model_type = 'distilbert'\n",
        "# pretrained_model_name = 'distilbert-base-uncased-distilled-squad'#'distilbert-base-uncased'#'distilbert-base-uncased'\n",
        "\n",
        "#model_type = 'xlm'\n",
        "#pretrained_model_name = 'xlm-clm-enfr-1024'\n",
        "\n",
        "#model_type = 'xlnet'\n",
        "#pretrained_model_name = 'xlnet-base-cased'"
      ],
      "execution_count": 0,
      "outputs": []
    },
    {
      "cell_type": "code",
      "metadata": {
        "id": "VRwrbj_ohUHO",
        "colab_type": "code",
        "outputId": "cc13ec70-60aa-4941-b0b0-2e87aa0ae622",
        "colab": {
          "base_uri": "https://localhost:8080/",
          "height": 54
        }
      },
      "source": [
        "model_class, tokenizer_class, config_class = MODEL_CLASSES[model_type]\n",
        "model_class.pretrained_model_archive_map.keys()"
      ],
      "execution_count": 15,
      "outputs": [
        {
          "output_type": "execute_result",
          "data": {
            "text/plain": [
              "dict_keys(['roberta-base', 'roberta-large', 'roberta-large-mnli', 'distilroberta-base', 'roberta-base-openai-detector', 'roberta-large-openai-detector'])"
            ]
          },
          "metadata": {
            "tags": []
          },
          "execution_count": 15
        }
      ]
    },
    {
      "cell_type": "markdown",
      "metadata": {
        "id": "IM3QmtXYhg1h",
        "colab_type": "text"
      },
      "source": [
        "## Setting up tokenizer + numericalizer\n"
      ]
    },
    {
      "cell_type": "code",
      "metadata": {
        "id": "BB_Mk2iFhaIO",
        "colab_type": "code",
        "colab": {}
      },
      "source": [
        "class TransformersBaseTokenizer(BaseTokenizer):\n",
        "    \"\"\"Wrapper around PreTrainedTokenizer to be compatible with fast.ai\"\"\"\n",
        "    def __init__(self, pretrained_tokenizer: PreTrainedTokenizer, model_type = 'bert', **kwargs):\n",
        "        self._pretrained_tokenizer = pretrained_tokenizer\n",
        "        self.max_seq_len = pretrained_tokenizer.max_len\n",
        "        self.model_type = model_type\n",
        "\n",
        "    def __call__(self, *args, **kwargs): \n",
        "        return self\n",
        "\n",
        "    def tokenizer(self, t:str) -> List[str]:\n",
        "        \"\"\"Limits the maximum sequence length and add the spesial tokens\"\"\"\n",
        "        CLS = self._pretrained_tokenizer.cls_token\n",
        "        SEP = self._pretrained_tokenizer.sep_token\n",
        "        if self.model_type in ['roberta']:\n",
        "            tokens = self._pretrained_tokenizer.tokenize(t, add_prefix_space=True)[:self.max_seq_len - 2]\n",
        "        else:\n",
        "            tokens = self._pretrained_tokenizer.tokenize(t)[:self.max_seq_len - 2]\n",
        "        return [CLS] + tokens + [SEP]"
      ],
      "execution_count": 0,
      "outputs": []
    },
    {
      "cell_type": "code",
      "metadata": {
        "id": "ufWfsFnzhl3c",
        "colab_type": "code",
        "outputId": "9991e391-97e2-4751-a412-e527d4631d91",
        "colab": {
          "base_uri": "https://localhost:8080/",
          "height": 52
        }
      },
      "source": [
        "transformer_tokenizer = tokenizer_class.from_pretrained(pretrained_model_name)\n",
        "transformer_base_tokenizer = TransformersBaseTokenizer(pretrained_tokenizer = transformer_tokenizer, model_type = model_type)\n",
        "fastai_tokenizer = Tokenizer(tok_func = transformer_base_tokenizer, pre_rules=[], post_rules=[])"
      ],
      "execution_count": 17,
      "outputs": [
        {
          "output_type": "stream",
          "text": [
            "100%|██████████| 898823/898823 [00:00<00:00, 2725216.85B/s]\n",
            "100%|██████████| 456318/456318 [00:00<00:00, 1391748.28B/s]\n"
          ],
          "name": "stderr"
        }
      ]
    },
    {
      "cell_type": "code",
      "metadata": {
        "id": "AfKmo0fWhogF",
        "colab_type": "code",
        "outputId": "96e4a309-9979-4396-b53b-4f0d48b1c3ca",
        "colab": {
          "base_uri": "https://localhost:8080/",
          "height": 245
        }
      },
      "source": [
        "tokenizer_class.pretrained_vocab_files_map"
      ],
      "execution_count": 18,
      "outputs": [
        {
          "output_type": "execute_result",
          "data": {
            "text/plain": [
              "{'merges_file': {'distilroberta-base': 'https://s3.amazonaws.com/models.huggingface.co/bert/distilroberta-base-merges.txt',\n",
              "  'roberta-base': 'https://s3.amazonaws.com/models.huggingface.co/bert/roberta-base-merges.txt',\n",
              "  'roberta-base-openai-detector': 'https://s3.amazonaws.com/models.huggingface.co/bert/roberta-base-merges.txt',\n",
              "  'roberta-large': 'https://s3.amazonaws.com/models.huggingface.co/bert/roberta-large-merges.txt',\n",
              "  'roberta-large-mnli': 'https://s3.amazonaws.com/models.huggingface.co/bert/roberta-large-mnli-merges.txt',\n",
              "  'roberta-large-openai-detector': 'https://s3.amazonaws.com/models.huggingface.co/bert/roberta-large-merges.txt'},\n",
              " 'vocab_file': {'distilroberta-base': 'https://s3.amazonaws.com/models.huggingface.co/bert/distilroberta-base-vocab.json',\n",
              "  'roberta-base': 'https://s3.amazonaws.com/models.huggingface.co/bert/roberta-base-vocab.json',\n",
              "  'roberta-base-openai-detector': 'https://s3.amazonaws.com/models.huggingface.co/bert/roberta-base-vocab.json',\n",
              "  'roberta-large': 'https://s3.amazonaws.com/models.huggingface.co/bert/roberta-large-vocab.json',\n",
              "  'roberta-large-mnli': 'https://s3.amazonaws.com/models.huggingface.co/bert/roberta-large-mnli-vocab.json',\n",
              "  'roberta-large-openai-detector': 'https://s3.amazonaws.com/models.huggingface.co/bert/roberta-large-vocab.json'}}"
            ]
          },
          "metadata": {
            "tags": []
          },
          "execution_count": 18
        }
      ]
    },
    {
      "cell_type": "code",
      "metadata": {
        "id": "e42OyYUEhqav",
        "colab_type": "code",
        "colab": {}
      },
      "source": [
        "class TransformersVocab(Vocab):\n",
        "    def __init__(self, tokenizer: PreTrainedTokenizer):\n",
        "        super(TransformersVocab, self).__init__(itos = [])\n",
        "        self.tokenizer = tokenizer\n",
        "    \n",
        "    def numericalize(self, t:Collection[str]) -> List[int]:\n",
        "        \"Convert a list of tokens `t` to their ids.\"\n",
        "        return self.tokenizer.convert_tokens_to_ids(t)\n",
        "        #return self.tokenizer.encode(t)\n",
        "\n",
        "    def textify(self, nums:Collection[int], sep=' ') -> List[str]:\n",
        "        \"Convert a list of `nums` to their tokens.\"\n",
        "        nums = np.array(nums).tolist()\n",
        "        return sep.join(self.tokenizer.convert_ids_to_tokens(nums)) if sep is not None else self.tokenizer.convert_ids_to_tokens(nums)"
      ],
      "execution_count": 0,
      "outputs": []
    },
    {
      "cell_type": "code",
      "metadata": {
        "id": "6KqWBee4hxz1",
        "colab_type": "code",
        "colab": {}
      },
      "source": [
        "transformer_vocab =  TransformersVocab(tokenizer = transformer_tokenizer)\n",
        "numericalize_processor = NumericalizeProcessor(vocab=transformer_vocab)\n",
        "\n",
        "tokenize_processor = TokenizeProcessor(tokenizer=fastai_tokenizer, include_bos=False, include_eos=False)\n",
        "\n",
        "transformer_processor = [tokenize_processor, numericalize_processor]"
      ],
      "execution_count": 0,
      "outputs": []
    },
    {
      "cell_type": "markdown",
      "metadata": {
        "id": "VQZYkF0fh8yN",
        "colab_type": "text"
      },
      "source": [
        "## Setting up databunch\n"
      ]
    },
    {
      "cell_type": "code",
      "metadata": {
        "id": "lralLwd8h7XE",
        "colab_type": "code",
        "colab": {}
      },
      "source": [
        "pad_first = bool(model_type in ['xlnet'])\n",
        "pad_idx = transformer_tokenizer.pad_token_id"
      ],
      "execution_count": 0,
      "outputs": []
    },
    {
      "cell_type": "code",
      "metadata": {
        "id": "elHGg4NTiBWd",
        "colab_type": "code",
        "colab": {
          "base_uri": "https://localhost:8080/",
          "height": 17
        },
        "outputId": "69a0abc0-cd67-438e-f108-cce52828107f"
      },
      "source": [
        "bs = 32\n",
        "\n",
        "data_clas = (TextList.from_df(df, cols='text', processor=transformer_processor)\n",
        "             .split_by_idxs(train_idx, val_idx)\n",
        "             .label_from_df(cols= 'sentiment')\n",
        "             .databunch(bs=bs, pad_first=pad_first, pad_idx=pad_idx))\n",
        "\n"
      ],
      "execution_count": 22,
      "outputs": [
        {
          "output_type": "display_data",
          "data": {
            "text/html": [
              ""
            ],
            "text/plain": [
              "<IPython.core.display.HTML object>"
            ]
          },
          "metadata": {
            "tags": []
          }
        },
        {
          "output_type": "display_data",
          "data": {
            "text/html": [
              ""
            ],
            "text/plain": [
              "<IPython.core.display.HTML object>"
            ]
          },
          "metadata": {
            "tags": []
          }
        }
      ]
    },
    {
      "cell_type": "code",
      "metadata": {
        "id": "jtFBaIN9iolm",
        "colab_type": "code",
        "outputId": "81cbc52a-2708-40bb-de82-df74f30a1040",
        "colab": {
          "base_uri": "https://localhost:8080/",
          "height": 345
        }
      },
      "source": [
        "print('[CLS] token :', transformer_tokenizer.cls_token)\n",
        "print('[SEP] token :', transformer_tokenizer.sep_token)\n",
        "print('[PAD] token :', transformer_tokenizer.pad_token)\n",
        "data_clas.show_batch()"
      ],
      "execution_count": 23,
      "outputs": [
        {
          "output_type": "stream",
          "text": [
            "[CLS] token : <s>\n",
            "[SEP] token : </s>\n",
            "[PAD] token : <pad>\n"
          ],
          "name": "stdout"
        },
        {
          "output_type": "display_data",
          "data": {
            "text/html": [
              "<table border=\"1\" class=\"dataframe\">\n",
              "  <thead>\n",
              "    <tr style=\"text-align: right;\">\n",
              "      <th>text</th>\n",
              "      <th>target</th>\n",
              "    </tr>\n",
              "  </thead>\n",
              "  <tbody>\n",
              "    <tr>\n",
              "      <td>&lt;s&gt; ĠRT Ġ@ to pperc ool : Ġ@ day dev Ġ à¹ Ħ à¸ ¡ à¹ Ī à¹ ĥ à¸ Ĭ à¹ Ī à¸ Ħ à¸ £ à¸ ± à¸ ļ Ġ Ġ à¸ ķ à¸ ¥ à¸ ² à¸ Ķ à¸ Ĺ à¸ Ń à¸ ĩ à¹ Ģ à¸ ķ à¹ ĩ à¸ ¡ à¸ ķ à¸ ± à¸ § Ġ à¸ Ħ à¸ · à¸ Ń à¸ Ń</td>\n",
              "      <td>unrelated</td>\n",
              "    </tr>\n",
              "    <tr>\n",
              "      <td>&lt;s&gt; Ġ@ trade fx 24 Ġ# EU Ġ# F ines Ġ# C it igroup Ġ$ 1 . 2 Ġ# B illion ĠOver Ġ# FX Ċ Ċ tr ading Ġ# risk Ġ# big Ġ# bank Ġ# coll uding Ġ# fore x Ġexchange Ġtrading Ġ# str ateg ies Ġ Ġ Ġ Ġ Ġ Ġ Ċ Ċ # C iti Ġ$ sp y Ġ$ qq q Ġ$ d ia Ġ$ c Ġ$ j</td>\n",
              "      <td>unrelated</td>\n",
              "    </tr>\n",
              "    <tr>\n",
              "      <td>&lt;s&gt; ĠðŁĺ ī ðŁĺ İ ðŁĳ į Ġ# CR U DE Ġ# OIL \" Re vers al ĠPoints Ġin ĠTIME \" Ġforecast Ġ# US OIL Ġ# UK OIL Ġ# FR ACT ALS Ġ# TR AD ING P AT TER NS Ġ# O OTT Ġ# DAY TR AD ING Ġ# F UT URES Ġ# US DO LL AR Ġ$ GL D Ġ$ SL V Ġ$ USD Ġ$ D XY Ġ$ TY</td>\n",
              "      <td>unrelated</td>\n",
              "    </tr>\n",
              "    <tr>\n",
              "      <td>&lt;s&gt; ĠStr angle Ġ# Defense : ĠRolling Ġdown Ġcall Ġside Ġinto Ġa Ġstr addle Ġin Ġ$ X OP . Ċ More Ġon Ġ# trade Ġmanagement Ġin Ġmy Ġ# ebook s : Ċ https :// t . co / U q ee J k J 2 i P Ġ Ċ Ċ $ ES _ F Ġ$ N Q _ F Ġ$ Z B _ F Ġ$ SP X Ġ$ R UT</td>\n",
              "      <td>unrelated</td>\n",
              "    </tr>\n",
              "    <tr>\n",
              "      <td>&lt;s&gt; Ġ# US ĠSt ocks : ĠTech Ġ$ MS FT Ġ- 2 %. ĠL inger ie Ġ$ LB + 11 . 7 %. Veh icle ĠAuction Ġ$ C PR T Ġ+ 7 . 5 %. ĠASIC Ġ$ SN PS + 2 . 3 %. ĠMedical ĠE q p Ġ$ MD T + 2 . 5 %. ĠGold Ġ$ G OLD + 2 . 3 %. ĠCloud Ġs vc Ġ$ NT</td>\n",
              "      <td>unrelated</td>\n",
              "    </tr>\n",
              "  </tbody>\n",
              "</table>"
            ],
            "text/plain": [
              "<IPython.core.display.HTML object>"
            ]
          },
          "metadata": {
            "tags": []
          }
        }
      ]
    },
    {
      "cell_type": "code",
      "metadata": {
        "id": "KApZcW2iiynP",
        "colab_type": "code",
        "outputId": "cde3f543-43c2-4f25-fa13-96b1125871e1",
        "colab": {
          "base_uri": "https://localhost:8080/",
          "height": 208
        }
      },
      "source": [
        "# checking batch and numericalizer\n",
        "\n",
        "print('[CLS] id :', transformer_tokenizer.cls_token_id)\n",
        "print('[SEP] id :', transformer_tokenizer.sep_token_id)\n",
        "print('[PAD] id :', pad_idx)\n",
        "test_one_batch = data_clas.one_batch()[0]\n",
        "print('Batch shape : ',test_one_batch.shape)\n",
        "print(test_one_batch)\n",
        "\n"
      ],
      "execution_count": 24,
      "outputs": [
        {
          "output_type": "stream",
          "text": [
            "[CLS] id : 0\n",
            "[SEP] id : 2\n",
            "[PAD] id : 1\n",
            "Batch shape :  torch.Size([32, 202])\n",
            "tensor([[    0, 10541,   787,  ..., 24107,  5543,     2],\n",
            "        [    0,  2860, 27932,  ...,     1,     1,     1],\n",
            "        [    0, 17149,   975,  ...,     1,     1,     1],\n",
            "        ...,\n",
            "        [    0,   849, 20439,  ...,     1,     1,     1],\n",
            "        [    0,   849,   534,  ...,     1,     1,     1],\n",
            "        [    0,   849,   534,  ...,     1,     1,     1]])\n"
          ],
          "name": "stdout"
        }
      ]
    },
    {
      "cell_type": "markdown",
      "metadata": {
        "id": "7ye6u9YhjAjH",
        "colab_type": "text"
      },
      "source": [
        "# RoBERTa"
      ]
    },
    {
      "cell_type": "code",
      "metadata": {
        "id": "OGhkWAqii4ld",
        "colab_type": "code",
        "colab": {}
      },
      "source": [
        "class CustomTransformerModel(nn.Module):\n",
        "    def __init__(self, transformer_model: PreTrainedModel):\n",
        "        super(CustomTransformerModel,self).__init__()\n",
        "        self.transformer = transformer_model\n",
        "        \n",
        "    def forward(self, input_ids, attention_mask=None):\n",
        "        \n",
        "        #attention_mask = (input_ids!=1).type(input_ids.type()) # Test attention_mask for RoBERTa\n",
        "        \n",
        "        logits = self.transformer(input_ids,\n",
        "                                attention_mask = attention_mask)[0]   \n",
        "        return logits"
      ],
      "execution_count": 0,
      "outputs": []
    },
    {
      "cell_type": "code",
      "metadata": {
        "id": "6v7nVxGbjdG9",
        "colab_type": "code",
        "outputId": "1808232e-bbc3-4c5c-e861-4713977dc6c7",
        "colab": {
          "base_uri": "https://localhost:8080/",
          "height": 451
        }
      },
      "source": [
        "n_labels = 4\n",
        "\n",
        "config = config_class.from_pretrained(pretrained_model_name)\n",
        "config.num_labels = n_labels\n",
        "config.use_bfloat16 = use_fp16\n",
        "print(config)"
      ],
      "execution_count": 26,
      "outputs": [
        {
          "output_type": "stream",
          "text": [
            "100%|██████████| 473/473 [00:00<00:00, 299276.78B/s]"
          ],
          "name": "stderr"
        },
        {
          "output_type": "stream",
          "text": [
            "{\n",
            "  \"attention_probs_dropout_prob\": 0.1,\n",
            "  \"finetuning_task\": null,\n",
            "  \"hidden_act\": \"gelu\",\n",
            "  \"hidden_dropout_prob\": 0.1,\n",
            "  \"hidden_size\": 768,\n",
            "  \"initializer_range\": 0.02,\n",
            "  \"intermediate_size\": 3072,\n",
            "  \"is_decoder\": false,\n",
            "  \"layer_norm_eps\": 1e-05,\n",
            "  \"max_position_embeddings\": 514,\n",
            "  \"num_attention_heads\": 12,\n",
            "  \"num_hidden_layers\": 12,\n",
            "  \"num_labels\": 4,\n",
            "  \"output_attentions\": false,\n",
            "  \"output_hidden_states\": false,\n",
            "  \"output_past\": true,\n",
            "  \"pruned_heads\": {},\n",
            "  \"torchscript\": false,\n",
            "  \"type_vocab_size\": 1,\n",
            "  \"use_bfloat16\": false,\n",
            "  \"vocab_size\": 50265\n",
            "}\n",
            "\n"
          ],
          "name": "stdout"
        },
        {
          "output_type": "stream",
          "text": [
            "\n"
          ],
          "name": "stderr"
        }
      ]
    },
    {
      "cell_type": "code",
      "metadata": {
        "id": "Q1hSeT81jhdK",
        "colab_type": "code",
        "outputId": "c3013685-1620-4cf4-b04e-7359ab541717",
        "colab": {
          "base_uri": "https://localhost:8080/",
          "height": 34
        }
      },
      "source": [
        "transformer_model = model_class.from_pretrained(pretrained_model_name, config = config)\n",
        "\n",
        "custom_transformer_model = CustomTransformerModel(transformer_model = transformer_model)"
      ],
      "execution_count": 27,
      "outputs": [
        {
          "output_type": "stream",
          "text": [
            "100%|██████████| 501200538/501200538 [00:11<00:00, 44511795.75B/s]\n"
          ],
          "name": "stderr"
        }
      ]
    },
    {
      "cell_type": "markdown",
      "metadata": {
        "id": "0Twth-Kqj_MA",
        "colab_type": "text"
      },
      "source": [
        "## Creating learner"
      ]
    },
    {
      "cell_type": "code",
      "metadata": {
        "id": "30kj8X6Vjl-O",
        "colab_type": "code",
        "colab": {}
      },
      "source": [
        "from transformers import AdamW"
      ],
      "execution_count": 0,
      "outputs": []
    },
    {
      "cell_type": "code",
      "metadata": {
        "id": "ck8Xd9S_kGbp",
        "colab_type": "code",
        "colab": {}
      },
      "source": [
        "try: \n",
        "    learn.destroy()\n",
        "except:\n",
        "    'no learner created'\n",
        "\n",
        "learn = Learner(data_clas,\n",
        "               custom_transformer_model,\n",
        "               opt_func = lambda input: AdamW(input,correct_bias=False, eps = 1e-4),\n",
        "               loss_func = FlattenedLoss(LabelSmoothingCrossEntropy, axis=-1),\n",
        "               metrics = [accuracy])"
      ],
      "execution_count": 0,
      "outputs": []
    },
    {
      "cell_type": "markdown",
      "metadata": {
        "id": "CPJZb0kUkd80",
        "colab_type": "text"
      },
      "source": [
        "### Creating layer splitting for gradual unfreezing and discriminative learning rates\n",
        "\n",
        "use   \"num_hidden_layers\" in config + 2 (1 for embedding and 1 for head)"
      ]
    },
    {
      "cell_type": "code",
      "metadata": {
        "id": "BjACE6gekRxw",
        "colab_type": "code",
        "colab": {}
      },
      "source": [
        "# For roberta-base\n",
        "list_layers = [learn.model.transformer.roberta.embeddings,\n",
        "              learn.model.transformer.roberta.encoder.layer[0],\n",
        "              learn.model.transformer.roberta.encoder.layer[1],\n",
        "              learn.model.transformer.roberta.encoder.layer[2],\n",
        "              learn.model.transformer.roberta.encoder.layer[3],\n",
        "              learn.model.transformer.roberta.encoder.layer[4],\n",
        "              learn.model.transformer.roberta.encoder.layer[5],\n",
        "              learn.model.transformer.roberta.encoder.layer[6],\n",
        "              learn.model.transformer.roberta.encoder.layer[7],\n",
        "              learn.model.transformer.roberta.encoder.layer[8],\n",
        "              learn.model.transformer.roberta.encoder.layer[9],\n",
        "              learn.model.transformer.roberta.encoder.layer[10],\n",
        "              learn.model.transformer.roberta.encoder.layer[11],\n",
        "              learn.model.transformer.roberta.pooler]"
      ],
      "execution_count": 0,
      "outputs": []
    },
    {
      "cell_type": "code",
      "metadata": {
        "id": "W1EMlOm6kr22",
        "colab_type": "code",
        "outputId": "06acb795-f2a1-4feb-bbbb-a1dfcb5564a6",
        "colab": {
          "base_uri": "https://localhost:8080/",
          "height": 34
        }
      },
      "source": [
        "# check groups\n",
        "learn.split(list_layers)\n",
        "num_groups = len(learn.layer_groups)\n",
        "print('Learner split in',num_groups,'groups')\n",
        "# print(learn.layer_groups)\n",
        "\n"
      ],
      "execution_count": 31,
      "outputs": [
        {
          "output_type": "stream",
          "text": [
            "Learner split in 14 groups\n"
          ],
          "name": "stdout"
        }
      ]
    },
    {
      "cell_type": "markdown",
      "metadata": {
        "id": "BBjFUqKQxgdh",
        "colab_type": "text"
      },
      "source": [
        "Optional: Freeze the model to train the head"
      ]
    },
    {
      "cell_type": "code",
      "metadata": {
        "id": "yK12C4yxk7vh",
        "colab_type": "code",
        "outputId": "275bc813-a5d8-43f9-e8ca-792d31ca3438",
        "colab": {
          "base_uri": "https://localhost:8080/",
          "height": 1000
        }
      },
      "source": [
        "# learn.freeze();\n",
        "\n",
        "learn.unfreeze();\n",
        "learn.summary()"
      ],
      "execution_count": 32,
      "outputs": [
        {
          "output_type": "execute_result",
          "data": {
            "text/plain": [
              "CustomTransformerModel\n",
              "======================================================================\n",
              "Layer (type)         Output Shape         Param #    Trainable \n",
              "======================================================================\n",
              "Embedding            [202, 768]           38,603,520 True      \n",
              "______________________________________________________________________\n",
              "Embedding            [202, 768]           394,752    True      \n",
              "______________________________________________________________________\n",
              "Embedding            [202, 768]           768        True      \n",
              "______________________________________________________________________\n",
              "LayerNorm            [202, 768]           1,536      True      \n",
              "______________________________________________________________________\n",
              "Dropout              [202, 768]           0          False     \n",
              "______________________________________________________________________\n",
              "Linear               [202, 768]           590,592    True      \n",
              "______________________________________________________________________\n",
              "Linear               [202, 768]           590,592    True      \n",
              "______________________________________________________________________\n",
              "Linear               [202, 768]           590,592    True      \n",
              "______________________________________________________________________\n",
              "Dropout              [12, 202, 202]       0          False     \n",
              "______________________________________________________________________\n",
              "Linear               [202, 768]           590,592    True      \n",
              "______________________________________________________________________\n",
              "LayerNorm            [202, 768]           1,536      True      \n",
              "______________________________________________________________________\n",
              "Dropout              [202, 768]           0          False     \n",
              "______________________________________________________________________\n",
              "Linear               [202, 3072]          2,362,368  True      \n",
              "______________________________________________________________________\n",
              "Linear               [202, 768]           2,360,064  True      \n",
              "______________________________________________________________________\n",
              "LayerNorm            [202, 768]           1,536      True      \n",
              "______________________________________________________________________\n",
              "Dropout              [202, 768]           0          False     \n",
              "______________________________________________________________________\n",
              "Linear               [202, 768]           590,592    True      \n",
              "______________________________________________________________________\n",
              "Linear               [202, 768]           590,592    True      \n",
              "______________________________________________________________________\n",
              "Linear               [202, 768]           590,592    True      \n",
              "______________________________________________________________________\n",
              "Dropout              [12, 202, 202]       0          False     \n",
              "______________________________________________________________________\n",
              "Linear               [202, 768]           590,592    True      \n",
              "______________________________________________________________________\n",
              "LayerNorm            [202, 768]           1,536      True      \n",
              "______________________________________________________________________\n",
              "Dropout              [202, 768]           0          False     \n",
              "______________________________________________________________________\n",
              "Linear               [202, 3072]          2,362,368  True      \n",
              "______________________________________________________________________\n",
              "Linear               [202, 768]           2,360,064  True      \n",
              "______________________________________________________________________\n",
              "LayerNorm            [202, 768]           1,536      True      \n",
              "______________________________________________________________________\n",
              "Dropout              [202, 768]           0          False     \n",
              "______________________________________________________________________\n",
              "Linear               [202, 768]           590,592    True      \n",
              "______________________________________________________________________\n",
              "Linear               [202, 768]           590,592    True      \n",
              "______________________________________________________________________\n",
              "Linear               [202, 768]           590,592    True      \n",
              "______________________________________________________________________\n",
              "Dropout              [12, 202, 202]       0          False     \n",
              "______________________________________________________________________\n",
              "Linear               [202, 768]           590,592    True      \n",
              "______________________________________________________________________\n",
              "LayerNorm            [202, 768]           1,536      True      \n",
              "______________________________________________________________________\n",
              "Dropout              [202, 768]           0          False     \n",
              "______________________________________________________________________\n",
              "Linear               [202, 3072]          2,362,368  True      \n",
              "______________________________________________________________________\n",
              "Linear               [202, 768]           2,360,064  True      \n",
              "______________________________________________________________________\n",
              "LayerNorm            [202, 768]           1,536      True      \n",
              "______________________________________________________________________\n",
              "Dropout              [202, 768]           0          False     \n",
              "______________________________________________________________________\n",
              "Linear               [202, 768]           590,592    True      \n",
              "______________________________________________________________________\n",
              "Linear               [202, 768]           590,592    True      \n",
              "______________________________________________________________________\n",
              "Linear               [202, 768]           590,592    True      \n",
              "______________________________________________________________________\n",
              "Dropout              [12, 202, 202]       0          False     \n",
              "______________________________________________________________________\n",
              "Linear               [202, 768]           590,592    True      \n",
              "______________________________________________________________________\n",
              "LayerNorm            [202, 768]           1,536      True      \n",
              "______________________________________________________________________\n",
              "Dropout              [202, 768]           0          False     \n",
              "______________________________________________________________________\n",
              "Linear               [202, 3072]          2,362,368  True      \n",
              "______________________________________________________________________\n",
              "Linear               [202, 768]           2,360,064  True      \n",
              "______________________________________________________________________\n",
              "LayerNorm            [202, 768]           1,536      True      \n",
              "______________________________________________________________________\n",
              "Dropout              [202, 768]           0          False     \n",
              "______________________________________________________________________\n",
              "Linear               [202, 768]           590,592    True      \n",
              "______________________________________________________________________\n",
              "Linear               [202, 768]           590,592    True      \n",
              "______________________________________________________________________\n",
              "Linear               [202, 768]           590,592    True      \n",
              "______________________________________________________________________\n",
              "Dropout              [12, 202, 202]       0          False     \n",
              "______________________________________________________________________\n",
              "Linear               [202, 768]           590,592    True      \n",
              "______________________________________________________________________\n",
              "LayerNorm            [202, 768]           1,536      True      \n",
              "______________________________________________________________________\n",
              "Dropout              [202, 768]           0          False     \n",
              "______________________________________________________________________\n",
              "Linear               [202, 3072]          2,362,368  True      \n",
              "______________________________________________________________________\n",
              "Linear               [202, 768]           2,360,064  True      \n",
              "______________________________________________________________________\n",
              "LayerNorm            [202, 768]           1,536      True      \n",
              "______________________________________________________________________\n",
              "Dropout              [202, 768]           0          False     \n",
              "______________________________________________________________________\n",
              "Linear               [202, 768]           590,592    True      \n",
              "______________________________________________________________________\n",
              "Linear               [202, 768]           590,592    True      \n",
              "______________________________________________________________________\n",
              "Linear               [202, 768]           590,592    True      \n",
              "______________________________________________________________________\n",
              "Dropout              [12, 202, 202]       0          False     \n",
              "______________________________________________________________________\n",
              "Linear               [202, 768]           590,592    True      \n",
              "______________________________________________________________________\n",
              "LayerNorm            [202, 768]           1,536      True      \n",
              "______________________________________________________________________\n",
              "Dropout              [202, 768]           0          False     \n",
              "______________________________________________________________________\n",
              "Linear               [202, 3072]          2,362,368  True      \n",
              "______________________________________________________________________\n",
              "Linear               [202, 768]           2,360,064  True      \n",
              "______________________________________________________________________\n",
              "LayerNorm            [202, 768]           1,536      True      \n",
              "______________________________________________________________________\n",
              "Dropout              [202, 768]           0          False     \n",
              "______________________________________________________________________\n",
              "Linear               [202, 768]           590,592    True      \n",
              "______________________________________________________________________\n",
              "Linear               [202, 768]           590,592    True      \n",
              "______________________________________________________________________\n",
              "Linear               [202, 768]           590,592    True      \n",
              "______________________________________________________________________\n",
              "Dropout              [12, 202, 202]       0          False     \n",
              "______________________________________________________________________\n",
              "Linear               [202, 768]           590,592    True      \n",
              "______________________________________________________________________\n",
              "LayerNorm            [202, 768]           1,536      True      \n",
              "______________________________________________________________________\n",
              "Dropout              [202, 768]           0          False     \n",
              "______________________________________________________________________\n",
              "Linear               [202, 3072]          2,362,368  True      \n",
              "______________________________________________________________________\n",
              "Linear               [202, 768]           2,360,064  True      \n",
              "______________________________________________________________________\n",
              "LayerNorm            [202, 768]           1,536      True      \n",
              "______________________________________________________________________\n",
              "Dropout              [202, 768]           0          False     \n",
              "______________________________________________________________________\n",
              "Linear               [202, 768]           590,592    True      \n",
              "______________________________________________________________________\n",
              "Linear               [202, 768]           590,592    True      \n",
              "______________________________________________________________________\n",
              "Linear               [202, 768]           590,592    True      \n",
              "______________________________________________________________________\n",
              "Dropout              [12, 202, 202]       0          False     \n",
              "______________________________________________________________________\n",
              "Linear               [202, 768]           590,592    True      \n",
              "______________________________________________________________________\n",
              "LayerNorm            [202, 768]           1,536      True      \n",
              "______________________________________________________________________\n",
              "Dropout              [202, 768]           0          False     \n",
              "______________________________________________________________________\n",
              "Linear               [202, 3072]          2,362,368  True      \n",
              "______________________________________________________________________\n",
              "Linear               [202, 768]           2,360,064  True      \n",
              "______________________________________________________________________\n",
              "LayerNorm            [202, 768]           1,536      True      \n",
              "______________________________________________________________________\n",
              "Dropout              [202, 768]           0          False     \n",
              "______________________________________________________________________\n",
              "Linear               [202, 768]           590,592    True      \n",
              "______________________________________________________________________\n",
              "Linear               [202, 768]           590,592    True      \n",
              "______________________________________________________________________\n",
              "Linear               [202, 768]           590,592    True      \n",
              "______________________________________________________________________\n",
              "Dropout              [12, 202, 202]       0          False     \n",
              "______________________________________________________________________\n",
              "Linear               [202, 768]           590,592    True      \n",
              "______________________________________________________________________\n",
              "LayerNorm            [202, 768]           1,536      True      \n",
              "______________________________________________________________________\n",
              "Dropout              [202, 768]           0          False     \n",
              "______________________________________________________________________\n",
              "Linear               [202, 3072]          2,362,368  True      \n",
              "______________________________________________________________________\n",
              "Linear               [202, 768]           2,360,064  True      \n",
              "______________________________________________________________________\n",
              "LayerNorm            [202, 768]           1,536      True      \n",
              "______________________________________________________________________\n",
              "Dropout              [202, 768]           0          False     \n",
              "______________________________________________________________________\n",
              "Linear               [202, 768]           590,592    True      \n",
              "______________________________________________________________________\n",
              "Linear               [202, 768]           590,592    True      \n",
              "______________________________________________________________________\n",
              "Linear               [202, 768]           590,592    True      \n",
              "______________________________________________________________________\n",
              "Dropout              [12, 202, 202]       0          False     \n",
              "______________________________________________________________________\n",
              "Linear               [202, 768]           590,592    True      \n",
              "______________________________________________________________________\n",
              "LayerNorm            [202, 768]           1,536      True      \n",
              "______________________________________________________________________\n",
              "Dropout              [202, 768]           0          False     \n",
              "______________________________________________________________________\n",
              "Linear               [202, 3072]          2,362,368  True      \n",
              "______________________________________________________________________\n",
              "Linear               [202, 768]           2,360,064  True      \n",
              "______________________________________________________________________\n",
              "LayerNorm            [202, 768]           1,536      True      \n",
              "______________________________________________________________________\n",
              "Dropout              [202, 768]           0          False     \n",
              "______________________________________________________________________\n",
              "Linear               [202, 768]           590,592    True      \n",
              "______________________________________________________________________\n",
              "Linear               [202, 768]           590,592    True      \n",
              "______________________________________________________________________\n",
              "Linear               [202, 768]           590,592    True      \n",
              "______________________________________________________________________\n",
              "Dropout              [12, 202, 202]       0          False     \n",
              "______________________________________________________________________\n",
              "Linear               [202, 768]           590,592    True      \n",
              "______________________________________________________________________\n",
              "LayerNorm            [202, 768]           1,536      True      \n",
              "______________________________________________________________________\n",
              "Dropout              [202, 768]           0          False     \n",
              "______________________________________________________________________\n",
              "Linear               [202, 3072]          2,362,368  True      \n",
              "______________________________________________________________________\n",
              "Linear               [202, 768]           2,360,064  True      \n",
              "______________________________________________________________________\n",
              "LayerNorm            [202, 768]           1,536      True      \n",
              "______________________________________________________________________\n",
              "Dropout              [202, 768]           0          False     \n",
              "______________________________________________________________________\n",
              "Linear               [202, 768]           590,592    True      \n",
              "______________________________________________________________________\n",
              "Linear               [202, 768]           590,592    True      \n",
              "______________________________________________________________________\n",
              "Linear               [202, 768]           590,592    True      \n",
              "______________________________________________________________________\n",
              "Dropout              [12, 202, 202]       0          False     \n",
              "______________________________________________________________________\n",
              "Linear               [202, 768]           590,592    True      \n",
              "______________________________________________________________________\n",
              "LayerNorm            [202, 768]           1,536      True      \n",
              "______________________________________________________________________\n",
              "Dropout              [202, 768]           0          False     \n",
              "______________________________________________________________________\n",
              "Linear               [202, 3072]          2,362,368  True      \n",
              "______________________________________________________________________\n",
              "Linear               [202, 768]           2,360,064  True      \n",
              "______________________________________________________________________\n",
              "LayerNorm            [202, 768]           1,536      True      \n",
              "______________________________________________________________________\n",
              "Dropout              [202, 768]           0          False     \n",
              "______________________________________________________________________\n",
              "Linear               [768]                590,592    True      \n",
              "______________________________________________________________________\n",
              "Tanh                 [768]                0          False     \n",
              "______________________________________________________________________\n",
              "Linear               [768]                590,592    True      \n",
              "______________________________________________________________________\n",
              "Dropout              [768]                0          False     \n",
              "______________________________________________________________________\n",
              "Linear               [4]                  3,076      True      \n",
              "______________________________________________________________________\n",
              "\n",
              "Total params: 125,239,300\n",
              "Total trainable params: 125,239,300\n",
              "Total non-trainable params: 0\n",
              "Optimized with f5ff0aa7400\n",
              "Using true weight decay as discussed in https://www.fast.ai/2018/07/02/adam-weight-decay/ \n",
              "Loss function : FlattenedLoss\n",
              "======================================================================\n",
              "Callbacks functions applied "
            ]
          },
          "metadata": {
            "tags": []
          },
          "execution_count": 32
        }
      ]
    },
    {
      "cell_type": "code",
      "metadata": {
        "id": "HBlWmpdrlJxq",
        "colab_type": "code",
        "colab": {}
      },
      "source": [
        "# learn.lr_find()\n",
        "# learn.recorder.plot(suggestion = True, skip_end=15)"
      ],
      "execution_count": 0,
      "outputs": []
    },
    {
      "cell_type": "code",
      "metadata": {
        "id": "m6PHHECClV1H",
        "colab_type": "code",
        "outputId": "a3cc7c7b-1828-462c-f518-83e5b6d31598",
        "colab": {
          "base_uri": "https://localhost:8080/",
          "height": 1000
        }
      },
      "source": [
        "learn.to_fp16()\n",
        "\n",
        "lr_init = 3e-5\n",
        "lr = lr_init\n",
        "\n",
        "\"\"\"Training without adjusting the momentum\"\"\"\n",
        "# learn.fit_one_cycle(10, \n",
        "#                     lr, \n",
        "#                     pct_start = 0.3,\n",
        "#                     callbacks=[SaveModelCallback(learn, every='improvement', monitor='accuracy', \n",
        "#                                                  name='classifier_stage1')])\n",
        "\n",
        "\"\"\"Training discriminative learning rates\"\"\"\n",
        "# learn.fit_one_cycle(5, \n",
        "#                     slice(lr/10, lr), \n",
        "#                     callbacks=[SaveModelCallback(learn, every='improvement', monitor='accuracy', \n",
        "#                                                  name='classifier_stage1')])\n",
        "\"\"\"\n",
        "Clipping momentum\n",
        "\"\"\"\n",
        "\n",
        "\n",
        "# learn.fit_one_cycle(10, \n",
        "#                     lr, \n",
        "#                     moms=(0.8,0.7),\n",
        "#                     callbacks=[SaveModelCallback(learn, every='improvement', monitor='accuracy', \n",
        "#                                                  name='classifier_stage1')])\n",
        "\n",
        "\"\"\"\n",
        "\n",
        "Warmup cosine with restarts\n",
        "\n",
        "\"\"\"\n",
        "\n",
        "def fit_cosine_restart(learn, n_cycles, lr, mom, cycle_len, cycle_mult):\n",
        "    n = len(learn.data.train_dl)\n",
        "    phases = [(TrainingPhase(n * (cycle_len * cycle_mult**i))\n",
        "                 .schedule_hp('lr', lr, anneal=annealing_cos)) for i in range(n_cycles)]\n",
        "    sched = GeneralScheduler(learn, phases)\n",
        "    learn.callbacks.append(sched)\n",
        "    if cycle_mult != 1:\n",
        "        total_epochs = int(cycle_len * (1 - (cycle_mult)**n_cycles)/(1-cycle_mult)) \n",
        "    else: total_epochs = n_cycles * cycle_len\n",
        "\n",
        "    learn.fit(total_epochs, \n",
        "              callbacks=[SaveModelCallback(learn, every='improvement', monitor='accuracy', \n",
        "                                                 name='classifier_stage1')])\n",
        "\n",
        "fit_cosine_restart(learn, 15, lr, 0.9, 1, 2)\n",
        "\n",
        "\n",
        "learn.recorder.plot_losses()"
      ],
      "execution_count": 34,
      "outputs": [
        {
          "output_type": "display_data",
          "data": {
            "text/html": [
              "\n",
              "    <div>\n",
              "        <style>\n",
              "            /* Turns off some styling */\n",
              "            progress {\n",
              "                /* gets rid of default border in Firefox and Opera. */\n",
              "                border: none;\n",
              "                /* Needs to be in here for Safari polyfill so background images work as expected. */\n",
              "                background-size: auto;\n",
              "            }\n",
              "            .progress-bar-interrupted, .progress-bar-interrupted::-webkit-progress-bar {\n",
              "                background: #F44336;\n",
              "            }\n",
              "        </style>\n",
              "      <progress value='16' class='' max='32767', style='width:300px; height:20px; vertical-align: middle;'></progress>\n",
              "      0.05% [16/32767 27:34<940:36:25]\n",
              "    </div>\n",
              "    \n",
              "<table border=\"1\" class=\"dataframe\">\n",
              "  <thead>\n",
              "    <tr style=\"text-align: left;\">\n",
              "      <th>epoch</th>\n",
              "      <th>train_loss</th>\n",
              "      <th>valid_loss</th>\n",
              "      <th>accuracy</th>\n",
              "      <th>time</th>\n",
              "    </tr>\n",
              "  </thead>\n",
              "  <tbody>\n",
              "    <tr>\n",
              "      <td>0</td>\n",
              "      <td>0.809990</td>\n",
              "      <td>0.787768</td>\n",
              "      <td>0.766275</td>\n",
              "      <td>01:37</td>\n",
              "    </tr>\n",
              "    <tr>\n",
              "      <td>1</td>\n",
              "      <td>0.722121</td>\n",
              "      <td>0.729740</td>\n",
              "      <td>0.810832</td>\n",
              "      <td>01:45</td>\n",
              "    </tr>\n",
              "    <tr>\n",
              "      <td>2</td>\n",
              "      <td>0.604499</td>\n",
              "      <td>0.708761</td>\n",
              "      <td>0.828442</td>\n",
              "      <td>01:43</td>\n",
              "    </tr>\n",
              "    <tr>\n",
              "      <td>3</td>\n",
              "      <td>0.641084</td>\n",
              "      <td>0.704438</td>\n",
              "      <td>0.834045</td>\n",
              "      <td>01:40</td>\n",
              "    </tr>\n",
              "    <tr>\n",
              "      <td>4</td>\n",
              "      <td>0.558009</td>\n",
              "      <td>0.694617</td>\n",
              "      <td>0.844717</td>\n",
              "      <td>01:39</td>\n",
              "    </tr>\n",
              "    <tr>\n",
              "      <td>5</td>\n",
              "      <td>0.490135</td>\n",
              "      <td>0.708661</td>\n",
              "      <td>0.845251</td>\n",
              "      <td>01:44</td>\n",
              "    </tr>\n",
              "    <tr>\n",
              "      <td>6</td>\n",
              "      <td>0.471835</td>\n",
              "      <td>0.708605</td>\n",
              "      <td>0.846852</td>\n",
              "      <td>01:38</td>\n",
              "    </tr>\n",
              "    <tr>\n",
              "      <td>7</td>\n",
              "      <td>0.546573</td>\n",
              "      <td>0.721687</td>\n",
              "      <td>0.839114</td>\n",
              "      <td>01:39</td>\n",
              "    </tr>\n",
              "    <tr>\n",
              "      <td>8</td>\n",
              "      <td>0.500217</td>\n",
              "      <td>0.712621</td>\n",
              "      <td>0.843383</td>\n",
              "      <td>01:44</td>\n",
              "    </tr>\n",
              "    <tr>\n",
              "      <td>9</td>\n",
              "      <td>0.481167</td>\n",
              "      <td>0.726191</td>\n",
              "      <td>0.842849</td>\n",
              "      <td>01:37</td>\n",
              "    </tr>\n",
              "    <tr>\n",
              "      <td>10</td>\n",
              "      <td>0.448264</td>\n",
              "      <td>0.710272</td>\n",
              "      <td>0.852988</td>\n",
              "      <td>01:43</td>\n",
              "    </tr>\n",
              "    <tr>\n",
              "      <td>11</td>\n",
              "      <td>0.444269</td>\n",
              "      <td>0.712115</td>\n",
              "      <td>0.851654</td>\n",
              "      <td>01:37</td>\n",
              "    </tr>\n",
              "    <tr>\n",
              "      <td>12</td>\n",
              "      <td>0.412150</td>\n",
              "      <td>0.726217</td>\n",
              "      <td>0.850587</td>\n",
              "      <td>01:43</td>\n",
              "    </tr>\n",
              "    <tr>\n",
              "      <td>13</td>\n",
              "      <td>0.419903</td>\n",
              "      <td>0.726923</td>\n",
              "      <td>0.850587</td>\n",
              "      <td>01:43</td>\n",
              "    </tr>\n",
              "    <tr>\n",
              "      <td>14</td>\n",
              "      <td>0.404186</td>\n",
              "      <td>0.727540</td>\n",
              "      <td>0.849787</td>\n",
              "      <td>01:37</td>\n",
              "    </tr>\n",
              "    <tr>\n",
              "      <td>15</td>\n",
              "      <td>0.481084</td>\n",
              "      <td>0.763421</td>\n",
              "      <td>0.835646</td>\n",
              "      <td>01:41</td>\n",
              "    </tr>\n",
              "  </tbody>\n",
              "</table><p>\n",
              "\n",
              "    <div>\n",
              "        <style>\n",
              "            /* Turns off some styling */\n",
              "            progress {\n",
              "                /* gets rid of default border in Firefox and Opera. */\n",
              "                border: none;\n",
              "                /* Needs to be in here for Safari polyfill so background images work as expected. */\n",
              "                background-size: auto;\n",
              "            }\n",
              "            .progress-bar-interrupted, .progress-bar-interrupted::-webkit-progress-bar {\n",
              "                background: #F44336;\n",
              "            }\n",
              "        </style>\n",
              "      <progress value='0' class='progress-bar-interrupted' max='468', style='width:300px; height:20px; vertical-align: middle;'></progress>\n",
              "      Interrupted\n",
              "    </div>\n",
              "    "
            ],
            "text/plain": [
              "<IPython.core.display.HTML object>"
            ]
          },
          "metadata": {
            "tags": []
          }
        },
        {
          "output_type": "stream",
          "text": [
            "Better model found at epoch 0 with accuracy value: 0.7662753462791443.\n",
            "Better model found at epoch 1 with accuracy value: 0.8108324408531189.\n",
            "Better model found at epoch 2 with accuracy value: 0.828441858291626.\n",
            "Better model found at epoch 3 with accuracy value: 0.8340448141098022.\n",
            "Better model found at epoch 4 with accuracy value: 0.8447172045707703.\n",
            "Better model found at epoch 5 with accuracy value: 0.8452507853507996.\n",
            "Better model found at epoch 6 with accuracy value: 0.846851646900177.\n",
            "Better model found at epoch 10 with accuracy value: 0.8529882431030273.\n"
          ],
          "name": "stdout"
        },
        {
          "output_type": "error",
          "ename": "KeyboardInterrupt",
          "evalue": "ignored",
          "traceback": [
            "\u001b[0;31m---------------------------------------------------------------------------\u001b[0m",
            "\u001b[0;31mKeyboardInterrupt\u001b[0m                         Traceback (most recent call last)",
            "\u001b[0;32m<ipython-input-34-d8aff935cb36>\u001b[0m in \u001b[0;36m<module>\u001b[0;34m()\u001b[0m\n\u001b[1;32m     47\u001b[0m                                                  name='classifier_stage1')])\n\u001b[1;32m     48\u001b[0m \u001b[0;34m\u001b[0m\u001b[0m\n\u001b[0;32m---> 49\u001b[0;31m \u001b[0mfit_cosine_restart\u001b[0m\u001b[0;34m(\u001b[0m\u001b[0mlearn\u001b[0m\u001b[0;34m,\u001b[0m \u001b[0;36m15\u001b[0m\u001b[0;34m,\u001b[0m \u001b[0mlr\u001b[0m\u001b[0;34m,\u001b[0m \u001b[0;36m0.9\u001b[0m\u001b[0;34m,\u001b[0m \u001b[0;36m1\u001b[0m\u001b[0;34m,\u001b[0m \u001b[0;36m2\u001b[0m\u001b[0;34m)\u001b[0m\u001b[0;34m\u001b[0m\u001b[0;34m\u001b[0m\u001b[0m\n\u001b[0m\u001b[1;32m     50\u001b[0m \u001b[0;34m\u001b[0m\u001b[0m\n\u001b[1;32m     51\u001b[0m \u001b[0;34m\u001b[0m\u001b[0m\n",
            "\u001b[0;32m<ipython-input-34-d8aff935cb36>\u001b[0m in \u001b[0;36mfit_cosine_restart\u001b[0;34m(learn, n_cycles, lr, mom, cycle_len, cycle_mult)\u001b[0m\n\u001b[1;32m     45\u001b[0m     learn.fit(total_epochs, \n\u001b[1;32m     46\u001b[0m               callbacks=[SaveModelCallback(learn, every='improvement', monitor='accuracy', \n\u001b[0;32m---> 47\u001b[0;31m                                                  name='classifier_stage1')])\n\u001b[0m\u001b[1;32m     48\u001b[0m \u001b[0;34m\u001b[0m\u001b[0m\n\u001b[1;32m     49\u001b[0m \u001b[0mfit_cosine_restart\u001b[0m\u001b[0;34m(\u001b[0m\u001b[0mlearn\u001b[0m\u001b[0;34m,\u001b[0m \u001b[0;36m15\u001b[0m\u001b[0;34m,\u001b[0m \u001b[0mlr\u001b[0m\u001b[0;34m,\u001b[0m \u001b[0;36m0.9\u001b[0m\u001b[0;34m,\u001b[0m \u001b[0;36m1\u001b[0m\u001b[0;34m,\u001b[0m \u001b[0;36m2\u001b[0m\u001b[0;34m)\u001b[0m\u001b[0;34m\u001b[0m\u001b[0;34m\u001b[0m\u001b[0m\n",
            "\u001b[0;32m/usr/local/lib/python3.6/dist-packages/fastai/basic_train.py\u001b[0m in \u001b[0;36mfit\u001b[0;34m(self, epochs, lr, wd, callbacks)\u001b[0m\n\u001b[1;32m    198\u001b[0m         \u001b[0;32melse\u001b[0m\u001b[0;34m:\u001b[0m \u001b[0mself\u001b[0m\u001b[0;34m.\u001b[0m\u001b[0mopt\u001b[0m\u001b[0;34m.\u001b[0m\u001b[0mlr\u001b[0m\u001b[0;34m,\u001b[0m\u001b[0mself\u001b[0m\u001b[0;34m.\u001b[0m\u001b[0mopt\u001b[0m\u001b[0;34m.\u001b[0m\u001b[0mwd\u001b[0m \u001b[0;34m=\u001b[0m \u001b[0mlr\u001b[0m\u001b[0;34m,\u001b[0m\u001b[0mwd\u001b[0m\u001b[0;34m\u001b[0m\u001b[0;34m\u001b[0m\u001b[0m\n\u001b[1;32m    199\u001b[0m         \u001b[0mcallbacks\u001b[0m \u001b[0;34m=\u001b[0m \u001b[0;34m[\u001b[0m\u001b[0mcb\u001b[0m\u001b[0;34m(\u001b[0m\u001b[0mself\u001b[0m\u001b[0;34m)\u001b[0m \u001b[0;32mfor\u001b[0m \u001b[0mcb\u001b[0m \u001b[0;32min\u001b[0m \u001b[0mself\u001b[0m\u001b[0;34m.\u001b[0m\u001b[0mcallback_fns\u001b[0m \u001b[0;34m+\u001b[0m \u001b[0mlistify\u001b[0m\u001b[0;34m(\u001b[0m\u001b[0mdefaults\u001b[0m\u001b[0;34m.\u001b[0m\u001b[0mextra_callback_fns\u001b[0m\u001b[0;34m)\u001b[0m\u001b[0;34m]\u001b[0m \u001b[0;34m+\u001b[0m \u001b[0mlistify\u001b[0m\u001b[0;34m(\u001b[0m\u001b[0mcallbacks\u001b[0m\u001b[0;34m)\u001b[0m\u001b[0;34m\u001b[0m\u001b[0;34m\u001b[0m\u001b[0m\n\u001b[0;32m--> 200\u001b[0;31m         \u001b[0mfit\u001b[0m\u001b[0;34m(\u001b[0m\u001b[0mepochs\u001b[0m\u001b[0;34m,\u001b[0m \u001b[0mself\u001b[0m\u001b[0;34m,\u001b[0m \u001b[0mmetrics\u001b[0m\u001b[0;34m=\u001b[0m\u001b[0mself\u001b[0m\u001b[0;34m.\u001b[0m\u001b[0mmetrics\u001b[0m\u001b[0;34m,\u001b[0m \u001b[0mcallbacks\u001b[0m\u001b[0;34m=\u001b[0m\u001b[0mself\u001b[0m\u001b[0;34m.\u001b[0m\u001b[0mcallbacks\u001b[0m\u001b[0;34m+\u001b[0m\u001b[0mcallbacks\u001b[0m\u001b[0;34m)\u001b[0m\u001b[0;34m\u001b[0m\u001b[0;34m\u001b[0m\u001b[0m\n\u001b[0m\u001b[1;32m    201\u001b[0m \u001b[0;34m\u001b[0m\u001b[0m\n\u001b[1;32m    202\u001b[0m     \u001b[0;32mdef\u001b[0m \u001b[0mcreate_opt\u001b[0m\u001b[0;34m(\u001b[0m\u001b[0mself\u001b[0m\u001b[0;34m,\u001b[0m \u001b[0mlr\u001b[0m\u001b[0;34m:\u001b[0m\u001b[0mFloats\u001b[0m\u001b[0;34m,\u001b[0m \u001b[0mwd\u001b[0m\u001b[0;34m:\u001b[0m\u001b[0mFloats\u001b[0m\u001b[0;34m=\u001b[0m\u001b[0;36m0.\u001b[0m\u001b[0;34m)\u001b[0m\u001b[0;34m->\u001b[0m\u001b[0;32mNone\u001b[0m\u001b[0;34m:\u001b[0m\u001b[0;34m\u001b[0m\u001b[0;34m\u001b[0m\u001b[0m\n",
            "\u001b[0;32m/usr/local/lib/python3.6/dist-packages/fastai/basic_train.py\u001b[0m in \u001b[0;36mfit\u001b[0;34m(epochs, learn, callbacks, metrics)\u001b[0m\n\u001b[1;32m     99\u001b[0m             \u001b[0;32mfor\u001b[0m \u001b[0mxb\u001b[0m\u001b[0;34m,\u001b[0m\u001b[0myb\u001b[0m \u001b[0;32min\u001b[0m \u001b[0mprogress_bar\u001b[0m\u001b[0;34m(\u001b[0m\u001b[0mlearn\u001b[0m\u001b[0;34m.\u001b[0m\u001b[0mdata\u001b[0m\u001b[0;34m.\u001b[0m\u001b[0mtrain_dl\u001b[0m\u001b[0;34m,\u001b[0m \u001b[0mparent\u001b[0m\u001b[0;34m=\u001b[0m\u001b[0mpbar\u001b[0m\u001b[0;34m)\u001b[0m\u001b[0;34m:\u001b[0m\u001b[0;34m\u001b[0m\u001b[0;34m\u001b[0m\u001b[0m\n\u001b[1;32m    100\u001b[0m                 \u001b[0mxb\u001b[0m\u001b[0;34m,\u001b[0m \u001b[0myb\u001b[0m \u001b[0;34m=\u001b[0m \u001b[0mcb_handler\u001b[0m\u001b[0;34m.\u001b[0m\u001b[0mon_batch_begin\u001b[0m\u001b[0;34m(\u001b[0m\u001b[0mxb\u001b[0m\u001b[0;34m,\u001b[0m \u001b[0myb\u001b[0m\u001b[0;34m)\u001b[0m\u001b[0;34m\u001b[0m\u001b[0;34m\u001b[0m\u001b[0m\n\u001b[0;32m--> 101\u001b[0;31m                 \u001b[0mloss\u001b[0m \u001b[0;34m=\u001b[0m \u001b[0mloss_batch\u001b[0m\u001b[0;34m(\u001b[0m\u001b[0mlearn\u001b[0m\u001b[0;34m.\u001b[0m\u001b[0mmodel\u001b[0m\u001b[0;34m,\u001b[0m \u001b[0mxb\u001b[0m\u001b[0;34m,\u001b[0m \u001b[0myb\u001b[0m\u001b[0;34m,\u001b[0m \u001b[0mlearn\u001b[0m\u001b[0;34m.\u001b[0m\u001b[0mloss_func\u001b[0m\u001b[0;34m,\u001b[0m \u001b[0mlearn\u001b[0m\u001b[0;34m.\u001b[0m\u001b[0mopt\u001b[0m\u001b[0;34m,\u001b[0m \u001b[0mcb_handler\u001b[0m\u001b[0;34m)\u001b[0m\u001b[0;34m\u001b[0m\u001b[0;34m\u001b[0m\u001b[0m\n\u001b[0m\u001b[1;32m    102\u001b[0m                 \u001b[0;32mif\u001b[0m \u001b[0mcb_handler\u001b[0m\u001b[0;34m.\u001b[0m\u001b[0mon_batch_end\u001b[0m\u001b[0;34m(\u001b[0m\u001b[0mloss\u001b[0m\u001b[0;34m)\u001b[0m\u001b[0;34m:\u001b[0m \u001b[0;32mbreak\u001b[0m\u001b[0;34m\u001b[0m\u001b[0;34m\u001b[0m\u001b[0m\n\u001b[1;32m    103\u001b[0m \u001b[0;34m\u001b[0m\u001b[0m\n",
            "\u001b[0;32m/usr/local/lib/python3.6/dist-packages/fastai/basic_train.py\u001b[0m in \u001b[0;36mloss_batch\u001b[0;34m(model, xb, yb, loss_func, opt, cb_handler)\u001b[0m\n\u001b[1;32m     33\u001b[0m         \u001b[0mloss\u001b[0m\u001b[0;34m,\u001b[0m\u001b[0mskip_bwd\u001b[0m \u001b[0;34m=\u001b[0m \u001b[0mcb_handler\u001b[0m\u001b[0;34m.\u001b[0m\u001b[0mon_backward_begin\u001b[0m\u001b[0;34m(\u001b[0m\u001b[0mloss\u001b[0m\u001b[0;34m)\u001b[0m\u001b[0;34m\u001b[0m\u001b[0;34m\u001b[0m\u001b[0m\n\u001b[1;32m     34\u001b[0m         \u001b[0;32mif\u001b[0m \u001b[0;32mnot\u001b[0m \u001b[0mskip_bwd\u001b[0m\u001b[0;34m:\u001b[0m                     \u001b[0mloss\u001b[0m\u001b[0;34m.\u001b[0m\u001b[0mbackward\u001b[0m\u001b[0;34m(\u001b[0m\u001b[0;34m)\u001b[0m\u001b[0;34m\u001b[0m\u001b[0;34m\u001b[0m\u001b[0m\n\u001b[0;32m---> 35\u001b[0;31m         \u001b[0;32mif\u001b[0m \u001b[0;32mnot\u001b[0m \u001b[0mcb_handler\u001b[0m\u001b[0;34m.\u001b[0m\u001b[0mon_backward_end\u001b[0m\u001b[0;34m(\u001b[0m\u001b[0;34m)\u001b[0m\u001b[0;34m:\u001b[0m \u001b[0mopt\u001b[0m\u001b[0;34m.\u001b[0m\u001b[0mstep\u001b[0m\u001b[0;34m(\u001b[0m\u001b[0;34m)\u001b[0m\u001b[0;34m\u001b[0m\u001b[0;34m\u001b[0m\u001b[0m\n\u001b[0m\u001b[1;32m     36\u001b[0m         \u001b[0;32mif\u001b[0m \u001b[0;32mnot\u001b[0m \u001b[0mcb_handler\u001b[0m\u001b[0;34m.\u001b[0m\u001b[0mon_step_end\u001b[0m\u001b[0;34m(\u001b[0m\u001b[0;34m)\u001b[0m\u001b[0;34m:\u001b[0m     \u001b[0mopt\u001b[0m\u001b[0;34m.\u001b[0m\u001b[0mzero_grad\u001b[0m\u001b[0;34m(\u001b[0m\u001b[0;34m)\u001b[0m\u001b[0;34m\u001b[0m\u001b[0;34m\u001b[0m\u001b[0m\n\u001b[1;32m     37\u001b[0m \u001b[0;34m\u001b[0m\u001b[0m\n",
            "\u001b[0;32m/usr/local/lib/python3.6/dist-packages/fastai/callback.py\u001b[0m in \u001b[0;36mstep\u001b[0;34m(self)\u001b[0m\n\u001b[1;32m     55\u001b[0m                     \u001b[0;32mfor\u001b[0m \u001b[0mp\u001b[0m \u001b[0;32min\u001b[0m \u001b[0mpg2\u001b[0m\u001b[0;34m[\u001b[0m\u001b[0;34m'params'\u001b[0m\u001b[0;34m]\u001b[0m\u001b[0;34m:\u001b[0m \u001b[0mp\u001b[0m\u001b[0;34m.\u001b[0m\u001b[0mdata\u001b[0m\u001b[0;34m.\u001b[0m\u001b[0mmul_\u001b[0m\u001b[0;34m(\u001b[0m\u001b[0;36m1\u001b[0m \u001b[0;34m-\u001b[0m \u001b[0mwd\u001b[0m\u001b[0;34m*\u001b[0m\u001b[0mlr\u001b[0m\u001b[0;34m)\u001b[0m\u001b[0;34m\u001b[0m\u001b[0;34m\u001b[0m\u001b[0m\n\u001b[1;32m     56\u001b[0m             \u001b[0mself\u001b[0m\u001b[0;34m.\u001b[0m\u001b[0mset_val\u001b[0m\u001b[0;34m(\u001b[0m\u001b[0;34m'weight_decay'\u001b[0m\u001b[0;34m,\u001b[0m \u001b[0mlistify\u001b[0m\u001b[0;34m(\u001b[0m\u001b[0;36m0\u001b[0m\u001b[0;34m,\u001b[0m \u001b[0mself\u001b[0m\u001b[0;34m.\u001b[0m\u001b[0m_wd\u001b[0m\u001b[0;34m)\u001b[0m\u001b[0;34m)\u001b[0m\u001b[0;34m\u001b[0m\u001b[0;34m\u001b[0m\u001b[0m\n\u001b[0;32m---> 57\u001b[0;31m         \u001b[0mself\u001b[0m\u001b[0;34m.\u001b[0m\u001b[0mopt\u001b[0m\u001b[0;34m.\u001b[0m\u001b[0mstep\u001b[0m\u001b[0;34m(\u001b[0m\u001b[0;34m)\u001b[0m\u001b[0;34m\u001b[0m\u001b[0;34m\u001b[0m\u001b[0m\n\u001b[0m\u001b[1;32m     58\u001b[0m \u001b[0;34m\u001b[0m\u001b[0m\n\u001b[1;32m     59\u001b[0m     \u001b[0;32mdef\u001b[0m \u001b[0mzero_grad\u001b[0m\u001b[0;34m(\u001b[0m\u001b[0mself\u001b[0m\u001b[0;34m)\u001b[0m\u001b[0;34m->\u001b[0m\u001b[0;32mNone\u001b[0m\u001b[0;34m:\u001b[0m\u001b[0;34m\u001b[0m\u001b[0;34m\u001b[0m\u001b[0m\n",
            "\u001b[0;32m/usr/local/lib/python3.6/dist-packages/transformers/optimization.py\u001b[0m in \u001b[0;36mstep\u001b[0;34m(self, closure)\u001b[0m\n\u001b[1;32m    144\u001b[0m                 \u001b[0;31m# Decay the first and second moment running average coefficient\u001b[0m\u001b[0;34m\u001b[0m\u001b[0;34m\u001b[0m\u001b[0;34m\u001b[0m\u001b[0m\n\u001b[1;32m    145\u001b[0m                 \u001b[0;31m# In-place operations to update the averages at the same time\u001b[0m\u001b[0;34m\u001b[0m\u001b[0;34m\u001b[0m\u001b[0;34m\u001b[0m\u001b[0m\n\u001b[0;32m--> 146\u001b[0;31m                 \u001b[0mexp_avg\u001b[0m\u001b[0;34m.\u001b[0m\u001b[0mmul_\u001b[0m\u001b[0;34m(\u001b[0m\u001b[0mbeta1\u001b[0m\u001b[0;34m)\u001b[0m\u001b[0;34m.\u001b[0m\u001b[0madd_\u001b[0m\u001b[0;34m(\u001b[0m\u001b[0;36m1.0\u001b[0m \u001b[0;34m-\u001b[0m \u001b[0mbeta1\u001b[0m\u001b[0;34m,\u001b[0m \u001b[0mgrad\u001b[0m\u001b[0;34m)\u001b[0m\u001b[0;34m\u001b[0m\u001b[0;34m\u001b[0m\u001b[0m\n\u001b[0m\u001b[1;32m    147\u001b[0m                 \u001b[0mexp_avg_sq\u001b[0m\u001b[0;34m.\u001b[0m\u001b[0mmul_\u001b[0m\u001b[0;34m(\u001b[0m\u001b[0mbeta2\u001b[0m\u001b[0;34m)\u001b[0m\u001b[0;34m.\u001b[0m\u001b[0maddcmul_\u001b[0m\u001b[0;34m(\u001b[0m\u001b[0;36m1.0\u001b[0m \u001b[0;34m-\u001b[0m \u001b[0mbeta2\u001b[0m\u001b[0;34m,\u001b[0m \u001b[0mgrad\u001b[0m\u001b[0;34m,\u001b[0m \u001b[0mgrad\u001b[0m\u001b[0;34m)\u001b[0m\u001b[0;34m\u001b[0m\u001b[0;34m\u001b[0m\u001b[0m\n\u001b[1;32m    148\u001b[0m                 \u001b[0mdenom\u001b[0m \u001b[0;34m=\u001b[0m \u001b[0mexp_avg_sq\u001b[0m\u001b[0;34m.\u001b[0m\u001b[0msqrt\u001b[0m\u001b[0;34m(\u001b[0m\u001b[0;34m)\u001b[0m\u001b[0;34m.\u001b[0m\u001b[0madd_\u001b[0m\u001b[0;34m(\u001b[0m\u001b[0mgroup\u001b[0m\u001b[0;34m[\u001b[0m\u001b[0;34m'eps'\u001b[0m\u001b[0;34m]\u001b[0m\u001b[0;34m)\u001b[0m\u001b[0;34m\u001b[0m\u001b[0;34m\u001b[0m\u001b[0m\n",
            "\u001b[0;31mKeyboardInterrupt\u001b[0m: "
          ]
        }
      ]
    },
    {
      "cell_type": "markdown",
      "metadata": {
        "id": "PY-O__onPn31",
        "colab_type": "text"
      },
      "source": [
        "**Results**\n",
        "\n",
        "approx 85.3% accuracy training unfrozen model (without discriminative learning rate) for 5 epochs\n"
      ]
    },
    {
      "cell_type": "code",
      "metadata": {
        "id": "_U2u6mCmlgMw",
        "colab_type": "code",
        "colab": {}
      },
      "source": [
        "try: \n",
        "    learn.load('classifier_stage1')\n",
        "except:\n",
        "    print('no learner created')\n",
        "learn.unfreeze();"
      ],
      "execution_count": 0,
      "outputs": []
    },
    {
      "cell_type": "code",
      "metadata": {
        "id": "8V_AlPPZ7TB-",
        "colab_type": "code",
        "colab": {
          "base_uri": "https://localhost:8080/",
          "height": 331
        },
        "outputId": "04edfe1a-c50a-4d69-d1a1-15b0a7a9874e"
      },
      "source": [
        "learn.lr_find()\n",
        "learn.recorder.plot(suggestion = True, skip_end=15)"
      ],
      "execution_count": 36,
      "outputs": [
        {
          "output_type": "display_data",
          "data": {
            "text/html": [
              ""
            ],
            "text/plain": [
              "<IPython.core.display.HTML object>"
            ]
          },
          "metadata": {
            "tags": []
          }
        },
        {
          "output_type": "stream",
          "text": [
            "LR Finder is complete, type {learner_name}.recorder.plot() to see the graph.\n",
            "Min numerical gradient: 6.31E-07\n",
            "Min loss divided by 10: 1.10E-07\n"
          ],
          "name": "stdout"
        },
        {
          "output_type": "display_data",
          "data": {
            "image/png": "[encoded data removed]",
            "text/plain": [
              "<Figure size 432x288 with 1 Axes>"
            ]
          },
          "metadata": {
            "tags": []
          }
        }
      ]
    },
    {
      "cell_type": "code",
      "metadata": {
        "id": "k13jU0KIqaIN",
        "colab_type": "code",
        "colab": {
          "base_uri": "https://localhost:8080/",
          "height": 1000
        },
        "outputId": "80e983aa-d71f-43ed-9179-c027a26f8f81"
      },
      "source": [
        "lr = lr_init/10\n",
        "\n",
        "\"\"\"Training without adjusting the momentum\"\"\"\n",
        "# learn.fit_one_cycle(10, \n",
        "#                     lr,\n",
        "#                     pct_start = 0.3, \n",
        "#                     callbacks=[SaveModelCallback(learn, every='improvement', monitor='accuracy', \n",
        "#                                                  name='classifier_stage1')])\n",
        "\n",
        "# \"\"\"Training discriminative learning rates\"\"\"\n",
        "# learn.fit_one_cycle(5, \n",
        "#                     slice(lr/10, lr), \n",
        "#                     callbacks=[SaveModelCallback(learn, every='improvement', monitor='accuracy', \n",
        "#                                                  name='classifier_stage1')])\n",
        "\"\"\"\n",
        "Clipping momentum\n",
        "\"\"\"\n",
        "\n",
        "\n",
        "# learn.fit_one_cycle(10, \n",
        "#                     lr, \n",
        "#                     moms=(0.8,0.7),\n",
        "#                     callbacks=[SaveModelCallback(learn, every='improvement', monitor='accuracy', \n",
        "#                                                  name='classifier_stage1')])\n",
        "\n",
        "\n",
        "\"\"\"\n",
        "cosine anneal with restarts\n",
        "\"\"\"\n",
        "fit_cosine_restart(learn, 5, lr, 0.9, 1, 2)\n",
        "\n",
        "\n",
        "learn.recorder.plot_losses()"
      ],
      "execution_count": 37,
      "outputs": [
        {
          "output_type": "display_data",
          "data": {
            "text/html": [
              "\n",
              "    <div>\n",
              "        <style>\n",
              "            /* Turns off some styling */\n",
              "            progress {\n",
              "                /* gets rid of default border in Firefox and Opera. */\n",
              "                border: none;\n",
              "                /* Needs to be in here for Safari polyfill so background images work as expected. */\n",
              "                background-size: auto;\n",
              "            }\n",
              "            .progress-bar-interrupted, .progress-bar-interrupted::-webkit-progress-bar {\n",
              "                background: #F44336;\n",
              "            }\n",
              "        </style>\n",
              "      <progress value='17' class='' max='31', style='width:300px; height:20px; vertical-align: middle;'></progress>\n",
              "      54.84% [17/31 28:49<23:44]\n",
              "    </div>\n",
              "    \n",
              "<table border=\"1\" class=\"dataframe\">\n",
              "  <thead>\n",
              "    <tr style=\"text-align: left;\">\n",
              "      <th>epoch</th>\n",
              "      <th>train_loss</th>\n",
              "      <th>valid_loss</th>\n",
              "      <th>accuracy</th>\n",
              "      <th>time</th>\n",
              "    </tr>\n",
              "  </thead>\n",
              "  <tbody>\n",
              "    <tr>\n",
              "      <td>0</td>\n",
              "      <td>0.428923</td>\n",
              "      <td>0.713174</td>\n",
              "      <td>0.855656</td>\n",
              "      <td>01:39</td>\n",
              "    </tr>\n",
              "    <tr>\n",
              "      <td>1</td>\n",
              "      <td>0.422075</td>\n",
              "      <td>0.718481</td>\n",
              "      <td>0.852455</td>\n",
              "      <td>01:46</td>\n",
              "    </tr>\n",
              "    <tr>\n",
              "      <td>2</td>\n",
              "      <td>0.419276</td>\n",
              "      <td>0.721175</td>\n",
              "      <td>0.854056</td>\n",
              "      <td>01:41</td>\n",
              "    </tr>\n",
              "    <tr>\n",
              "      <td>3</td>\n",
              "      <td>0.415460</td>\n",
              "      <td>0.726254</td>\n",
              "      <td>0.850587</td>\n",
              "      <td>01:45</td>\n",
              "    </tr>\n",
              "    <tr>\n",
              "      <td>4</td>\n",
              "      <td>0.416595</td>\n",
              "      <td>0.725289</td>\n",
              "      <td>0.851654</td>\n",
              "      <td>01:45</td>\n",
              "    </tr>\n",
              "    <tr>\n",
              "      <td>5</td>\n",
              "      <td>0.414781</td>\n",
              "      <td>0.725130</td>\n",
              "      <td>0.850053</td>\n",
              "      <td>01:37</td>\n",
              "    </tr>\n",
              "    <tr>\n",
              "      <td>6</td>\n",
              "      <td>0.408659</td>\n",
              "      <td>0.725505</td>\n",
              "      <td>0.849787</td>\n",
              "      <td>01:45</td>\n",
              "    </tr>\n",
              "    <tr>\n",
              "      <td>7</td>\n",
              "      <td>0.412875</td>\n",
              "      <td>0.731039</td>\n",
              "      <td>0.847118</td>\n",
              "      <td>01:39</td>\n",
              "    </tr>\n",
              "    <tr>\n",
              "      <td>8</td>\n",
              "      <td>0.415419</td>\n",
              "      <td>0.726803</td>\n",
              "      <td>0.852188</td>\n",
              "      <td>01:40</td>\n",
              "    </tr>\n",
              "    <tr>\n",
              "      <td>9</td>\n",
              "      <td>0.416405</td>\n",
              "      <td>0.725559</td>\n",
              "      <td>0.849253</td>\n",
              "      <td>01:37</td>\n",
              "    </tr>\n",
              "    <tr>\n",
              "      <td>10</td>\n",
              "      <td>0.420019</td>\n",
              "      <td>0.726819</td>\n",
              "      <td>0.850587</td>\n",
              "      <td>01:39</td>\n",
              "    </tr>\n",
              "    <tr>\n",
              "      <td>11</td>\n",
              "      <td>0.403798</td>\n",
              "      <td>0.729234</td>\n",
              "      <td>0.850053</td>\n",
              "      <td>01:39</td>\n",
              "    </tr>\n",
              "    <tr>\n",
              "      <td>12</td>\n",
              "      <td>0.402210</td>\n",
              "      <td>0.729883</td>\n",
              "      <td>0.851921</td>\n",
              "      <td>01:45</td>\n",
              "    </tr>\n",
              "    <tr>\n",
              "      <td>13</td>\n",
              "      <td>0.410119</td>\n",
              "      <td>0.730014</td>\n",
              "      <td>0.853255</td>\n",
              "      <td>01:42</td>\n",
              "    </tr>\n",
              "    <tr>\n",
              "      <td>14</td>\n",
              "      <td>0.406493</td>\n",
              "      <td>0.729799</td>\n",
              "      <td>0.852988</td>\n",
              "      <td>01:44</td>\n",
              "    </tr>\n",
              "    <tr>\n",
              "      <td>15</td>\n",
              "      <td>0.408668</td>\n",
              "      <td>0.729950</td>\n",
              "      <td>0.851921</td>\n",
              "      <td>01:37</td>\n",
              "    </tr>\n",
              "    <tr>\n",
              "      <td>16</td>\n",
              "      <td>0.405830</td>\n",
              "      <td>0.734559</td>\n",
              "      <td>0.850320</td>\n",
              "      <td>01:37</td>\n",
              "    </tr>\n",
              "  </tbody>\n",
              "</table><p>\n",
              "\n",
              "    <div>\n",
              "        <style>\n",
              "            /* Turns off some styling */\n",
              "            progress {\n",
              "                /* gets rid of default border in Firefox and Opera. */\n",
              "                border: none;\n",
              "                /* Needs to be in here for Safari polyfill so background images work as expected. */\n",
              "                background-size: auto;\n",
              "            }\n",
              "            .progress-bar-interrupted, .progress-bar-interrupted::-webkit-progress-bar {\n",
              "                background: #F44336;\n",
              "            }\n",
              "        </style>\n",
              "      <progress value='0' class='progress-bar-interrupted' max='468', style='width:300px; height:20px; vertical-align: middle;'></progress>\n",
              "      Interrupted\n",
              "    </div>\n",
              "    "
            ],
            "text/plain": [
              "<IPython.core.display.HTML object>"
            ]
          },
          "metadata": {
            "tags": []
          }
        },
        {
          "output_type": "stream",
          "text": [
            "Better model found at epoch 0 with accuracy value: 0.8556563258171082.\n"
          ],
          "name": "stdout"
        },
        {
          "output_type": "error",
          "ename": "KeyboardInterrupt",
          "evalue": "ignored",
          "traceback": [
            "\u001b[0;31m---------------------------------------------------------------------------\u001b[0m",
            "\u001b[0;31mKeyboardInterrupt\u001b[0m                         Traceback (most recent call last)",
            "\u001b[0;32m<ipython-input-37-6b016539413a>\u001b[0m in \u001b[0;36m<module>\u001b[0;34m()\u001b[0m\n\u001b[1;32m     28\u001b[0m \u001b[0mcosine\u001b[0m \u001b[0manneal\u001b[0m \u001b[0;32mwith\u001b[0m \u001b[0mrestarts\u001b[0m\u001b[0;34m\u001b[0m\u001b[0;34m\u001b[0m\u001b[0m\n\u001b[1;32m     29\u001b[0m \"\"\"\n\u001b[0;32m---> 30\u001b[0;31m \u001b[0mfit_cosine_restart\u001b[0m\u001b[0;34m(\u001b[0m\u001b[0mlearn\u001b[0m\u001b[0;34m,\u001b[0m \u001b[0;36m5\u001b[0m\u001b[0;34m,\u001b[0m \u001b[0mlr\u001b[0m\u001b[0;34m,\u001b[0m \u001b[0;36m0.9\u001b[0m\u001b[0;34m,\u001b[0m \u001b[0;36m1\u001b[0m\u001b[0;34m,\u001b[0m \u001b[0;36m2\u001b[0m\u001b[0;34m)\u001b[0m\u001b[0;34m\u001b[0m\u001b[0;34m\u001b[0m\u001b[0m\n\u001b[0m\u001b[1;32m     31\u001b[0m \u001b[0;34m\u001b[0m\u001b[0m\n\u001b[1;32m     32\u001b[0m \u001b[0;34m\u001b[0m\u001b[0m\n",
            "\u001b[0;32m<ipython-input-34-d8aff935cb36>\u001b[0m in \u001b[0;36mfit_cosine_restart\u001b[0;34m(learn, n_cycles, lr, mom, cycle_len, cycle_mult)\u001b[0m\n\u001b[1;32m     45\u001b[0m     learn.fit(total_epochs, \n\u001b[1;32m     46\u001b[0m               callbacks=[SaveModelCallback(learn, every='improvement', monitor='accuracy', \n\u001b[0;32m---> 47\u001b[0;31m                                                  name='classifier_stage1')])\n\u001b[0m\u001b[1;32m     48\u001b[0m \u001b[0;34m\u001b[0m\u001b[0m\n\u001b[1;32m     49\u001b[0m \u001b[0mfit_cosine_restart\u001b[0m\u001b[0;34m(\u001b[0m\u001b[0mlearn\u001b[0m\u001b[0;34m,\u001b[0m \u001b[0;36m15\u001b[0m\u001b[0;34m,\u001b[0m \u001b[0mlr\u001b[0m\u001b[0;34m,\u001b[0m \u001b[0;36m0.9\u001b[0m\u001b[0;34m,\u001b[0m \u001b[0;36m1\u001b[0m\u001b[0;34m,\u001b[0m \u001b[0;36m2\u001b[0m\u001b[0;34m)\u001b[0m\u001b[0;34m\u001b[0m\u001b[0;34m\u001b[0m\u001b[0m\n",
            "\u001b[0;32m/usr/local/lib/python3.6/dist-packages/fastai/basic_train.py\u001b[0m in \u001b[0;36mfit\u001b[0;34m(self, epochs, lr, wd, callbacks)\u001b[0m\n\u001b[1;32m    198\u001b[0m         \u001b[0;32melse\u001b[0m\u001b[0;34m:\u001b[0m \u001b[0mself\u001b[0m\u001b[0;34m.\u001b[0m\u001b[0mopt\u001b[0m\u001b[0;34m.\u001b[0m\u001b[0mlr\u001b[0m\u001b[0;34m,\u001b[0m\u001b[0mself\u001b[0m\u001b[0;34m.\u001b[0m\u001b[0mopt\u001b[0m\u001b[0;34m.\u001b[0m\u001b[0mwd\u001b[0m \u001b[0;34m=\u001b[0m \u001b[0mlr\u001b[0m\u001b[0;34m,\u001b[0m\u001b[0mwd\u001b[0m\u001b[0;34m\u001b[0m\u001b[0;34m\u001b[0m\u001b[0m\n\u001b[1;32m    199\u001b[0m         \u001b[0mcallbacks\u001b[0m \u001b[0;34m=\u001b[0m \u001b[0;34m[\u001b[0m\u001b[0mcb\u001b[0m\u001b[0;34m(\u001b[0m\u001b[0mself\u001b[0m\u001b[0;34m)\u001b[0m \u001b[0;32mfor\u001b[0m \u001b[0mcb\u001b[0m \u001b[0;32min\u001b[0m \u001b[0mself\u001b[0m\u001b[0;34m.\u001b[0m\u001b[0mcallback_fns\u001b[0m \u001b[0;34m+\u001b[0m \u001b[0mlistify\u001b[0m\u001b[0;34m(\u001b[0m\u001b[0mdefaults\u001b[0m\u001b[0;34m.\u001b[0m\u001b[0mextra_callback_fns\u001b[0m\u001b[0;34m)\u001b[0m\u001b[0;34m]\u001b[0m \u001b[0;34m+\u001b[0m \u001b[0mlistify\u001b[0m\u001b[0;34m(\u001b[0m\u001b[0mcallbacks\u001b[0m\u001b[0;34m)\u001b[0m\u001b[0;34m\u001b[0m\u001b[0;34m\u001b[0m\u001b[0m\n\u001b[0;32m--> 200\u001b[0;31m         \u001b[0mfit\u001b[0m\u001b[0;34m(\u001b[0m\u001b[0mepochs\u001b[0m\u001b[0;34m,\u001b[0m \u001b[0mself\u001b[0m\u001b[0;34m,\u001b[0m \u001b[0mmetrics\u001b[0m\u001b[0;34m=\u001b[0m\u001b[0mself\u001b[0m\u001b[0;34m.\u001b[0m\u001b[0mmetrics\u001b[0m\u001b[0;34m,\u001b[0m \u001b[0mcallbacks\u001b[0m\u001b[0;34m=\u001b[0m\u001b[0mself\u001b[0m\u001b[0;34m.\u001b[0m\u001b[0mcallbacks\u001b[0m\u001b[0;34m+\u001b[0m\u001b[0mcallbacks\u001b[0m\u001b[0;34m)\u001b[0m\u001b[0;34m\u001b[0m\u001b[0;34m\u001b[0m\u001b[0m\n\u001b[0m\u001b[1;32m    201\u001b[0m \u001b[0;34m\u001b[0m\u001b[0m\n\u001b[1;32m    202\u001b[0m     \u001b[0;32mdef\u001b[0m \u001b[0mcreate_opt\u001b[0m\u001b[0;34m(\u001b[0m\u001b[0mself\u001b[0m\u001b[0;34m,\u001b[0m \u001b[0mlr\u001b[0m\u001b[0;34m:\u001b[0m\u001b[0mFloats\u001b[0m\u001b[0;34m,\u001b[0m \u001b[0mwd\u001b[0m\u001b[0;34m:\u001b[0m\u001b[0mFloats\u001b[0m\u001b[0;34m=\u001b[0m\u001b[0;36m0.\u001b[0m\u001b[0;34m)\u001b[0m\u001b[0;34m->\u001b[0m\u001b[0;32mNone\u001b[0m\u001b[0;34m:\u001b[0m\u001b[0;34m\u001b[0m\u001b[0;34m\u001b[0m\u001b[0m\n",
            "\u001b[0;32m/usr/local/lib/python3.6/dist-packages/fastai/basic_train.py\u001b[0m in \u001b[0;36mfit\u001b[0;34m(epochs, learn, callbacks, metrics)\u001b[0m\n\u001b[1;32m     99\u001b[0m             \u001b[0;32mfor\u001b[0m \u001b[0mxb\u001b[0m\u001b[0;34m,\u001b[0m\u001b[0myb\u001b[0m \u001b[0;32min\u001b[0m \u001b[0mprogress_bar\u001b[0m\u001b[0;34m(\u001b[0m\u001b[0mlearn\u001b[0m\u001b[0;34m.\u001b[0m\u001b[0mdata\u001b[0m\u001b[0;34m.\u001b[0m\u001b[0mtrain_dl\u001b[0m\u001b[0;34m,\u001b[0m \u001b[0mparent\u001b[0m\u001b[0;34m=\u001b[0m\u001b[0mpbar\u001b[0m\u001b[0;34m)\u001b[0m\u001b[0;34m:\u001b[0m\u001b[0;34m\u001b[0m\u001b[0;34m\u001b[0m\u001b[0m\n\u001b[1;32m    100\u001b[0m                 \u001b[0mxb\u001b[0m\u001b[0;34m,\u001b[0m \u001b[0myb\u001b[0m \u001b[0;34m=\u001b[0m \u001b[0mcb_handler\u001b[0m\u001b[0;34m.\u001b[0m\u001b[0mon_batch_begin\u001b[0m\u001b[0;34m(\u001b[0m\u001b[0mxb\u001b[0m\u001b[0;34m,\u001b[0m \u001b[0myb\u001b[0m\u001b[0;34m)\u001b[0m\u001b[0;34m\u001b[0m\u001b[0;34m\u001b[0m\u001b[0m\n\u001b[0;32m--> 101\u001b[0;31m                 \u001b[0mloss\u001b[0m \u001b[0;34m=\u001b[0m \u001b[0mloss_batch\u001b[0m\u001b[0;34m(\u001b[0m\u001b[0mlearn\u001b[0m\u001b[0;34m.\u001b[0m\u001b[0mmodel\u001b[0m\u001b[0;34m,\u001b[0m \u001b[0mxb\u001b[0m\u001b[0;34m,\u001b[0m \u001b[0myb\u001b[0m\u001b[0;34m,\u001b[0m \u001b[0mlearn\u001b[0m\u001b[0;34m.\u001b[0m\u001b[0mloss_func\u001b[0m\u001b[0;34m,\u001b[0m \u001b[0mlearn\u001b[0m\u001b[0;34m.\u001b[0m\u001b[0mopt\u001b[0m\u001b[0;34m,\u001b[0m \u001b[0mcb_handler\u001b[0m\u001b[0;34m)\u001b[0m\u001b[0;34m\u001b[0m\u001b[0;34m\u001b[0m\u001b[0m\n\u001b[0m\u001b[1;32m    102\u001b[0m                 \u001b[0;32mif\u001b[0m \u001b[0mcb_handler\u001b[0m\u001b[0;34m.\u001b[0m\u001b[0mon_batch_end\u001b[0m\u001b[0;34m(\u001b[0m\u001b[0mloss\u001b[0m\u001b[0;34m)\u001b[0m\u001b[0;34m:\u001b[0m \u001b[0;32mbreak\u001b[0m\u001b[0;34m\u001b[0m\u001b[0;34m\u001b[0m\u001b[0m\n\u001b[1;32m    103\u001b[0m \u001b[0;34m\u001b[0m\u001b[0m\n",
            "\u001b[0;32m/usr/local/lib/python3.6/dist-packages/fastai/basic_train.py\u001b[0m in \u001b[0;36mloss_batch\u001b[0;34m(model, xb, yb, loss_func, opt, cb_handler)\u001b[0m\n\u001b[1;32m     32\u001b[0m     \u001b[0;32mif\u001b[0m \u001b[0mopt\u001b[0m \u001b[0;32mis\u001b[0m \u001b[0;32mnot\u001b[0m \u001b[0;32mNone\u001b[0m\u001b[0;34m:\u001b[0m\u001b[0;34m\u001b[0m\u001b[0;34m\u001b[0m\u001b[0m\n\u001b[1;32m     33\u001b[0m         \u001b[0mloss\u001b[0m\u001b[0;34m,\u001b[0m\u001b[0mskip_bwd\u001b[0m \u001b[0;34m=\u001b[0m \u001b[0mcb_handler\u001b[0m\u001b[0;34m.\u001b[0m\u001b[0mon_backward_begin\u001b[0m\u001b[0;34m(\u001b[0m\u001b[0mloss\u001b[0m\u001b[0;34m)\u001b[0m\u001b[0;34m\u001b[0m\u001b[0;34m\u001b[0m\u001b[0m\n\u001b[0;32m---> 34\u001b[0;31m         \u001b[0;32mif\u001b[0m \u001b[0;32mnot\u001b[0m \u001b[0mskip_bwd\u001b[0m\u001b[0;34m:\u001b[0m                     \u001b[0mloss\u001b[0m\u001b[0;34m.\u001b[0m\u001b[0mbackward\u001b[0m\u001b[0;34m(\u001b[0m\u001b[0;34m)\u001b[0m\u001b[0;34m\u001b[0m\u001b[0;34m\u001b[0m\u001b[0m\n\u001b[0m\u001b[1;32m     35\u001b[0m         \u001b[0;32mif\u001b[0m \u001b[0;32mnot\u001b[0m \u001b[0mcb_handler\u001b[0m\u001b[0;34m.\u001b[0m\u001b[0mon_backward_end\u001b[0m\u001b[0;34m(\u001b[0m\u001b[0;34m)\u001b[0m\u001b[0;34m:\u001b[0m \u001b[0mopt\u001b[0m\u001b[0;34m.\u001b[0m\u001b[0mstep\u001b[0m\u001b[0;34m(\u001b[0m\u001b[0;34m)\u001b[0m\u001b[0;34m\u001b[0m\u001b[0;34m\u001b[0m\u001b[0m\n\u001b[1;32m     36\u001b[0m         \u001b[0;32mif\u001b[0m \u001b[0;32mnot\u001b[0m \u001b[0mcb_handler\u001b[0m\u001b[0;34m.\u001b[0m\u001b[0mon_step_end\u001b[0m\u001b[0;34m(\u001b[0m\u001b[0;34m)\u001b[0m\u001b[0;34m:\u001b[0m     \u001b[0mopt\u001b[0m\u001b[0;34m.\u001b[0m\u001b[0mzero_grad\u001b[0m\u001b[0;34m(\u001b[0m\u001b[0;34m)\u001b[0m\u001b[0;34m\u001b[0m\u001b[0;34m\u001b[0m\u001b[0m\n",
            "\u001b[0;32m/usr/local/lib/python3.6/dist-packages/torch/tensor.py\u001b[0m in \u001b[0;36mbackward\u001b[0;34m(self, gradient, retain_graph, create_graph)\u001b[0m\n\u001b[1;32m    164\u001b[0m                 \u001b[0mproducts\u001b[0m\u001b[0;34m.\u001b[0m \u001b[0mDefaults\u001b[0m \u001b[0mto\u001b[0m\u001b[0;31m \u001b[0m\u001b[0;31m`\u001b[0m\u001b[0;31m`\u001b[0m\u001b[0;32mFalse\u001b[0m\u001b[0;31m`\u001b[0m\u001b[0;31m`\u001b[0m\u001b[0;34m.\u001b[0m\u001b[0;34m\u001b[0m\u001b[0;34m\u001b[0m\u001b[0m\n\u001b[1;32m    165\u001b[0m         \"\"\"\n\u001b[0;32m--> 166\u001b[0;31m         \u001b[0mtorch\u001b[0m\u001b[0;34m.\u001b[0m\u001b[0mautograd\u001b[0m\u001b[0;34m.\u001b[0m\u001b[0mbackward\u001b[0m\u001b[0;34m(\u001b[0m\u001b[0mself\u001b[0m\u001b[0;34m,\u001b[0m \u001b[0mgradient\u001b[0m\u001b[0;34m,\u001b[0m \u001b[0mretain_graph\u001b[0m\u001b[0;34m,\u001b[0m \u001b[0mcreate_graph\u001b[0m\u001b[0;34m)\u001b[0m\u001b[0;34m\u001b[0m\u001b[0;34m\u001b[0m\u001b[0m\n\u001b[0m\u001b[1;32m    167\u001b[0m \u001b[0;34m\u001b[0m\u001b[0m\n\u001b[1;32m    168\u001b[0m     \u001b[0;32mdef\u001b[0m \u001b[0mregister_hook\u001b[0m\u001b[0;34m(\u001b[0m\u001b[0mself\u001b[0m\u001b[0;34m,\u001b[0m \u001b[0mhook\u001b[0m\u001b[0;34m)\u001b[0m\u001b[0;34m:\u001b[0m\u001b[0;34m\u001b[0m\u001b[0;34m\u001b[0m\u001b[0m\n",
            "\u001b[0;32m/usr/local/lib/python3.6/dist-packages/torch/autograd/__init__.py\u001b[0m in \u001b[0;36mbackward\u001b[0;34m(tensors, grad_tensors, retain_graph, create_graph, grad_variables)\u001b[0m\n\u001b[1;32m     97\u001b[0m     Variable._execution_engine.run_backward(\n\u001b[1;32m     98\u001b[0m         \u001b[0mtensors\u001b[0m\u001b[0;34m,\u001b[0m \u001b[0mgrad_tensors\u001b[0m\u001b[0;34m,\u001b[0m \u001b[0mretain_graph\u001b[0m\u001b[0;34m,\u001b[0m \u001b[0mcreate_graph\u001b[0m\u001b[0;34m,\u001b[0m\u001b[0;34m\u001b[0m\u001b[0;34m\u001b[0m\u001b[0m\n\u001b[0;32m---> 99\u001b[0;31m         allow_unreachable=True)  # allow_unreachable flag\n\u001b[0m\u001b[1;32m    100\u001b[0m \u001b[0;34m\u001b[0m\u001b[0m\n\u001b[1;32m    101\u001b[0m \u001b[0;34m\u001b[0m\u001b[0m\n",
            "\u001b[0;31mKeyboardInterrupt\u001b[0m: "
          ]
        }
      ]
    },
    {
      "cell_type": "markdown",
      "metadata": {
        "id": "Er5hmarEXYuO",
        "colab_type": "text"
      },
      "source": [
        "### Getting validation accuracy"
      ]
    },
    {
      "cell_type": "markdown",
      "metadata": {
        "id": "7lfy1g8yaopm",
        "colab_type": "text"
      },
      "source": [
        "1st way: using learn.get_preds() and accuracy"
      ]
    },
    {
      "cell_type": "code",
      "metadata": {
        "id": "Mz0Vqm9LXaMF",
        "colab_type": "code",
        "colab": {}
      },
      "source": [
        "preds, y, losses = learn.get_preds(ds_type=DatasetType.Valid, with_loss = True)\n",
        "print(accuracy(preds, y))"
      ],
      "execution_count": 0,
      "outputs": []
    },
    {
      "cell_type": "markdown",
      "metadata": {
        "id": "5f2J2JQParAP",
        "colab_type": "text"
      },
      "source": [
        "2nd way: using learn.validate()"
      ]
    },
    {
      "cell_type": "code",
      "metadata": {
        "id": "LDgEUraUqvhI",
        "colab_type": "code",
        "colab": {}
      },
      "source": [
        "val_accuracy = learn.validate(learn.data.valid_dl)[1].numpy()\n"
      ],
      "execution_count": 0,
      "outputs": []
    },
    {
      "cell_type": "code",
      "metadata": {
        "id": "c22cWi50aJfZ",
        "colab_type": "code",
        "colab": {}
      },
      "source": [
        "print(val_accuracy)\n",
        "type(val_accuracy)"
      ],
      "execution_count": 0,
      "outputs": []
    },
    {
      "cell_type": "markdown",
      "metadata": {
        "id": "PRFf_DPKbGTs",
        "colab_type": "text"
      },
      "source": [
        "# Hyperparam tuning"
      ]
    },
    {
      "cell_type": "code",
      "metadata": {
        "id": "vq1NzEGsZYQn",
        "colab_type": "code",
        "colab": {}
      },
      "source": [
        "\n",
        "from hyperband import hyperband\n",
        "from skopt.space import Integer, Real, Categorical\n",
        "space = [\n",
        "         Real(0.05, 0.9, name = 'pct_start'),\n",
        "         Real(0.8, 0.9, name = 'b1'),\n",
        "         Real(0.7, 0.999, name = 'b2')\n",
        "]\n",
        "\n",
        "# add hyperparams from space here\n",
        "def fit_and_score(resources, checkpoint, pct_start, b1, b2):\n",
        "    import warnings\n",
        "    warnings.simplefilter(action='ignore', category=FutureWarning)\n",
        "\n",
        "    learn = Learner(data_clas,\n",
        "            custom_transformer_model,\n",
        "            opt_func = lambda input: AdamW(input,correct_bias=False),\n",
        "            loss_func = FlattenedLoss(LabelSmoothingCrossEntropy, axis=-1),\n",
        "            metrics = [accuracy])\n",
        "    \n",
        "    learn.to_fp16()\n",
        "\n",
        "    lr = 3e-5\n",
        "    learn.fit_one_cycle(1, \n",
        "                lr,\n",
        "                pct_start = pct_start,\n",
        "                moms = (b1, b2),\n",
        "                callbacks=[SaveModelCallback(learn, every='improvement', monitor='accuracy', \n",
        "                                                name='classifier_stage1')])\n",
        "\n",
        "    val_accuracy = learn.validate(learn.data.valid_dl)[1].numpy()\n",
        "\n",
        "    # Maximisation problem\n",
        "    return - val_accuracy, [pct_start, b1, b2]\n",
        "\n",
        "\n",
        "accuracies, hps = hyperband(objective=fit_and_score, dimensions=space)\n",
        "for acc, hp in zip(accuracies, hps):\n",
        "    print(acc, hp)\n"
      ],
      "execution_count": 0,
      "outputs": []
    },
    {
      "cell_type": "code",
      "metadata": {
        "id": "ntfPUsQEaAKl",
        "colab_type": "code",
        "colab": {}
      },
      "source": [
        ""
      ],
      "execution_count": 0,
      "outputs": []
    }
  ]
}