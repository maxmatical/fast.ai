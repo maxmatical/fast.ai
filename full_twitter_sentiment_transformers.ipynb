{
  "nbformat": 4,
  "nbformat_minor": 0,
  "metadata": {
    "colab": {
      "name": "full_twitter_sentiment_transformers.ipynb",
      "provenance": [],
      "collapsed_sections": [],
      "toc_visible": true,
      "include_colab_link": true
    },
    "kernelspec": {
      "name": "python3",
      "display_name": "Python 3"
    },
    "accelerator": "GPU"
  },
  "cells": [
    {
      "cell_type": "markdown",
      "metadata": {
        "id": "view-in-github",
        "colab_type": "text"
      },
      "source": [
        "<a href=\"https://colab.research.google.com/github/maxmatical/fast.ai/blob/master/full_twitter_sentiment_transformers.ipynb\" target=\"_parent\"><img src=\"https://colab.research.google.com/assets/colab-badge.svg\" alt=\"Open In Colab\"/></a>"
      ]
    },
    {
      "cell_type": "code",
      "metadata": {
        "id": "QMgx99NYbpIV",
        "colab_type": "code",
        "colab": {}
      },
      "source": [
        "%%capture\n",
        "!pip install fastai==1.0.61\n",
        "!pip install transformers\n",
        "!pip install optuna"
      ],
      "execution_count": 1,
      "outputs": []
    },
    {
      "cell_type": "code",
      "metadata": {
        "id": "qKq5YwwRCM5r",
        "colab_type": "code",
        "colab": {
          "base_uri": "https://localhost:8080/",
          "height": 677
        },
        "outputId": "60c01eb8-10a0-4bab-80ae-9d5f75f39273"
      },
      "source": [
        "import numpy as np\n",
        "import pandas as pd\n",
        "from matplotlib import pyplot as plt\n",
        "\n",
        "from fastai import *\n",
        "from fastai.text import *\n",
        "from fastai.utils.show_install import *\n",
        "from fastai.callbacks import *\n",
        "\n",
        "import torch\n",
        "import torch.optim as optim\n",
        "\n",
        "# transformers\n",
        "from transformers import PreTrainedModel, PreTrainedTokenizer, PretrainedConfig\n",
        "from transformers import AlbertForSequenceClassification, AlbertTokenizer, AlbertConfig\n",
        "from transformers import BertForSequenceClassification, BertTokenizer, BertConfig\n",
        "from transformers import RobertaForSequenceClassification, RobertaTokenizer, RobertaConfig\n",
        "from transformers import XLNetForSequenceClassification, XLNetTokenizer, XLNetConfig\n",
        "from transformers import XLMForSequenceClassification, XLMTokenizer, XLMConfig\n",
        "from transformers import DistilBertForSequenceClassification, DistilBertTokenizer, DistilBertConfig\n",
        "show_install()\n"
      ],
      "execution_count": 3,
      "outputs": [
        {
          "output_type": "stream",
          "text": [
            "\n",
            "\n",
            "```text\n",
            "=== Software === \n",
            "python        : 3.6.9\n",
            "fastai        : 1.0.61\n",
            "fastprogress  : 0.2.7\n",
            "torch         : 1.6.0+cu101\n",
            "nvidia driver : 418.67\n",
            "torch cuda    : 10.1 / is available\n",
            "torch cudnn   : 7603 / is enabled\n",
            "\n",
            "=== Hardware === \n",
            "nvidia gpus   : 1\n",
            "torch devices : 1\n",
            "  - gpu0      : 15079MB | Tesla T4\n",
            "\n",
            "=== Environment === \n",
            "platform      : Linux-4.19.112+-x86_64-with-Ubuntu-18.04-bionic\n",
            "distro        : #1 SMP Thu Jul 23 08:00:38 PDT 2020\n",
            "conda env     : Unknown\n",
            "python        : /usr/bin/python3\n",
            "sys.path      : \n",
            "/env/python\n",
            "/usr/lib/python36.zip\n",
            "/usr/lib/python3.6\n",
            "/usr/lib/python3.6/lib-dynload\n",
            "/usr/local/lib/python3.6/dist-packages\n",
            "/usr/lib/python3/dist-packages\n",
            "/usr/local/lib/python3.6/dist-packages/IPython/extensions\n",
            "/root/.ipython\n",
            "```\n",
            "\n",
            "Please make sure to include opening/closing ``` when you paste into forums/github to make the reports appear formatted as code sections.\n",
            "\n",
            "Optional package(s) to enhance the diagnostics can be installed with:\n",
            "pip install distro\n",
            "Once installed, re-run this utility to get the additional information\n"
          ],
          "name": "stdout"
        }
      ]
    },
    {
      "cell_type": "code",
      "metadata": {
        "id": "GbCUnF1cgj9f",
        "colab_type": "code",
        "colab": {
          "base_uri": "https://localhost:8080/",
          "height": 52
        },
        "outputId": "fab6e967-bdc4-4167-8e34-b00a23a4d719"
      },
      "source": [
        "import fastai\n",
        "import transformers\n",
        "print('fastai version :', fastai.__version__)\n",
        "print('transformers version :', transformers.__version__)\n",
        "\n"
      ],
      "execution_count": 4,
      "outputs": [
        {
          "output_type": "stream",
          "text": [
            "fastai version : 1.0.61\n",
            "transformers version : 3.1.0\n"
          ],
          "name": "stdout"
        }
      ]
    },
    {
      "cell_type": "markdown",
      "metadata": {
        "id": "jYky0SyQCZPU",
        "colab_type": "text"
      },
      "source": [
        "# Exploratory Data Analysis"
      ]
    },
    {
      "cell_type": "code",
      "metadata": {
        "id": "g8bWDpNtCQNY",
        "colab_type": "code",
        "colab": {}
      },
      "source": [
        "df = pd.read_csv('testset1.csv')"
      ],
      "execution_count": 5,
      "outputs": []
    },
    {
      "cell_type": "code",
      "metadata": {
        "id": "iiLnn6NDccEf",
        "colab_type": "code",
        "colab": {}
      },
      "source": [
        "# df = df.sample(frac=0.1)"
      ],
      "execution_count": 6,
      "outputs": []
    },
    {
      "cell_type": "code",
      "metadata": {
        "id": "RLdscs8CCd--",
        "colab_type": "code",
        "colab": {
          "base_uri": "https://localhost:8080/",
          "height": 224
        },
        "outputId": "05f6c51d-2f64-4bb4-917c-292f40b8d132"
      },
      "source": [
        "print(len(df))\n",
        "\n",
        "df.head(5)"
      ],
      "execution_count": 7,
      "outputs": [
        {
          "output_type": "stream",
          "text": [
            "5585\n"
          ],
          "name": "stdout"
        },
        {
          "output_type": "execute_result",
          "data": {
            "text/html": [
              "<div>\n",
              "<style scoped>\n",
              "    .dataframe tbody tr th:only-of-type {\n",
              "        vertical-align: middle;\n",
              "    }\n",
              "\n",
              "    .dataframe tbody tr th {\n",
              "        vertical-align: top;\n",
              "    }\n",
              "\n",
              "    .dataframe thead th {\n",
              "        text-align: right;\n",
              "    }\n",
              "</style>\n",
              "<table border=\"1\" class=\"dataframe\">\n",
              "  <thead>\n",
              "    <tr style=\"text-align: right;\">\n",
              "      <th></th>\n",
              "      <th>id</th>\n",
              "      <th>name</th>\n",
              "      <th>date</th>\n",
              "      <th>text</th>\n",
              "      <th>location</th>\n",
              "      <th>sentiment</th>\n",
              "    </tr>\n",
              "  </thead>\n",
              "  <tbody>\n",
              "    <tr>\n",
              "      <th>0</th>\n",
              "      <td>1.130000e+18</td>\n",
              "      <td>Evolutionomics</td>\n",
              "      <td>Sun May 19 23:57:10 +0000 2019</td>\n",
              "      <td>By combining short positions on #Gold $GOLD $G...</td>\n",
              "      <td>NaN</td>\n",
              "      <td>bearish</td>\n",
              "    </tr>\n",
              "    <tr>\n",
              "      <th>1</th>\n",
              "      <td>1.130000e+18</td>\n",
              "      <td>macrohedged</td>\n",
              "      <td>Sun May 19 23:55:02 +0000 2019</td>\n",
              "      <td>Here are the #Volatility levels for the majors...</td>\n",
              "      <td>England</td>\n",
              "      <td>unrelated</td>\n",
              "    </tr>\n",
              "    <tr>\n",
              "      <th>2</th>\n",
              "      <td>1.130000e+18</td>\n",
              "      <td>Evolutionomics</td>\n",
              "      <td>Sun May 19 23:54:06 +0000 2019</td>\n",
              "      <td>We have little insight into what will happen t...</td>\n",
              "      <td>NaN</td>\n",
              "      <td>neutral</td>\n",
              "    </tr>\n",
              "    <tr>\n",
              "      <th>3</th>\n",
              "      <td>1.130000e+18</td>\n",
              "      <td>Evolutionomics</td>\n",
              "      <td>Sun May 19 23:50:59 +0000 2019</td>\n",
              "      <td>This brings us to #Gold miners. As a group, $G...</td>\n",
              "      <td>NaN</td>\n",
              "      <td>neutral</td>\n",
              "    </tr>\n",
              "    <tr>\n",
              "      <th>4</th>\n",
              "      <td>1.130000e+18</td>\n",
              "      <td>macrohedged</td>\n",
              "      <td>Sun May 19 23:50:04 +0000 2019</td>\n",
              "      <td>Good morning Asia, here are the benchmark futu...</td>\n",
              "      <td>England</td>\n",
              "      <td>unrelated</td>\n",
              "    </tr>\n",
              "  </tbody>\n",
              "</table>\n",
              "</div>"
            ],
            "text/plain": [
              "             id            name  ... location  sentiment\n",
              "0  1.130000e+18  Evolutionomics  ...      NaN    bearish\n",
              "1  1.130000e+18     macrohedged  ...  England  unrelated\n",
              "2  1.130000e+18  Evolutionomics  ...      NaN    neutral\n",
              "3  1.130000e+18  Evolutionomics  ...      NaN    neutral\n",
              "4  1.130000e+18     macrohedged  ...  England  unrelated\n",
              "\n",
              "[5 rows x 6 columns]"
            ]
          },
          "metadata": {
            "tags": []
          },
          "execution_count": 7
        }
      ]
    },
    {
      "cell_type": "code",
      "metadata": {
        "id": "liW3zbbzCktu",
        "colab_type": "code",
        "colab": {
          "base_uri": "https://localhost:8080/",
          "height": 323
        },
        "outputId": "ed0a74bd-7085-4b9b-9342-49b32ad0eceb"
      },
      "source": [
        "df['sentiment'].value_counts().plot(kind='bar')\n",
        "\n",
        "print(df['sentiment'].unique())"
      ],
      "execution_count": 8,
      "outputs": [
        {
          "output_type": "stream",
          "text": [
            "['bearish' 'unrelated' 'neutral' 'bullish']\n"
          ],
          "name": "stdout"
        },
        {
          "output_type": "display_data",
          "data": {
            "image/png": "[encoded data removed]",
            "text/plain": [
              "<Figure size 432x288 with 1 Axes>"
            ]
          },
          "metadata": {
            "tags": [],
            "needs_background": "light"
          }
        }
      ]
    },
    {
      "cell_type": "markdown",
      "metadata": {
        "id": "XscVftJYDTQt",
        "colab_type": "text"
      },
      "source": [
        "Unrelated and neutral sentiments dominate the data currently (although this might not be the case in the future with the full dataset). It might be better to use a stratified sampling technique for classification"
      ]
    },
    {
      "cell_type": "code",
      "metadata": {
        "id": "x-GUhvxkELES",
        "colab_type": "code",
        "colab": {
          "base_uri": "https://localhost:8080/",
          "height": 52
        },
        "outputId": "726ac84c-13c0-4121-f9e0-ae7f1b365809"
      },
      "source": [
        "from sklearn.model_selection import StratifiedShuffleSplit\n",
        "\n",
        "sss = StratifiedShuffleSplit(n_splits=5, test_size=0.2, random_state=0)\n",
        "sss.get_n_splits(df['text'], df['sentiment'])\n",
        "\n",
        "print(sss)\n",
        "\n"
      ],
      "execution_count": 9,
      "outputs": [
        {
          "output_type": "stream",
          "text": [
            "StratifiedShuffleSplit(n_splits=5, random_state=0, test_size=0.2,\n",
            "            train_size=None)\n"
          ],
          "name": "stdout"
        }
      ]
    },
    {
      "cell_type": "code",
      "metadata": {
        "id": "THDVEb8tFFGN",
        "colab_type": "code",
        "colab": {
          "base_uri": "https://localhost:8080/",
          "height": 34
        },
        "outputId": "a7bc8e4d-c629-458e-86ac-b583f2d17d8a"
      },
      "source": [
        "train_idx, val_idx = next(sss.split(df['text'], df['sentiment']))\n",
        "\n",
        "print(len(train_idx), len(val_idx))"
      ],
      "execution_count": 10,
      "outputs": [
        {
          "output_type": "stream",
          "text": [
            "4468 1117\n"
          ],
          "name": "stdout"
        }
      ]
    },
    {
      "cell_type": "markdown",
      "metadata": {
        "id": "YnI14U3zKskb",
        "colab_type": "text"
      },
      "source": [
        "Verifying that the stratified split preseves the distribution of the labels"
      ]
    },
    {
      "cell_type": "code",
      "metadata": {
        "id": "QPqoB9P-JzhJ",
        "colab_type": "code",
        "colab": {}
      },
      "source": [
        "df_train = df.iloc[train_idx, :]\n",
        "df_val = df.iloc[val_idx, :]"
      ],
      "execution_count": 11,
      "outputs": []
    },
    {
      "cell_type": "code",
      "metadata": {
        "id": "loavhYCJKdmz",
        "colab_type": "code",
        "colab": {
          "base_uri": "https://localhost:8080/",
          "height": 320
        },
        "outputId": "54daa4e9-c23f-4a0a-d281-7dbc2e7654b7"
      },
      "source": [
        "df_train['sentiment'].value_counts().plot(kind='bar')"
      ],
      "execution_count": 12,
      "outputs": [
        {
          "output_type": "execute_result",
          "data": {
            "text/plain": [
              "<matplotlib.axes._subplots.AxesSubplot at 0x7fa2c34bcda0>"
            ]
          },
          "metadata": {
            "tags": []
          },
          "execution_count": 12
        },
        {
          "output_type": "display_data",
          "data": {
            "image/png": "[encoded data removed]",
            "text/plain": [
              "<Figure size 432x288 with 1 Axes>"
            ]
          },
          "metadata": {
            "tags": [],
            "needs_background": "light"
          }
        }
      ]
    },
    {
      "cell_type": "code",
      "metadata": {
        "id": "MaoWfiBQKQG2",
        "colab_type": "code",
        "colab": {
          "base_uri": "https://localhost:8080/",
          "height": 323
        },
        "outputId": "ff0f628c-a3c0-421b-87c9-6d4de68dd1bd"
      },
      "source": [
        "df_val['sentiment'].value_counts().plot(kind='bar')"
      ],
      "execution_count": 13,
      "outputs": [
        {
          "output_type": "execute_result",
          "data": {
            "text/plain": [
              "<matplotlib.axes._subplots.AxesSubplot at 0x7fa257b4dcf8>"
            ]
          },
          "metadata": {
            "tags": []
          },
          "execution_count": 13
        },
        {
          "output_type": "display_data",
          "data": {
            "image/png": "[encoded data removed]",
            "text/plain": [
              "<Figure size 432x288 with 1 Axes>"
            ]
          },
          "metadata": {
            "tags": [],
            "needs_background": "light"
          }
        }
      ]
    },
    {
      "cell_type": "markdown",
      "metadata": {
        "id": "mrWWL-PxKiZt",
        "colab_type": "text"
      },
      "source": [
        "Looks like the distribution of the labels in train and val are the same, so we can start modelling now"
      ]
    },
    {
      "cell_type": "markdown",
      "metadata": {
        "id": "lNDdmRdjhOcs",
        "colab_type": "text"
      },
      "source": [
        "# Setting up data for transformers"
      ]
    },
    {
      "cell_type": "code",
      "metadata": {
        "id": "QmsJcRyjhN6P",
        "colab_type": "code",
        "colab": {}
      },
      "source": [
        "MODEL_CLASSES = {\n",
        "    'bert': (BertForSequenceClassification, BertTokenizer, BertConfig),\n",
        "    'xlnet': (XLNetForSequenceClassification, XLNetTokenizer, XLNetConfig),\n",
        "    'xlm': (XLMForSequenceClassification, XLMTokenizer, XLMConfig),\n",
        "    'roberta': (RobertaForSequenceClassification, RobertaTokenizer, RobertaConfig),\n",
        "    'distilbert': (DistilBertForSequenceClassification, DistilBertTokenizer, DistilBertConfig)\n",
        "}\n"
      ],
      "execution_count": 14,
      "outputs": []
    },
    {
      "cell_type": "code",
      "metadata": {
        "id": "Lr8kEitJhQik",
        "colab_type": "code",
        "colab": {}
      },
      "source": [
        "# Parameters\n",
        "# seed = 42\n",
        "use_fp16 = False\n",
        "model_type = 'roberta'\n",
        "pretrained_model_name = 'roberta-base' \n",
        "\n",
        "# model_type = 'bert'\n",
        "# pretrained_model_name='bert-base-uncased'\n",
        "\n",
        "# model_type = 'distilbert'\n",
        "# pretrained_model_name = 'distilbert-base-uncased-distilled-squad'#'distilbert-base-uncased'#'distilbert-base-uncased'\n",
        "\n",
        "#model_type = 'xlm'\n",
        "#pretrained_model_name = 'xlm-clm-enfr-1024'\n",
        "\n",
        "#model_type = 'xlnet'\n",
        "#pretrained_model_name = 'xlnet-base-cased'"
      ],
      "execution_count": 15,
      "outputs": []
    },
    {
      "cell_type": "code",
      "metadata": {
        "id": "VRwrbj_ohUHO",
        "colab_type": "code",
        "colab": {}
      },
      "source": [
        "model_class, tokenizer_class, config_class = MODEL_CLASSES[model_type]\n"
      ],
      "execution_count": 16,
      "outputs": []
    },
    {
      "cell_type": "markdown",
      "metadata": {
        "id": "IM3QmtXYhg1h",
        "colab_type": "text"
      },
      "source": [
        "## Setting up tokenizer + numericalizer\n"
      ]
    },
    {
      "cell_type": "code",
      "metadata": {
        "id": "BB_Mk2iFhaIO",
        "colab_type": "code",
        "colab": {}
      },
      "source": [
        "class TransformersBaseTokenizer(BaseTokenizer):\n",
        "    \"\"\"Wrapper around PreTrainedTokenizer to be compatible with fast.ai\"\"\"\n",
        "    def __init__(self, pretrained_tokenizer: PreTrainedTokenizer, model_type = 'bert', **kwargs):\n",
        "        self._pretrained_tokenizer = pretrained_tokenizer\n",
        "        self.max_seq_len = pretrained_tokenizer.max_len\n",
        "        self.model_type = model_type\n",
        "\n",
        "    def __call__(self, *args, **kwargs): \n",
        "        return self\n",
        "\n",
        "    def tokenizer(self, t:str) -> List[str]:\n",
        "        \"\"\"Limits the maximum sequence length and add the spesial tokens\"\"\"\n",
        "        CLS = self._pretrained_tokenizer.cls_token\n",
        "        SEP = self._pretrained_tokenizer.sep_token\n",
        "        if self.model_type in ['roberta']:\n",
        "            tokens = self._pretrained_tokenizer.tokenize(t, add_prefix_space=True)[:self.max_seq_len - 2]\n",
        "        else:\n",
        "            tokens = self._pretrained_tokenizer.tokenize(t)[:self.max_seq_len - 2]\n",
        "        return [CLS] + tokens + [SEP]"
      ],
      "execution_count": 17,
      "outputs": []
    },
    {
      "cell_type": "code",
      "metadata": {
        "id": "ufWfsFnzhl3c",
        "colab_type": "code",
        "colab": {
          "base_uri": "https://localhost:8080/",
          "height": 86
        },
        "outputId": "78d4778f-52d4-404a-d0a0-c5f473229dbf"
      },
      "source": [
        "transformer_tokenizer = tokenizer_class.from_pretrained(pretrained_model_name)\n",
        "transformer_base_tokenizer = TransformersBaseTokenizer(pretrained_tokenizer = transformer_tokenizer, model_type = model_type)\n",
        "fastai_tokenizer = Tokenizer(tok_func = transformer_base_tokenizer, pre_rules=[], post_rules=[])"
      ],
      "execution_count": 18,
      "outputs": [
        {
          "output_type": "stream",
          "text": [
            "/usr/local/lib/python3.6/dist-packages/transformers/tokenization_utils_base.py:1321: FutureWarning:\n",
            "\n",
            "The `max_len` attribute has been deprecated and will be removed in a future version, use `model_max_length` instead.\n",
            "\n"
          ],
          "name": "stderr"
        }
      ]
    },
    {
      "cell_type": "code",
      "metadata": {
        "id": "AfKmo0fWhogF",
        "colab_type": "code",
        "colab": {
          "base_uri": "https://localhost:8080/",
          "height": 225
        },
        "outputId": "229043c2-7315-4786-dab4-9b721be2da98"
      },
      "source": [
        "tokenizer_class.pretrained_vocab_files_map"
      ],
      "execution_count": 19,
      "outputs": [
        {
          "output_type": "execute_result",
          "data": {
            "text/plain": [
              "{'merges_file': {'distilroberta-base': 'https://s3.amazonaws.com/models.huggingface.co/bert/distilroberta-base-merges.txt',\n",
              "  'roberta-base': 'https://s3.amazonaws.com/models.huggingface.co/bert/roberta-base-merges.txt',\n",
              "  'roberta-base-openai-detector': 'https://s3.amazonaws.com/models.huggingface.co/bert/roberta-base-merges.txt',\n",
              "  'roberta-large': 'https://s3.amazonaws.com/models.huggingface.co/bert/roberta-large-merges.txt',\n",
              "  'roberta-large-mnli': 'https://s3.amazonaws.com/models.huggingface.co/bert/roberta-large-mnli-merges.txt',\n",
              "  'roberta-large-openai-detector': 'https://s3.amazonaws.com/models.huggingface.co/bert/roberta-large-merges.txt'},\n",
              " 'vocab_file': {'distilroberta-base': 'https://s3.amazonaws.com/models.huggingface.co/bert/distilroberta-base-vocab.json',\n",
              "  'roberta-base': 'https://s3.amazonaws.com/models.huggingface.co/bert/roberta-base-vocab.json',\n",
              "  'roberta-base-openai-detector': 'https://s3.amazonaws.com/models.huggingface.co/bert/roberta-base-vocab.json',\n",
              "  'roberta-large': 'https://s3.amazonaws.com/models.huggingface.co/bert/roberta-large-vocab.json',\n",
              "  'roberta-large-mnli': 'https://s3.amazonaws.com/models.huggingface.co/bert/roberta-large-mnli-vocab.json',\n",
              "  'roberta-large-openai-detector': 'https://s3.amazonaws.com/models.huggingface.co/bert/roberta-large-vocab.json'}}"
            ]
          },
          "metadata": {
            "tags": []
          },
          "execution_count": 19
        }
      ]
    },
    {
      "cell_type": "code",
      "metadata": {
        "id": "e42OyYUEhqav",
        "colab_type": "code",
        "colab": {}
      },
      "source": [
        "class TransformersVocab(Vocab):\n",
        "    def __init__(self, tokenizer: PreTrainedTokenizer):\n",
        "        super(TransformersVocab, self).__init__(itos = [])\n",
        "        self.tokenizer = tokenizer\n",
        "\n",
        "    def numericalize(self, t:Collection[str]) -> List[int]:\n",
        "        \"Convert a list of tokens `t` to their ids.\"\n",
        "        return self.tokenizer.convert_tokens_to_ids(t)\n",
        "        #return self.tokenizer.encode(t)\n",
        "\n",
        "    def textify(self, nums:Collection[int], sep=' ') -> List[str]:\n",
        "        \"Convert a list of `nums` to their tokens.\"\n",
        "        nums = np.array(nums).tolist()\n",
        "        return sep.join(self.tokenizer.convert_ids_to_tokens(nums)) if sep is not None else self.tokenizer.convert_ids_to_tokens(nums)\n",
        "\n",
        "    def __getstate__(self):\n",
        "        return {'itos':self.itos, 'tokenizer':self.tokenizer}\n",
        "\n",
        "    def __setstate__(self, state:dict):\n",
        "        self.itos = state['itos']\n",
        "        self.tokenizer = state['tokenizer']\n",
        "        self.stoi = collections.defaultdict(int,{v:k for k,v in enumerate(self.itos)})"
      ],
      "execution_count": 20,
      "outputs": []
    },
    {
      "cell_type": "code",
      "metadata": {
        "id": "6KqWBee4hxz1",
        "colab_type": "code",
        "colab": {}
      },
      "source": [
        "transformer_vocab =  TransformersVocab(tokenizer = transformer_tokenizer)\n",
        "numericalize_processor = NumericalizeProcessor(vocab=transformer_vocab)\n",
        "\n",
        "tokenize_processor = TokenizeProcessor(tokenizer=fastai_tokenizer, include_bos=False, include_eos=False)\n",
        "\n",
        "transformer_processor = [tokenize_processor, numericalize_processor]"
      ],
      "execution_count": 21,
      "outputs": []
    },
    {
      "cell_type": "markdown",
      "metadata": {
        "id": "VQZYkF0fh8yN",
        "colab_type": "text"
      },
      "source": [
        "## Setting up Data\n"
      ]
    },
    {
      "cell_type": "code",
      "metadata": {
        "id": "lralLwd8h7XE",
        "colab_type": "code",
        "colab": {}
      },
      "source": [
        "pad_first = bool(model_type in ['xlnet'])\n",
        "pad_idx = transformer_tokenizer.pad_token_id"
      ],
      "execution_count": 22,
      "outputs": []
    },
    {
      "cell_type": "code",
      "metadata": {
        "id": "elHGg4NTiBWd",
        "colab_type": "code",
        "colab": {
          "base_uri": "https://localhost:8080/",
          "height": 17
        },
        "outputId": "d0e6aef0-dede-47a1-caa9-6004563be49e"
      },
      "source": [
        "bs = 32\n",
        "\n",
        "data_clas = (TextList.from_df(df, cols='text', processor=transformer_processor)\n",
        "             .split_by_idxs(train_idx, val_idx)\n",
        "             .label_from_df(cols= 'sentiment')\n",
        "             .databunch(bs=bs, pad_first=pad_first, pad_idx=pad_idx))\n",
        "\n"
      ],
      "execution_count": 23,
      "outputs": [
        {
          "output_type": "display_data",
          "data": {
            "text/html": [
              ""
            ],
            "text/plain": [
              "<IPython.core.display.HTML object>"
            ]
          },
          "metadata": {
            "tags": []
          }
        },
        {
          "output_type": "display_data",
          "data": {
            "text/html": [
              ""
            ],
            "text/plain": [
              "<IPython.core.display.HTML object>"
            ]
          },
          "metadata": {
            "tags": []
          }
        }
      ]
    },
    {
      "cell_type": "code",
      "metadata": {
        "id": "jtFBaIN9iolm",
        "colab_type": "code",
        "colab": {
          "base_uri": "https://localhost:8080/",
          "height": 449
        },
        "outputId": "c4bbe663-8aaa-4a37-dcce-d1b39551c30c"
      },
      "source": [
        "print('[CLS] token :', transformer_tokenizer.cls_token)\n",
        "print('[SEP] token :', transformer_tokenizer.sep_token)\n",
        "print('[PAD] token :', transformer_tokenizer.pad_token)\n",
        "data_clas.show_batch()"
      ],
      "execution_count": 24,
      "outputs": [
        {
          "output_type": "stream",
          "text": [
            "[CLS] token : <s>\n",
            "[SEP] token : </s>\n",
            "[PAD] token : <pad>\n"
          ],
          "name": "stdout"
        },
        {
          "output_type": "stream",
          "text": [
            "/usr/local/lib/python3.6/dist-packages/fastai/text/data.py:339: UserWarning:\n",
            "\n",
            "This overload of nonzero is deprecated:\n",
            "\tnonzero()\n",
            "Consider using one of the following signatures instead:\n",
            "\tnonzero(*, bool as_tuple) (Triggered internally at  /pytorch/torch/csrc/utils/python_arg_parser.cpp:766.)\n",
            "\n"
          ],
          "name": "stderr"
        },
        {
          "output_type": "display_data",
          "data": {
            "text/html": [
              "<table border=\"1\" class=\"dataframe\">\n",
              "  <thead>\n",
              "    <tr style=\"text-align: right;\">\n",
              "      <th>text</th>\n",
              "      <th>target</th>\n",
              "    </tr>\n",
              "  </thead>\n",
              "  <tbody>\n",
              "    <tr>\n",
              "      <td>&lt;s&gt; Ġ ðĿ Ļ Ī ðĿ Ļ Ģ ðĿ Ļ Ī ðĿ Ļ Ĭ ðĿ Ļ į ðĿ Ļ Ħ ðĿ ĺ ¼ ðĿ Ļ ĩ Ġ ðĿ ĺ ¿ ðĿ ĺ ¼ ðĿ Ļ Ķ Ġ ðĿ ĺ ¿ ðĿ Ļ Ħ ðĿ Ļ İ ðĿ ĺ ¾ ðĿ Ļ Ĭ ðĿ Ļ Ĳ ðĿ Ļ ī ðĿ Ļ ı Ġ ðĿ Ļ Ĭ ðĿ Ļ ģ ðĿ Ļ</td>\n",
              "      <td>unrelated</td>\n",
              "    </tr>\n",
              "    <tr>\n",
              "      <td>&lt;s&gt; ĠðŁ Ķ » - 0 . 95 % â ļ ĸ ï¸ı : ðŁ ķ · &amp; amp ; ðŁ Ĺ ĥ Ġ# ETF s Ċ # Daily Ġ# Market Ġ# Change Ċ Tue , ĠMay Ġ28 Ċ Ċ ðŁ Ķ » # f ear Ċ - 0 . 29 % ðŁ Ĵ » Ġ$ XL K Ċ - 0 . 38 % âĻ £ ï¸ı Ġ$ Q Q</td>\n",
              "      <td>neutral</td>\n",
              "    </tr>\n",
              "    <tr>\n",
              "      <td>&lt;s&gt; ĠðŁ Ķ » - 0 . 67 % â ļ ĸ ï¸ı : ðŁ ķ · &amp; amp ; ðŁ Ĺ ĥ Ġ# ETF s Ċ # Daily Ġ# Market Ġ# Change Ċ Wed , ĠMay Ġ29 Ċ Ċ ðŁ ¤ · âĢ į âĻ Ĥ ï¸ı Ċ 0 . 03 % ðŁ ı ħ Ġ$ GL D Ċ 0 . 02 % ðŁ Į ² Ġ$ X LB</td>\n",
              "      <td>neutral</td>\n",
              "    </tr>\n",
              "    <tr>\n",
              "      <td>&lt;s&gt; ĠðŁ Ķ » - 0 . 93 % â ļ ĸ ï¸ı : ðŁ ķ · &amp; amp ; ðŁ Ĺ ĥ Ġ# ETF s Ċ # Daily Ġ# Market Ġ# Change Ċ Fri , ĠMay Ġ31 Ċ Ċ ðŁ į ı Up Ċ 1 . 35 % ðŁ ı ħ Ġ$ GL D Ċ 0 . 83 % ðŁ ı ¡ Ġ$ XL RE Ċ 0 . 47</td>\n",
              "      <td>neutral</td>\n",
              "    </tr>\n",
              "    <tr>\n",
              "      <td>&lt;s&gt; ĠðŁ Ķ » - 1 . 4 % â ļ ĸ ï¸ı ðŁ ķ · &amp; amp ; ðŁ Ĺ ĥ Ġ# ETF s Ċ # Week ly Ġ# Market Ġ# Change Ċ Week Ġ22 Ċ Ċ ðŁ į ı # Up Ċ 2 . 07 % ðŁ ı ħ Ġ$ GL D Ċ 0 . 27 % ðŁ ı ¡ Ġ$ XL RE Ċ Ċ ðŁ Ķ »</td>\n",
              "      <td>neutral</td>\n",
              "    </tr>\n",
              "  </tbody>\n",
              "</table>"
            ],
            "text/plain": [
              "<IPython.core.display.HTML object>"
            ]
          },
          "metadata": {
            "tags": []
          }
        }
      ]
    },
    {
      "cell_type": "code",
      "metadata": {
        "id": "KApZcW2iiynP",
        "colab_type": "code",
        "colab": {
          "base_uri": "https://localhost:8080/",
          "height": 208
        },
        "outputId": "4ee05d53-8644-431a-dc66-21f23beb99e9"
      },
      "source": [
        "# checking batch and numericalizer\n",
        "\n",
        "print('[CLS] id :', transformer_tokenizer.cls_token_id)\n",
        "print('[SEP] id :', transformer_tokenizer.sep_token_id)\n",
        "print('[PAD] id :', pad_idx)\n",
        "test_one_batch = data_clas.one_batch()[0]\n",
        "print('Batch shape : ',test_one_batch.shape)\n",
        "print(test_one_batch)\n",
        "\n"
      ],
      "execution_count": 25,
      "outputs": [
        {
          "output_type": "stream",
          "text": [
            "[CLS] id : 0\n",
            "[SEP] id : 2\n",
            "[PAD] id : 1\n",
            "Batch shape :  torch.Size([32, 251])\n",
            "tensor([[    0,  1437, 40756,  ...,   288,   100,     2],\n",
            "        [    0,  8103,  8384,  ...,     1,     1,     1],\n",
            "        [    0,  8103,  8384,  ...,     1,     1,     1],\n",
            "        ...,\n",
            "        [    0,   392, 29974,  ...,     1,     1,     1],\n",
            "        [    0,   392, 29974,  ...,     1,     1,     1],\n",
            "        [    0,   392, 29974,  ...,     1,     1,     1]])\n"
          ],
          "name": "stdout"
        }
      ]
    },
    {
      "cell_type": "markdown",
      "metadata": {
        "id": "7ye6u9YhjAjH",
        "colab_type": "text"
      },
      "source": [
        "# RoBERTa"
      ]
    },
    {
      "cell_type": "code",
      "metadata": {
        "id": "OGhkWAqii4ld",
        "colab_type": "code",
        "colab": {}
      },
      "source": [
        "class CustomTransformerModel(nn.Module):\n",
        "    def __init__(self, transformer_model: PreTrainedModel):\n",
        "        super(CustomTransformerModel,self).__init__()\n",
        "        self.transformer = transformer_model\n",
        "        \n",
        "    def forward(self, input_ids, attention_mask=None):\n",
        "        \n",
        "        #attention_mask = (input_ids!=1).type(input_ids.type()) # Test attention_mask for RoBERTa\n",
        "        \n",
        "        logits = self.transformer(input_ids,\n",
        "                                attention_mask = attention_mask)[0]   \n",
        "        return logits"
      ],
      "execution_count": 26,
      "outputs": []
    },
    {
      "cell_type": "code",
      "metadata": {
        "id": "6v7nVxGbjdG9",
        "colab_type": "code",
        "colab": {}
      },
      "source": [
        "n_labels = 4\n",
        "\n",
        "config = config_class.from_pretrained(pretrained_model_name)\n",
        "config.num_labels = n_labels\n",
        "config.use_bfloat16 = use_fp16\n",
        "# print(config)"
      ],
      "execution_count": 27,
      "outputs": []
    },
    {
      "cell_type": "code",
      "metadata": {
        "id": "Q1hSeT81jhdK",
        "colab_type": "code",
        "colab": {
          "base_uri": "https://localhost:8080/",
          "height": 124
        },
        "outputId": "c486482e-ca15-4e1b-8f44-0c20e20c8345"
      },
      "source": [
        "transformer_model = model_class.from_pretrained(pretrained_model_name, config = config)\n",
        "\n",
        "custom_transformer_model = CustomTransformerModel(transformer_model = transformer_model)"
      ],
      "execution_count": 28,
      "outputs": [
        {
          "output_type": "stream",
          "text": [
            "Some weights of the model checkpoint at roberta-base were not used when initializing RobertaForSequenceClassification: ['lm_head.bias', 'lm_head.dense.weight', 'lm_head.dense.bias', 'lm_head.layer_norm.weight', 'lm_head.layer_norm.bias', 'lm_head.decoder.weight']\n",
            "- This IS expected if you are initializing RobertaForSequenceClassification from the checkpoint of a model trained on another task or with another architecture (e.g. initializing a BertForSequenceClassification model from a BertForPretraining model).\n",
            "- This IS NOT expected if you are initializing RobertaForSequenceClassification from the checkpoint of a model that you expect to be exactly identical (initializing a BertForSequenceClassification model from a BertForSequenceClassification model).\n",
            "Some weights of RobertaForSequenceClassification were not initialized from the model checkpoint at roberta-base and are newly initialized: ['classifier.dense.weight', 'classifier.dense.bias', 'classifier.out_proj.weight', 'classifier.out_proj.bias']\n",
            "You should probably TRAIN this model on a down-stream task to be able to use it for predictions and inference.\n"
          ],
          "name": "stderr"
        }
      ]
    },
    {
      "cell_type": "markdown",
      "metadata": {
        "id": "0Twth-Kqj_MA",
        "colab_type": "text"
      },
      "source": [
        "## Creating learner"
      ]
    },
    {
      "cell_type": "code",
      "metadata": {
        "id": "30kj8X6Vjl-O",
        "colab_type": "code",
        "colab": {}
      },
      "source": [
        "from transformers import AdamW\n"
      ],
      "execution_count": 29,
      "outputs": []
    },
    {
      "cell_type": "markdown",
      "metadata": {
        "id": "JXPFamRr9b-w",
        "colab_type": "text"
      },
      "source": [
        "Tricks: \n",
        "- using AdamW instead of Adam as optimizer ([source](https://arxiv.org/abs/1711.05101))\n",
        "    - given as default in `Learner` class\n",
        "- label smoothing: injects noise in the labels to improve generalization capabilities"
      ]
    },
    {
      "cell_type": "code",
      "metadata": {
        "id": "ck8Xd9S_kGbp",
        "colab_type": "code",
        "colab": {}
      },
      "source": [
        "try: \n",
        "    learn.destroy()\n",
        "except:\n",
        "    'no learner created'\n",
        "\n",
        "learn = Learner(data_clas,\n",
        "               custom_transformer_model,\n",
        "               opt_func = lambda input: AdamW(input,correct_bias=False),\n",
        "               loss_func = FlattenedLoss(LabelSmoothingCrossEntropy, axis=-1),\n",
        "               metrics = [accuracy])"
      ],
      "execution_count": 30,
      "outputs": []
    },
    {
      "cell_type": "markdown",
      "metadata": {
        "id": "CPJZb0kUkd80",
        "colab_type": "text"
      },
      "source": [
        "### Creating layer splitting for gradual unfreezing and discriminative learning rates\n",
        "\n",
        "use   \"num_hidden_layers\" in config + 2 (1 for embedding and 1 for head)"
      ]
    },
    {
      "cell_type": "code",
      "metadata": {
        "id": "BjACE6gekRxw",
        "colab_type": "code",
        "colab": {}
      },
      "source": [
        "# For roberta-base\n",
        "list_layers = [learn.model.transformer.roberta.embeddings,\n",
        "              learn.model.transformer.roberta.encoder.layer[0],\n",
        "              learn.model.transformer.roberta.encoder.layer[1],\n",
        "              learn.model.transformer.roberta.encoder.layer[2],\n",
        "              learn.model.transformer.roberta.encoder.layer[3],\n",
        "              learn.model.transformer.roberta.encoder.layer[4],\n",
        "              learn.model.transformer.roberta.encoder.layer[5],\n",
        "              learn.model.transformer.roberta.encoder.layer[6],\n",
        "              learn.model.transformer.roberta.encoder.layer[7],\n",
        "              learn.model.transformer.roberta.encoder.layer[8],\n",
        "              learn.model.transformer.roberta.encoder.layer[9],\n",
        "              learn.model.transformer.roberta.encoder.layer[10],\n",
        "              learn.model.transformer.roberta.encoder.layer[11],\n",
        "              learn.model.transformer.roberta.pooler]"
      ],
      "execution_count": 31,
      "outputs": []
    },
    {
      "cell_type": "code",
      "metadata": {
        "id": "W1EMlOm6kr22",
        "colab_type": "code",
        "colab": {
          "base_uri": "https://localhost:8080/",
          "height": 34
        },
        "outputId": "8d83b296-11ad-477b-f0b9-5d35b5ffb6a1"
      },
      "source": [
        "# check groups\n",
        "learn.split(list_layers)\n",
        "num_groups = len(learn.layer_groups)\n",
        "print('Learner split in',num_groups,'groups')\n",
        "# print(learn.layer_groups)\n",
        "\n"
      ],
      "execution_count": 32,
      "outputs": [
        {
          "output_type": "stream",
          "text": [
            "Learner split in 14 groups\n"
          ],
          "name": "stdout"
        }
      ]
    },
    {
      "cell_type": "markdown",
      "metadata": {
        "id": "BBjFUqKQxgdh",
        "colab_type": "text"
      },
      "source": [
        "Optional: Freeze the model to train the head"
      ]
    },
    {
      "cell_type": "code",
      "metadata": {
        "id": "yK12C4yxk7vh",
        "colab_type": "code",
        "colab": {
          "base_uri": "https://localhost:8080/",
          "height": 1000
        },
        "outputId": "e64fa1d5-3c92-4b64-eed6-8ab973bc2376"
      },
      "source": [
        "learn.freeze();\n",
        "learn.summary()"
      ],
      "execution_count": 33,
      "outputs": [
        {
          "output_type": "execute_result",
          "data": {
            "application/vnd.google.colaboratory.intrinsic+json": {
              "type": "string"
            },
            "text/plain": [
              "CustomTransformerModel\n",
              "======================================================================\n",
              "Layer (type)         Output Shape         Param #    Trainable \n",
              "======================================================================\n",
              "Embedding            [251, 768]           38,603,520 False     \n",
              "______________________________________________________________________\n",
              "Embedding            [251, 768]           394,752    False     \n",
              "______________________________________________________________________\n",
              "Embedding            [251, 768]           768        False     \n",
              "______________________________________________________________________\n",
              "LayerNorm            [251, 768]           1,536      False     \n",
              "______________________________________________________________________\n",
              "Dropout              [251, 768]           0          False     \n",
              "______________________________________________________________________\n",
              "Linear               [251, 768]           590,592    False     \n",
              "______________________________________________________________________\n",
              "Linear               [251, 768]           590,592    False     \n",
              "______________________________________________________________________\n",
              "Linear               [251, 768]           590,592    False     \n",
              "______________________________________________________________________\n",
              "Dropout              [12, 251, 251]       0          False     \n",
              "______________________________________________________________________\n",
              "Linear               [251, 768]           590,592    False     \n",
              "______________________________________________________________________\n",
              "LayerNorm            [251, 768]           1,536      False     \n",
              "______________________________________________________________________\n",
              "Dropout              [251, 768]           0          False     \n",
              "______________________________________________________________________\n",
              "Linear               [251, 3072]          2,362,368  False     \n",
              "______________________________________________________________________\n",
              "Linear               [251, 768]           2,360,064  False     \n",
              "______________________________________________________________________\n",
              "LayerNorm            [251, 768]           1,536      False     \n",
              "______________________________________________________________________\n",
              "Dropout              [251, 768]           0          False     \n",
              "______________________________________________________________________\n",
              "Linear               [251, 768]           590,592    False     \n",
              "______________________________________________________________________\n",
              "Linear               [251, 768]           590,592    False     \n",
              "______________________________________________________________________\n",
              "Linear               [251, 768]           590,592    False     \n",
              "______________________________________________________________________\n",
              "Dropout              [12, 251, 251]       0          False     \n",
              "______________________________________________________________________\n",
              "Linear               [251, 768]           590,592    False     \n",
              "______________________________________________________________________\n",
              "LayerNorm            [251, 768]           1,536      False     \n",
              "______________________________________________________________________\n",
              "Dropout              [251, 768]           0          False     \n",
              "______________________________________________________________________\n",
              "Linear               [251, 3072]          2,362,368  False     \n",
              "______________________________________________________________________\n",
              "Linear               [251, 768]           2,360,064  False     \n",
              "______________________________________________________________________\n",
              "LayerNorm            [251, 768]           1,536      False     \n",
              "______________________________________________________________________\n",
              "Dropout              [251, 768]           0          False     \n",
              "______________________________________________________________________\n",
              "Linear               [251, 768]           590,592    False     \n",
              "______________________________________________________________________\n",
              "Linear               [251, 768]           590,592    False     \n",
              "______________________________________________________________________\n",
              "Linear               [251, 768]           590,592    False     \n",
              "______________________________________________________________________\n",
              "Dropout              [12, 251, 251]       0          False     \n",
              "______________________________________________________________________\n",
              "Linear               [251, 768]           590,592    False     \n",
              "______________________________________________________________________\n",
              "LayerNorm            [251, 768]           1,536      False     \n",
              "______________________________________________________________________\n",
              "Dropout              [251, 768]           0          False     \n",
              "______________________________________________________________________\n",
              "Linear               [251, 3072]          2,362,368  False     \n",
              "______________________________________________________________________\n",
              "Linear               [251, 768]           2,360,064  False     \n",
              "______________________________________________________________________\n",
              "LayerNorm            [251, 768]           1,536      False     \n",
              "______________________________________________________________________\n",
              "Dropout              [251, 768]           0          False     \n",
              "______________________________________________________________________\n",
              "Linear               [251, 768]           590,592    False     \n",
              "______________________________________________________________________\n",
              "Linear               [251, 768]           590,592    False     \n",
              "______________________________________________________________________\n",
              "Linear               [251, 768]           590,592    False     \n",
              "______________________________________________________________________\n",
              "Dropout              [12, 251, 251]       0          False     \n",
              "______________________________________________________________________\n",
              "Linear               [251, 768]           590,592    False     \n",
              "______________________________________________________________________\n",
              "LayerNorm            [251, 768]           1,536      False     \n",
              "______________________________________________________________________\n",
              "Dropout              [251, 768]           0          False     \n",
              "______________________________________________________________________\n",
              "Linear               [251, 3072]          2,362,368  False     \n",
              "______________________________________________________________________\n",
              "Linear               [251, 768]           2,360,064  False     \n",
              "______________________________________________________________________\n",
              "LayerNorm            [251, 768]           1,536      False     \n",
              "______________________________________________________________________\n",
              "Dropout              [251, 768]           0          False     \n",
              "______________________________________________________________________\n",
              "Linear               [251, 768]           590,592    False     \n",
              "______________________________________________________________________\n",
              "Linear               [251, 768]           590,592    False     \n",
              "______________________________________________________________________\n",
              "Linear               [251, 768]           590,592    False     \n",
              "______________________________________________________________________\n",
              "Dropout              [12, 251, 251]       0          False     \n",
              "______________________________________________________________________\n",
              "Linear               [251, 768]           590,592    False     \n",
              "______________________________________________________________________\n",
              "LayerNorm            [251, 768]           1,536      False     \n",
              "______________________________________________________________________\n",
              "Dropout              [251, 768]           0          False     \n",
              "______________________________________________________________________\n",
              "Linear               [251, 3072]          2,362,368  False     \n",
              "______________________________________________________________________\n",
              "Linear               [251, 768]           2,360,064  False     \n",
              "______________________________________________________________________\n",
              "LayerNorm            [251, 768]           1,536      False     \n",
              "______________________________________________________________________\n",
              "Dropout              [251, 768]           0          False     \n",
              "______________________________________________________________________\n",
              "Linear               [251, 768]           590,592    False     \n",
              "______________________________________________________________________\n",
              "Linear               [251, 768]           590,592    False     \n",
              "______________________________________________________________________\n",
              "Linear               [251, 768]           590,592    False     \n",
              "______________________________________________________________________\n",
              "Dropout              [12, 251, 251]       0          False     \n",
              "______________________________________________________________________\n",
              "Linear               [251, 768]           590,592    False     \n",
              "______________________________________________________________________\n",
              "LayerNorm            [251, 768]           1,536      False     \n",
              "______________________________________________________________________\n",
              "Dropout              [251, 768]           0          False     \n",
              "______________________________________________________________________\n",
              "Linear               [251, 3072]          2,362,368  False     \n",
              "______________________________________________________________________\n",
              "Linear               [251, 768]           2,360,064  False     \n",
              "______________________________________________________________________\n",
              "LayerNorm            [251, 768]           1,536      False     \n",
              "______________________________________________________________________\n",
              "Dropout              [251, 768]           0          False     \n",
              "______________________________________________________________________\n",
              "Linear               [251, 768]           590,592    False     \n",
              "______________________________________________________________________\n",
              "Linear               [251, 768]           590,592    False     \n",
              "______________________________________________________________________\n",
              "Linear               [251, 768]           590,592    False     \n",
              "______________________________________________________________________\n",
              "Dropout              [12, 251, 251]       0          False     \n",
              "______________________________________________________________________\n",
              "Linear               [251, 768]           590,592    False     \n",
              "______________________________________________________________________\n",
              "LayerNorm            [251, 768]           1,536      False     \n",
              "______________________________________________________________________\n",
              "Dropout              [251, 768]           0          False     \n",
              "______________________________________________________________________\n",
              "Linear               [251, 3072]          2,362,368  False     \n",
              "______________________________________________________________________\n",
              "Linear               [251, 768]           2,360,064  False     \n",
              "______________________________________________________________________\n",
              "LayerNorm            [251, 768]           1,536      False     \n",
              "______________________________________________________________________\n",
              "Dropout              [251, 768]           0          False     \n",
              "______________________________________________________________________\n",
              "Linear               [251, 768]           590,592    False     \n",
              "______________________________________________________________________\n",
              "Linear               [251, 768]           590,592    False     \n",
              "______________________________________________________________________\n",
              "Linear               [251, 768]           590,592    False     \n",
              "______________________________________________________________________\n",
              "Dropout              [12, 251, 251]       0          False     \n",
              "______________________________________________________________________\n",
              "Linear               [251, 768]           590,592    False     \n",
              "______________________________________________________________________\n",
              "LayerNorm            [251, 768]           1,536      False     \n",
              "______________________________________________________________________\n",
              "Dropout              [251, 768]           0          False     \n",
              "______________________________________________________________________\n",
              "Linear               [251, 3072]          2,362,368  False     \n",
              "______________________________________________________________________\n",
              "Linear               [251, 768]           2,360,064  False     \n",
              "______________________________________________________________________\n",
              "LayerNorm            [251, 768]           1,536      False     \n",
              "______________________________________________________________________\n",
              "Dropout              [251, 768]           0          False     \n",
              "______________________________________________________________________\n",
              "Linear               [251, 768]           590,592    False     \n",
              "______________________________________________________________________\n",
              "Linear               [251, 768]           590,592    False     \n",
              "______________________________________________________________________\n",
              "Linear               [251, 768]           590,592    False     \n",
              "______________________________________________________________________\n",
              "Dropout              [12, 251, 251]       0          False     \n",
              "______________________________________________________________________\n",
              "Linear               [251, 768]           590,592    False     \n",
              "______________________________________________________________________\n",
              "LayerNorm            [251, 768]           1,536      False     \n",
              "______________________________________________________________________\n",
              "Dropout              [251, 768]           0          False     \n",
              "______________________________________________________________________\n",
              "Linear               [251, 3072]          2,362,368  False     \n",
              "______________________________________________________________________\n",
              "Linear               [251, 768]           2,360,064  False     \n",
              "______________________________________________________________________\n",
              "LayerNorm            [251, 768]           1,536      False     \n",
              "______________________________________________________________________\n",
              "Dropout              [251, 768]           0          False     \n",
              "______________________________________________________________________\n",
              "Linear               [251, 768]           590,592    False     \n",
              "______________________________________________________________________\n",
              "Linear               [251, 768]           590,592    False     \n",
              "______________________________________________________________________\n",
              "Linear               [251, 768]           590,592    False     \n",
              "______________________________________________________________________\n",
              "Dropout              [12, 251, 251]       0          False     \n",
              "______________________________________________________________________\n",
              "Linear               [251, 768]           590,592    False     \n",
              "______________________________________________________________________\n",
              "LayerNorm            [251, 768]           1,536      False     \n",
              "______________________________________________________________________\n",
              "Dropout              [251, 768]           0          False     \n",
              "______________________________________________________________________\n",
              "Linear               [251, 3072]          2,362,368  False     \n",
              "______________________________________________________________________\n",
              "Linear               [251, 768]           2,360,064  False     \n",
              "______________________________________________________________________\n",
              "LayerNorm            [251, 768]           1,536      False     \n",
              "______________________________________________________________________\n",
              "Dropout              [251, 768]           0          False     \n",
              "______________________________________________________________________\n",
              "Linear               [251, 768]           590,592    False     \n",
              "______________________________________________________________________\n",
              "Linear               [251, 768]           590,592    False     \n",
              "______________________________________________________________________\n",
              "Linear               [251, 768]           590,592    False     \n",
              "______________________________________________________________________\n",
              "Dropout              [12, 251, 251]       0          False     \n",
              "______________________________________________________________________\n",
              "Linear               [251, 768]           590,592    False     \n",
              "______________________________________________________________________\n",
              "LayerNorm            [251, 768]           1,536      False     \n",
              "______________________________________________________________________\n",
              "Dropout              [251, 768]           0          False     \n",
              "______________________________________________________________________\n",
              "Linear               [251, 3072]          2,362,368  False     \n",
              "______________________________________________________________________\n",
              "Linear               [251, 768]           2,360,064  False     \n",
              "______________________________________________________________________\n",
              "LayerNorm            [251, 768]           1,536      False     \n",
              "______________________________________________________________________\n",
              "Dropout              [251, 768]           0          False     \n",
              "______________________________________________________________________\n",
              "Linear               [251, 768]           590,592    False     \n",
              "______________________________________________________________________\n",
              "Linear               [251, 768]           590,592    False     \n",
              "______________________________________________________________________\n",
              "Linear               [251, 768]           590,592    False     \n",
              "______________________________________________________________________\n",
              "Dropout              [12, 251, 251]       0          False     \n",
              "______________________________________________________________________\n",
              "Linear               [251, 768]           590,592    False     \n",
              "______________________________________________________________________\n",
              "LayerNorm            [251, 768]           1,536      False     \n",
              "______________________________________________________________________\n",
              "Dropout              [251, 768]           0          False     \n",
              "______________________________________________________________________\n",
              "Linear               [251, 3072]          2,362,368  False     \n",
              "______________________________________________________________________\n",
              "Linear               [251, 768]           2,360,064  False     \n",
              "______________________________________________________________________\n",
              "LayerNorm            [251, 768]           1,536      False     \n",
              "______________________________________________________________________\n",
              "Dropout              [251, 768]           0          False     \n",
              "______________________________________________________________________\n",
              "Linear               [768]                590,592    True      \n",
              "______________________________________________________________________\n",
              "Tanh                 [768]                0          False     \n",
              "______________________________________________________________________\n",
              "Linear               [768]                590,592    True      \n",
              "______________________________________________________________________\n",
              "Dropout              [768]                0          False     \n",
              "______________________________________________________________________\n",
              "Linear               [4]                  3,076      True      \n",
              "______________________________________________________________________\n",
              "\n",
              "Total params: 125,239,300\n",
              "Total trainable params: 1,184,260\n",
              "Total non-trainable params: 124,055,040\n",
              "Optimized with fa253e12c80\n",
              "Using true weight decay as discussed in https://www.fast.ai/2018/07/02/adam-weight-decay/ \n",
              "Loss function : FlattenedLoss\n",
              "======================================================================\n",
              "Callbacks functions applied "
            ]
          },
          "metadata": {
            "tags": []
          },
          "execution_count": 33
        }
      ]
    },
    {
      "cell_type": "markdown",
      "metadata": {
        "id": "H0pPYCkW4AwF",
        "colab_type": "text"
      },
      "source": [
        "## Save model weights"
      ]
    },
    {
      "cell_type": "code",
      "metadata": {
        "id": "GdaxrhtV4DuN",
        "colab_type": "code",
        "colab": {}
      },
      "source": [
        "learn.save('initial')"
      ],
      "execution_count": 34,
      "outputs": []
    },
    {
      "cell_type": "markdown",
      "metadata": {
        "id": "rUCXZEGR-xnG",
        "colab_type": "text"
      },
      "source": [
        "the initial model weights will be used a bit later on!"
      ]
    },
    {
      "cell_type": "code",
      "metadata": {
        "id": "8ci2IDusYNPl",
        "colab_type": "code",
        "colab": {
          "base_uri": "https://localhost:8080/",
          "height": 173
        },
        "outputId": "d3d81097-9cd7-4fc7-d19f-e189e5e53070"
      },
      "source": [
        "list(learn.model.parameters())[1]"
      ],
      "execution_count": 35,
      "outputs": [
        {
          "output_type": "execute_result",
          "data": {
            "text/plain": [
              "Parameter containing:\n",
              "tensor([[-0.0115,  0.0204,  0.0197,  ...,  0.0050, -0.0274, -0.0439],\n",
              "        [ 0.0000,  0.0000,  0.0000,  ...,  0.0000,  0.0000,  0.0000],\n",
              "        [ 0.0346, -0.0169, -0.0895,  ..., -0.0542,  0.0291,  0.0173],\n",
              "        ...,\n",
              "        [ 0.1191, -0.0587, -0.0396,  ..., -0.0179,  0.1249,  0.0205],\n",
              "        [ 0.0833, -0.0272, -0.0368,  ..., -0.0429,  0.1288, -0.0052],\n",
              "        [ 0.0850,  0.2573, -0.1257,  ..., -0.0952,  0.1443, -0.0131]],\n",
              "       device='cuda:0')"
            ]
          },
          "metadata": {
            "tags": []
          },
          "execution_count": 35
        }
      ]
    },
    {
      "cell_type": "markdown",
      "metadata": {
        "id": "GWC_FFwLpIOa",
        "colab_type": "text"
      },
      "source": [
        "# Training Learner"
      ]
    },
    {
      "cell_type": "code",
      "metadata": {
        "id": "HBlWmpdrlJxq",
        "colab_type": "code",
        "colab": {
          "base_uri": "https://localhost:8080/",
          "height": 409
        },
        "outputId": "b77a2ed7-c182-43cd-8ceb-7492057c72c7"
      },
      "source": [
        "learn.lr_find()\n",
        "learn.recorder.plot(suggestion = True, skip_end=15)"
      ],
      "execution_count": 36,
      "outputs": [
        {
          "output_type": "display_data",
          "data": {
            "text/html": [
              "\n",
              "    <div>\n",
              "        <style>\n",
              "            /* Turns off some styling */\n",
              "            progress {\n",
              "                /* gets rid of default border in Firefox and Opera. */\n",
              "                border: none;\n",
              "                /* Needs to be in here for Safari polyfill so background images work as expected. */\n",
              "                background-size: auto;\n",
              "            }\n",
              "            .progress-bar-interrupted, .progress-bar-interrupted::-webkit-progress-bar {\n",
              "                background: #F44336;\n",
              "            }\n",
              "        </style>\n",
              "      <progress value='0' class='' max='1' style='width:300px; height:20px; vertical-align: middle;'></progress>\n",
              "      0.00% [0/1 00:00<00:00]\n",
              "    </div>\n",
              "    \n",
              "<table border=\"1\" class=\"dataframe\">\n",
              "  <thead>\n",
              "    <tr style=\"text-align: left;\">\n",
              "      <th>epoch</th>\n",
              "      <th>train_loss</th>\n",
              "      <th>valid_loss</th>\n",
              "      <th>accuracy</th>\n",
              "      <th>time</th>\n",
              "    </tr>\n",
              "  </thead>\n",
              "  <tbody>\n",
              "  </tbody>\n",
              "</table><p>\n",
              "\n",
              "    <div>\n",
              "        <style>\n",
              "            /* Turns off some styling */\n",
              "            progress {\n",
              "                /* gets rid of default border in Firefox and Opera. */\n",
              "                border: none;\n",
              "                /* Needs to be in here for Safari polyfill so background images work as expected. */\n",
              "                background-size: auto;\n",
              "            }\n",
              "            .progress-bar-interrupted, .progress-bar-interrupted::-webkit-progress-bar {\n",
              "                background: #F44336;\n",
              "            }\n",
              "        </style>\n",
              "      <progress value='73' class='' max='139' style='width:300px; height:20px; vertical-align: middle;'></progress>\n",
              "      52.52% [73/139 00:14<00:12 4.8915]\n",
              "    </div>\n",
              "    "
            ],
            "text/plain": [
              "<IPython.core.display.HTML object>"
            ]
          },
          "metadata": {
            "tags": []
          }
        },
        {
          "output_type": "stream",
          "text": [
            "LR Finder is complete, type {learner_name}.recorder.plot() to see the graph.\n",
            "Min numerical gradient: 1.45E-03\n",
            "Min loss divided by 10: 4.37E-04\n"
          ],
          "name": "stdout"
        },
        {
          "output_type": "display_data",
          "data": {
            "image/png": "[encoded data removed]",
            "text/plain": [
              "<Figure size 432x288 with 1 Axes>"
            ]
          },
          "metadata": {
            "tags": [],
            "needs_background": "light"
          }
        }
      ]
    },
    {
      "cell_type": "code",
      "metadata": {
        "id": "m6PHHECClV1H",
        "colab_type": "code",
        "colab": {
          "base_uri": "https://localhost:8080/",
          "height": 781
        },
        "outputId": "c230b558-5724-4cc4-9982-fc2e0ac8b072"
      },
      "source": [
        "learn.to_fp16();\n",
        "\n",
        "lr = 1e-3\n",
        "\n",
        "\"\"\"Training without adjusting the momentum\"\"\"\n",
        "# learn.fit_one_cycle(3, \n",
        "#                     lr, \n",
        "#                     pct_start = 0.3,\n",
        "#                     callbacks=[SaveModelCallback(learn, every='improvement', monitor='accuracy', \n",
        "#                                                  name='classifier_stage1')])\n",
        "\n",
        "\"\"\"Training discriminative learning rates\"\"\"\n",
        "# learn.fit_one_cycle(3, \n",
        "#                     slice(lr/10, lr), \n",
        "#                     callbacks=[SaveModelCallback(learn, every='improvement', monitor='accuracy', \n",
        "#                                                  name='classifier_stage1')])\n",
        "\n",
        "\n",
        "\"\"\"\n",
        "Clipping momentum\n",
        "\"\"\"\n",
        "\n",
        "learn.fit_one_cycle(10, \n",
        "                    lr, \n",
        "                    moms=(0.8,0.7),\n",
        "                    callbacks=[SaveModelCallback(learn, every='improvement', monitor='accuracy', \n",
        "                                                 name='classifier_stage1')])\n",
        "\n",
        "learn.recorder.plot_losses()"
      ],
      "execution_count": 37,
      "outputs": [
        {
          "output_type": "display_data",
          "data": {
            "text/html": [
              "<table border=\"1\" class=\"dataframe\">\n",
              "  <thead>\n",
              "    <tr style=\"text-align: left;\">\n",
              "      <th>epoch</th>\n",
              "      <th>train_loss</th>\n",
              "      <th>valid_loss</th>\n",
              "      <th>accuracy</th>\n",
              "      <th>time</th>\n",
              "    </tr>\n",
              "  </thead>\n",
              "  <tbody>\n",
              "    <tr>\n",
              "      <td>0</td>\n",
              "      <td>1.146642</td>\n",
              "      <td>1.081597</td>\n",
              "      <td>0.631155</td>\n",
              "      <td>00:12</td>\n",
              "    </tr>\n",
              "    <tr>\n",
              "      <td>1</td>\n",
              "      <td>1.089208</td>\n",
              "      <td>1.005903</td>\n",
              "      <td>0.656222</td>\n",
              "      <td>00:12</td>\n",
              "    </tr>\n",
              "    <tr>\n",
              "      <td>2</td>\n",
              "      <td>1.055140</td>\n",
              "      <td>0.933712</td>\n",
              "      <td>0.661594</td>\n",
              "      <td>00:10</td>\n",
              "    </tr>\n",
              "    <tr>\n",
              "      <td>3</td>\n",
              "      <td>1.004968</td>\n",
              "      <td>0.896653</td>\n",
              "      <td>0.670546</td>\n",
              "      <td>00:10</td>\n",
              "    </tr>\n",
              "    <tr>\n",
              "      <td>4</td>\n",
              "      <td>0.982921</td>\n",
              "      <td>0.924350</td>\n",
              "      <td>0.697404</td>\n",
              "      <td>00:10</td>\n",
              "    </tr>\n",
              "    <tr>\n",
              "      <td>5</td>\n",
              "      <td>0.955782</td>\n",
              "      <td>0.868675</td>\n",
              "      <td>0.699194</td>\n",
              "      <td>00:10</td>\n",
              "    </tr>\n",
              "    <tr>\n",
              "      <td>6</td>\n",
              "      <td>0.979434</td>\n",
              "      <td>0.865622</td>\n",
              "      <td>0.703671</td>\n",
              "      <td>00:11</td>\n",
              "    </tr>\n",
              "    <tr>\n",
              "      <td>7</td>\n",
              "      <td>0.921590</td>\n",
              "      <td>0.848734</td>\n",
              "      <td>0.726947</td>\n",
              "      <td>00:10</td>\n",
              "    </tr>\n",
              "    <tr>\n",
              "      <td>8</td>\n",
              "      <td>0.943494</td>\n",
              "      <td>0.841110</td>\n",
              "      <td>0.734109</td>\n",
              "      <td>00:12</td>\n",
              "    </tr>\n",
              "    <tr>\n",
              "      <td>9</td>\n",
              "      <td>0.914604</td>\n",
              "      <td>0.840949</td>\n",
              "      <td>0.733214</td>\n",
              "      <td>00:11</td>\n",
              "    </tr>\n",
              "  </tbody>\n",
              "</table>"
            ],
            "text/plain": [
              "<IPython.core.display.HTML object>"
            ]
          },
          "metadata": {
            "tags": []
          }
        },
        {
          "output_type": "stream",
          "text": [
            "Better model found at epoch 0 with accuracy value: 0.6311548948287964.\n",
            "Better model found at epoch 1 with accuracy value: 0.6562220454216003.\n",
            "Better model found at epoch 2 with accuracy value: 0.6615935564041138.\n",
            "Better model found at epoch 3 with accuracy value: 0.6705461144447327.\n",
            "Better model found at epoch 4 with accuracy value: 0.6974037885665894.\n",
            "Better model found at epoch 5 with accuracy value: 0.6991942524909973.\n",
            "Better model found at epoch 6 with accuracy value: 0.7036705613136292.\n",
            "Better model found at epoch 7 with accuracy value: 0.7269471883773804.\n",
            "Better model found at epoch 8 with accuracy value: 0.7341092228889465.\n"
          ],
          "name": "stdout"
        },
        {
          "output_type": "display_data",
          "data": {
            "image/png": "[encoded data removed]",
            "text/plain": [
              "<Figure size 432x288 with 1 Axes>"
            ]
          },
          "metadata": {
            "tags": [],
            "needs_background": "light"
          }
        }
      ]
    },
    {
      "cell_type": "code",
      "metadata": {
        "id": "-g8MHQx-sfZE",
        "colab_type": "code",
        "colab": {
          "base_uri": "https://localhost:8080/",
          "height": 279
        },
        "outputId": "4e2b1914-2080-4f5b-937a-1c23bc5b5384"
      },
      "source": [
        "learn.recorder.plot_lr(show_moms=True)"
      ],
      "execution_count": null,
      "outputs": [
        {
          "output_type": "display_data",
          "data": {
            "image/png": "[encoded data removed]",
            "text/plain": [
              "<Figure size 864x288 with 2 Axes>"
            ]
          },
          "metadata": {
            "tags": []
          }
        }
      ]
    },
    {
      "cell_type": "markdown",
      "metadata": {
        "id": "vUyqw48Df5vb",
        "colab_type": "text"
      },
      "source": [
        "### Unfreezing entire model and use discriminative learning rates"
      ]
    },
    {
      "cell_type": "code",
      "metadata": {
        "id": "_U2u6mCmlgMw",
        "colab_type": "code",
        "colab": {}
      },
      "source": [
        "try: \n",
        "    learn.load('classifier_stage1')\n",
        "except:\n",
        "    print('no learner created')\n",
        "learn.unfreeze();"
      ],
      "execution_count": null,
      "outputs": []
    },
    {
      "cell_type": "markdown",
      "metadata": {
        "id": "PsQkttOzs2vY",
        "colab_type": "text"
      },
      "source": [
        "### Training for another cycle"
      ]
    },
    {
      "cell_type": "code",
      "metadata": {
        "id": "8V_AlPPZ7TB-",
        "colab_type": "code",
        "colab": {
          "base_uri": "https://localhost:8080/",
          "height": 409
        },
        "outputId": "d4bbff06-940d-40c3-c8fe-81eaae04e731"
      },
      "source": [
        "learn.lr_find()\n",
        "learn.recorder.plot(suggestion = True, skip_end=15)"
      ],
      "execution_count": null,
      "outputs": [
        {
          "output_type": "display_data",
          "data": {
            "text/html": [
              "\n",
              "    <div>\n",
              "        <style>\n",
              "            /* Turns off some styling */\n",
              "            progress {\n",
              "                /* gets rid of default border in Firefox and Opera. */\n",
              "                border: none;\n",
              "                /* Needs to be in here for Safari polyfill so background images work as expected. */\n",
              "                background-size: auto;\n",
              "            }\n",
              "            .progress-bar-interrupted, .progress-bar-interrupted::-webkit-progress-bar {\n",
              "                background: #F44336;\n",
              "            }\n",
              "        </style>\n",
              "      <progress value='0' class='' max='1', style='width:300px; height:20px; vertical-align: middle;'></progress>\n",
              "      0.00% [0/1 00:00<00:00]\n",
              "    </div>\n",
              "    \n",
              "<table border=\"1\" class=\"dataframe\">\n",
              "  <thead>\n",
              "    <tr style=\"text-align: left;\">\n",
              "      <th>epoch</th>\n",
              "      <th>train_loss</th>\n",
              "      <th>valid_loss</th>\n",
              "      <th>accuracy</th>\n",
              "      <th>time</th>\n",
              "    </tr>\n",
              "  </thead>\n",
              "  <tbody>\n",
              "  </tbody>\n",
              "</table><p>\n",
              "\n",
              "    <div>\n",
              "        <style>\n",
              "            /* Turns off some styling */\n",
              "            progress {\n",
              "                /* gets rid of default border in Firefox and Opera. */\n",
              "                border: none;\n",
              "                /* Needs to be in here for Safari polyfill so background images work as expected. */\n",
              "                background-size: auto;\n",
              "            }\n",
              "            .progress-bar-interrupted, .progress-bar-interrupted::-webkit-progress-bar {\n",
              "                background: #F44336;\n",
              "            }\n",
              "        </style>\n",
              "      <progress value='56' class='' max='139', style='width:300px; height:20px; vertical-align: middle;'></progress>\n",
              "      40.29% [56/139 00:11<00:17 2.0874]\n",
              "    </div>\n",
              "    "
            ],
            "text/plain": [
              "<IPython.core.display.HTML object>"
            ]
          },
          "metadata": {
            "tags": []
          }
        },
        {
          "output_type": "stream",
          "text": [
            "LR Finder is complete, type {learner_name}.recorder.plot() to see the graph.\n",
            "Min numerical gradient: 6.31E-07\n",
            "Min loss divided by 10: 3.31E-07\n"
          ],
          "name": "stdout"
        },
        {
          "output_type": "display_data",
          "data": {
            "image/png": "[encoded data removed]",
            "text/plain": [
              "<Figure size 432x288 with 1 Axes>"
            ]
          },
          "metadata": {
            "tags": []
          }
        }
      ]
    },
    {
      "cell_type": "code",
      "metadata": {
        "id": "k13jU0KIqaIN",
        "colab_type": "code",
        "colab": {
          "base_uri": "https://localhost:8080/",
          "height": 695
        },
        "outputId": "30a94669-8542-4713-b217-d3782d40ff67"
      },
      "source": [
        "lr = 3e-6\n",
        "\"\"\"Training without adjusting the momentum\"\"\"\n",
        "# learn.fit_one_cycle(10, \n",
        "#                     slice(lr/100,lr/10),\n",
        "#                     pct_start = 0.3, \n",
        "#                     callbacks=[SaveModelCallback(learn, every='improvement', monitor='accuracy', \n",
        "#                                                  name='classifier_stage2')])\n",
        "\n",
        "# \"\"\"Training discriminative learning rates\"\"\"\n",
        "# learn.fit_one_cycle(5, \n",
        "#                     slice(lr/10, lr), \n",
        "#                     callbacks=[SaveModelCallback(learn, every='improvement', monitor='accuracy', \n",
        "#                                                  name='classifier_stage2')])\n",
        "\"\"\"\n",
        "Clipping momentum\n",
        "\"\"\"\n",
        "\n",
        "\n",
        "learn.fit_one_cycle(10, \n",
        "                    slice(lr/9,lr), \n",
        "                    moms=(0.8,0.7),\n",
        "                    callbacks=[SaveModelCallback(learn, every='improvement', monitor='accuracy', \n",
        "                                                 name='classifier_stage2')])\n",
        "\n",
        "\n",
        "\n",
        "\n",
        "learn.recorder.plot_losses()"
      ],
      "execution_count": null,
      "outputs": [
        {
          "output_type": "display_data",
          "data": {
            "text/html": [
              "<table border=\"1\" class=\"dataframe\">\n",
              "  <thead>\n",
              "    <tr style=\"text-align: left;\">\n",
              "      <th>epoch</th>\n",
              "      <th>train_loss</th>\n",
              "      <th>valid_loss</th>\n",
              "      <th>accuracy</th>\n",
              "      <th>time</th>\n",
              "    </tr>\n",
              "  </thead>\n",
              "  <tbody>\n",
              "    <tr>\n",
              "      <td>0</td>\n",
              "      <td>0.703235</td>\n",
              "      <td>0.673311</td>\n",
              "      <td>0.833483</td>\n",
              "      <td>00:31</td>\n",
              "    </tr>\n",
              "    <tr>\n",
              "      <td>1</td>\n",
              "      <td>0.705315</td>\n",
              "      <td>0.662848</td>\n",
              "      <td>0.848702</td>\n",
              "      <td>00:32</td>\n",
              "    </tr>\n",
              "    <tr>\n",
              "      <td>2</td>\n",
              "      <td>0.710926</td>\n",
              "      <td>0.653754</td>\n",
              "      <td>0.847807</td>\n",
              "      <td>00:35</td>\n",
              "    </tr>\n",
              "    <tr>\n",
              "      <td>3</td>\n",
              "      <td>0.690152</td>\n",
              "      <td>0.640423</td>\n",
              "      <td>0.864816</td>\n",
              "      <td>00:33</td>\n",
              "    </tr>\n",
              "    <tr>\n",
              "      <td>4</td>\n",
              "      <td>0.673446</td>\n",
              "      <td>0.635589</td>\n",
              "      <td>0.862131</td>\n",
              "      <td>00:35</td>\n",
              "    </tr>\n",
              "    <tr>\n",
              "      <td>5</td>\n",
              "      <td>0.670222</td>\n",
              "      <td>0.641860</td>\n",
              "      <td>0.862131</td>\n",
              "      <td>00:34</td>\n",
              "    </tr>\n",
              "    <tr>\n",
              "      <td>6</td>\n",
              "      <td>0.639145</td>\n",
              "      <td>0.629810</td>\n",
              "      <td>0.863921</td>\n",
              "      <td>00:34</td>\n",
              "    </tr>\n",
              "    <tr>\n",
              "      <td>7</td>\n",
              "      <td>0.654244</td>\n",
              "      <td>0.629112</td>\n",
              "      <td>0.869293</td>\n",
              "      <td>00:35</td>\n",
              "    </tr>\n",
              "    <tr>\n",
              "      <td>8</td>\n",
              "      <td>0.615662</td>\n",
              "      <td>0.625773</td>\n",
              "      <td>0.864816</td>\n",
              "      <td>00:35</td>\n",
              "    </tr>\n",
              "    <tr>\n",
              "      <td>9</td>\n",
              "      <td>0.599517</td>\n",
              "      <td>0.627346</td>\n",
              "      <td>0.866607</td>\n",
              "      <td>00:34</td>\n",
              "    </tr>\n",
              "  </tbody>\n",
              "</table>"
            ],
            "text/plain": [
              "<IPython.core.display.HTML object>"
            ]
          },
          "metadata": {
            "tags": []
          }
        },
        {
          "output_type": "stream",
          "text": [
            "Better model found at epoch 0 with accuracy value: 0.833482563495636.\n",
            "Better model found at epoch 1 with accuracy value: 0.8487018942832947.\n",
            "Better model found at epoch 3 with accuracy value: 0.8648164868354797.\n",
            "Better model found at epoch 7 with accuracy value: 0.8692927360534668.\n"
          ],
          "name": "stdout"
        },
        {
          "output_type": "display_data",
          "data": {
            "image/png": "[encoded data removed]",
            "text/plain": [
              "<Figure size 432x288 with 1 Axes>"
            ]
          },
          "metadata": {
            "tags": []
          }
        }
      ]
    },
    {
      "cell_type": "markdown",
      "metadata": {
        "id": "PY-O__onPn31",
        "colab_type": "text"
      },
      "source": [
        "**Results**\n",
        "\n",
        "Approximiately 87% accuracy when fine-tuned\n"
      ]
    },
    {
      "cell_type": "markdown",
      "metadata": {
        "id": "Er5hmarEXYuO",
        "colab_type": "text"
      },
      "source": [
        "### Getting validation accuracy"
      ]
    },
    {
      "cell_type": "markdown",
      "metadata": {
        "id": "7lfy1g8yaopm",
        "colab_type": "text"
      },
      "source": [
        "1st way: using learn.get_preds() and accuracy"
      ]
    },
    {
      "cell_type": "code",
      "metadata": {
        "id": "Mz0Vqm9LXaMF",
        "colab_type": "code",
        "colab": {}
      },
      "source": [
        "preds, y, losses = learn.get_preds(ds_type=DatasetType.Valid, with_loss = True)\n",
        "print(accuracy(preds, y))"
      ],
      "execution_count": null,
      "outputs": []
    },
    {
      "cell_type": "markdown",
      "metadata": {
        "id": "5f2J2JQParAP",
        "colab_type": "text"
      },
      "source": [
        "2nd way: using learn.validate()"
      ]
    },
    {
      "cell_type": "code",
      "metadata": {
        "id": "LDgEUraUqvhI",
        "colab_type": "code",
        "colab": {}
      },
      "source": [
        "val_accuracy = learn.validate(learn.data.valid_dl)[1].numpy()\n"
      ],
      "execution_count": null,
      "outputs": []
    },
    {
      "cell_type": "code",
      "metadata": {
        "id": "c22cWi50aJfZ",
        "colab_type": "code",
        "colab": {}
      },
      "source": [
        "print(val_accuracy)\n",
        "type(val_accuracy)"
      ],
      "execution_count": null,
      "outputs": []
    },
    {
      "cell_type": "markdown",
      "metadata": {
        "id": "dk2_CLoJBgIh",
        "colab_type": "text"
      },
      "source": [
        "# Hyperparam Tuning with Optuna (TPE + Hyperband Pruner)"
      ]
    },
    {
      "cell_type": "code",
      "metadata": {
        "id": "cAc2tdx5HSVc",
        "colab_type": "code",
        "colab": {}
      },
      "source": [
        "import optuna\n",
        "from optuna.integration import FastAIPruningCallback"
      ],
      "execution_count": null,
      "outputs": []
    },
    {
      "cell_type": "code",
      "metadata": {
        "id": "TLisshy1HS8A",
        "colab_type": "code",
        "colab": {}
      },
      "source": [
        "def objective(trial):\n",
        "    lr = trial.suggest_loguniform('lr', 1e-6, 1e-3)\n",
        "    pct_start = trial.suggest_uniform('pct_start', 0.05, 0.5)\n",
        "    b1 = trial.suggest_uniform('b1', 0.7, 0.9)\n",
        "    b2 = trial.suggest_uniform('b2', 0.6, 0.999)\n",
        "    eps = trial.suggest_categorical('eps', [1e-1, 1e-2, 1e-3, 1e-4, 1e-5, 1e-6])\n",
        "    wd = trial.suggest_loguniform('wd', 1e-8, 0.2)\n",
        "\n",
        "    # destroy old learner\n",
        "    try: \n",
        "        learn.destroy()\n",
        "    except:\n",
        "        print('no learner created')\n",
        "\n",
        "    learn = Learner(data_clas,\n",
        "        custom_transformer_model,\n",
        "        opt_func = lambda input: AdamW(input,correct_bias=False, eps=eps),\n",
        "        loss_func = FlattenedLoss(LabelSmoothingCrossEntropy, axis=-1),\n",
        "        metrics = [accuracy],\n",
        "        wd = wd,\n",
        "        callback_fns=[partial(FastAIPruningCallback, trial=trial, monitor='valid_loss')])\n",
        "    \n",
        "    # For roberta-base\n",
        "    list_layers = [learn.model.transformer.roberta.embeddings,\n",
        "                learn.model.transformer.roberta.encoder.layer[0],\n",
        "                learn.model.transformer.roberta.encoder.layer[1],\n",
        "                learn.model.transformer.roberta.encoder.layer[2],\n",
        "                learn.model.transformer.roberta.encoder.layer[3],\n",
        "                learn.model.transformer.roberta.encoder.layer[4],\n",
        "                learn.model.transformer.roberta.encoder.layer[5],\n",
        "                learn.model.transformer.roberta.encoder.layer[6],\n",
        "                learn.model.transformer.roberta.encoder.layer[7],\n",
        "                learn.model.transformer.roberta.encoder.layer[8],\n",
        "                learn.model.transformer.roberta.encoder.layer[9],\n",
        "                learn.model.transformer.roberta.encoder.layer[10],\n",
        "                learn.model.transformer.roberta.encoder.layer[11],\n",
        "                learn.model.transformer.roberta.pooler]\n",
        "\n",
        "    learn.split(list_layers)\n",
        "    # load initial model weights\n",
        "    learn.load('initial')\n",
        "    learn.unfreeze()\n",
        "    learn.to_fp16()\n",
        "    learn.fit_one_cycle(3, \n",
        "                slice(lr/9, lr),\n",
        "                # lr,\n",
        "                pct_start = pct_start,\n",
        "                moms = (b1, b2))\n",
        "\n",
        "    return learn.validate()[-1].item() # returns accuracy\n"
      ],
      "execution_count": null,
      "outputs": []
    },
    {
      "cell_type": "markdown",
      "metadata": {
        "id": "Pgv1birqJ2nE",
        "colab_type": "text"
      },
      "source": [
        "Run study"
      ]
    },
    {
      "cell_type": "code",
      "metadata": {
        "id": "J5YwpvVeBhkh",
        "colab_type": "code",
        "colab": {}
      },
      "source": [
        "pruner = optuna.pruners.HyperbandPruner()\n",
        "study = optuna.create_study(direction='maximize', pruner=pruner)\n",
        "\n",
        "study.optimize(objective, n_trials=250, timeout=120*60)\n",
        "print('Number of finished trials: {}'.format(len(study.trials)))\n",
        "\n",
        "print('Best trial:')\n",
        "trial = study.best_trial\n",
        "\n",
        "print('  Value: {}'.format(trial.value))\n",
        "\n",
        "print('  Params: ')\n",
        "for key, value in trial.params.items():\n",
        "    print('    {}: {}'.format(key, value))"
      ],
      "execution_count": null,
      "outputs": []
    },
    {
      "cell_type": "markdown",
      "metadata": {
        "id": "ANSssiusqwiZ",
        "colab_type": "text"
      },
      "source": [
        "# Train model with tuned hyperparameters"
      ]
    },
    {
      "cell_type": "code",
      "metadata": {
        "id": "iyA4KbFGIC2x",
        "colab_type": "code",
        "colab": {
          "base_uri": "https://localhost:8080/",
          "height": 34
        },
        "outputId": "cef3e6c8-fc20-4877-e82f-f1bb943592bd"
      },
      "source": [
        "try: \n",
        "    learn.destroy()\n",
        "except:\n",
        "    'no learner created'\n",
        "\n",
        "learn = Learner(data_clas,\n",
        "               custom_transformer_model,\n",
        "               opt_func = lambda input: AdamW(input,correct_bias=False, eps = 1e-4),\n",
        "               loss_func = FlattenedLoss(LabelSmoothingCrossEntropy, axis=-1),\n",
        "               metrics = [accuracy])"
      ],
      "execution_count": null,
      "outputs": [
        {
          "output_type": "stream",
          "text": [
            "this Learner object self-destroyed - it still exists, but no longer usable\n"
          ],
          "name": "stdout"
        }
      ]
    },
    {
      "cell_type": "code",
      "metadata": {
        "id": "V5ncx5XxNjzE",
        "colab_type": "code",
        "colab": {
          "base_uri": "https://localhost:8080/",
          "height": 276
        },
        "outputId": "fa42fe28-8a81-4a67-f2ea-6c1616114835"
      },
      "source": [
        "learn.to_fp16()\n",
        "\n",
        "lr = 2.34e-5\n",
        "pct_start = 0.364\n",
        "b1 = 0.83\n",
        "b2 = 0.91\n",
        "learn.fit_one_cycle(5, \n",
        "            lr,\n",
        "            pct_start = pct_start,\n",
        "            moms = (b1, b2),\n",
        "            callbacks=[SaveModelCallback(learn, every='improvement', monitor='accuracy', \n",
        "                                                name='classifier_optuna')])"
      ],
      "execution_count": null,
      "outputs": [
        {
          "output_type": "display_data",
          "data": {
            "text/html": [
              "<table border=\"1\" class=\"dataframe\">\n",
              "  <thead>\n",
              "    <tr style=\"text-align: left;\">\n",
              "      <th>epoch</th>\n",
              "      <th>train_loss</th>\n",
              "      <th>valid_loss</th>\n",
              "      <th>accuracy</th>\n",
              "      <th>time</th>\n",
              "    </tr>\n",
              "  </thead>\n",
              "  <tbody>\n",
              "    <tr>\n",
              "      <td>0</td>\n",
              "      <td>0.662620</td>\n",
              "      <td>0.654050</td>\n",
              "      <td>0.864816</td>\n",
              "      <td>00:33</td>\n",
              "    </tr>\n",
              "    <tr>\n",
              "      <td>1</td>\n",
              "      <td>0.670050</td>\n",
              "      <td>0.622398</td>\n",
              "      <td>0.876455</td>\n",
              "      <td>00:34</td>\n",
              "    </tr>\n",
              "    <tr>\n",
              "      <td>2</td>\n",
              "      <td>0.573646</td>\n",
              "      <td>0.574386</td>\n",
              "      <td>0.897941</td>\n",
              "      <td>00:30</td>\n",
              "    </tr>\n",
              "    <tr>\n",
              "      <td>3</td>\n",
              "      <td>0.486312</td>\n",
              "      <td>0.580335</td>\n",
              "      <td>0.906893</td>\n",
              "      <td>00:31</td>\n",
              "    </tr>\n",
              "    <tr>\n",
              "      <td>4</td>\n",
              "      <td>0.449413</td>\n",
              "      <td>0.580074</td>\n",
              "      <td>0.904208</td>\n",
              "      <td>00:31</td>\n",
              "    </tr>\n",
              "  </tbody>\n",
              "</table>"
            ],
            "text/plain": [
              "<IPython.core.display.HTML object>"
            ]
          },
          "metadata": {
            "tags": []
          }
        },
        {
          "output_type": "stream",
          "text": [
            "Better model found at epoch 0 with accuracy value: 0.8648164868354797.\n",
            "Better model found at epoch 1 with accuracy value: 0.876454770565033.\n",
            "Better model found at epoch 2 with accuracy value: 0.8979409337043762.\n",
            "Better model found at epoch 3 with accuracy value: 0.9068934917449951.\n"
          ],
          "name": "stdout"
        }
      ]
    },
    {
      "cell_type": "markdown",
      "metadata": {
        "id": "eGkVxeyamib4",
        "colab_type": "text"
      },
      "source": [
        "We can get around 91% accuracy in 1/4 the epochs with properly tuned hyperparameters"
      ]
    },
    {
      "cell_type": "markdown",
      "metadata": {
        "id": "Z-8RuY10L2Ek",
        "colab_type": "text"
      },
      "source": [
        "# Inference\n",
        "\n",
        "We can use `learn.export()` to export the learner as a `.pkl` file, which can then be called as a function using `learn = load_learner($data_path$)` in a deployment setting"
      ]
    },
    {
      "cell_type": "code",
      "metadata": {
        "id": "F83BpLSnN7Ql",
        "colab_type": "code",
        "colab": {}
      },
      "source": [
        ""
      ],
      "execution_count": null,
      "outputs": []
    }
  ]
}