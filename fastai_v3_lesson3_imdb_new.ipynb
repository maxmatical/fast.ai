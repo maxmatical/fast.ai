{
  "nbformat": 4,
  "nbformat_minor": 0,
  "metadata": {
    "colab": {
      "name": "fastai-v3-lesson3-imdb-new.ipynb",
      "version": "0.3.2",
      "provenance": [],
      "collapsed_sections": [],
      "toc_visible": true,
      "include_colab_link": true
    },
    "kernelspec": {
      "name": "python3",
      "display_name": "Python 3"
    },
    "accelerator": "GPU"
  },
  "cells": [
    {
      "cell_type": "markdown",
      "metadata": {
        "id": "view-in-github",
        "colab_type": "text"
      },
      "source": [
        "<a href=\"https://colab.research.google.com/github/maxmatical/fast.ai/blob/master/fastai_v3_lesson3_imdb_new.ipynb\" target=\"_parent\"><img src=\"https://colab.research.google.com/assets/colab-badge.svg\" alt=\"Open In Colab\"/></a>"
      ]
    },
    {
      "cell_type": "markdown",
      "metadata": {
        "id": "ARtZZ_xZUgdH",
        "colab_type": "text"
      },
      "source": [
        "# IMDB"
      ]
    },
    {
      "cell_type": "code",
      "metadata": {
        "id": "xN9dNvHJUgdI",
        "colab_type": "code",
        "colab": {}
      },
      "source": [
        "# Set up environment and download course-v3\n",
        "!curl -s https://course.fast.ai/setup/colab | bash\n"
      ],
      "execution_count": 0,
      "outputs": []
    },
    {
      "cell_type": "code",
      "metadata": {
        "id": "CqXkPB9FUgdL",
        "colab_type": "code",
        "colab": {}
      },
      "source": [
        "from fastai import *\n",
        "from fastai.text import *\n",
        "from fastai.utils.show_install import *\n",
        "show_install()"
      ],
      "execution_count": 0,
      "outputs": []
    },
    {
      "cell_type": "markdown",
      "metadata": {
        "id": "cDy1lzn-UgeF",
        "colab_type": "text"
      },
      "source": [
        "# Full IMDB Data"
      ]
    },
    {
      "cell_type": "code",
      "metadata": {
        "id": "_ju5qPIAUgeG",
        "colab_type": "code",
        "outputId": "038f8e25-dffd-40b6-b85f-20e2412e0e8e",
        "colab": {
          "base_uri": "https://localhost:8080/",
          "height": 156
        }
      },
      "source": [
        "path = untar_data(URLs.IMDB)\n",
        "path.ls()"
      ],
      "execution_count": 0,
      "outputs": [
        {
          "output_type": "execute_result",
          "data": {
            "text/plain": [
              "[PosixPath('/content/data/imdb/models'),\n",
              " PosixPath('/content/data/imdb/unsup'),\n",
              " PosixPath('/content/data/imdb/tmp_clas'),\n",
              " PosixPath('/content/data/imdb/README'),\n",
              " PosixPath('/content/data/imdb/train'),\n",
              " PosixPath('/content/data/imdb/test'),\n",
              " PosixPath('/content/data/imdb/tmp_lm'),\n",
              " PosixPath('/content/data/imdb/imdb.vocab')]"
            ]
          },
          "metadata": {
            "tags": []
          },
          "execution_count": 3
        }
      ]
    },
    {
      "cell_type": "code",
      "metadata": {
        "id": "fVnldMVhUgeM",
        "colab_type": "code",
        "outputId": "b85ac850-e951-4244-9ddf-668db585962f",
        "colab": {
          "base_uri": "https://localhost:8080/",
          "height": 86
        }
      },
      "source": [
        "(path/'train').ls()"
      ],
      "execution_count": 0,
      "outputs": [
        {
          "output_type": "execute_result",
          "data": {
            "text/plain": [
              "[PosixPath('/content/data/imdb/train/unsupBow.feat'),\n",
              " PosixPath('/content/data/imdb/train/neg'),\n",
              " PosixPath('/content/data/imdb/train/labeledBow.feat'),\n",
              " PosixPath('/content/data/imdb/train/pos')]"
            ]
          },
          "metadata": {
            "tags": []
          },
          "execution_count": 4
        }
      ]
    },
    {
      "cell_type": "markdown",
      "metadata": {
        "id": "8U6xq7D0UgeO",
        "colab_type": "text"
      },
      "source": [
        "The reviews are in a training and test set following an imagenet structure. The only difference is that there is an `unsup` folder in `train` that contains the unlabelled data."
      ]
    },
    {
      "cell_type": "markdown",
      "metadata": {
        "id": "z57IUWphUgeP",
        "colab_type": "text"
      },
      "source": [
        "## Language model"
      ]
    },
    {
      "cell_type": "markdown",
      "metadata": {
        "id": "NE3FPJogUgeQ",
        "colab_type": "text"
      },
      "source": [
        "We're not going to train a model that classifies the reviews from scratch. Like in computer vision, we'll use a model pretrained on a bigger dataset (a cleaned subset of wikipeia called [wikitext-103](https://einstein.ai/research/blog/the-wikitext-long-term-dependency-language-modeling-dataset)). That model has been trained to guess what the next word, its input being all the previous words. It has a recurrent structure and a hidden state that is updated each time it sees a new word. This hidden state thus contains information about the sentence up to that point.\n",
        "\n",
        "We are going to use that 'knowledge' of the English language to build our classifier, but first, like for computer vision, we need to fine-tune the pretrained model to our particular dataset. Because the English of the reviex lefts by people on IMDB isn't the same as the English of wikipedia, we'll need to adjust a little bit the parameters of our model. Plus there might be some words extremely common in that dataset that were barely present in wikipedia, and therefore might no be part of the vocabulary the model was trained on.\n",
        "\n",
        "Note that language models can use a lot of GPU, so you may need to decrease batchsize here."
      ]
    },
    {
      "cell_type": "code",
      "metadata": {
        "id": "bEgkoZ1SUgeQ",
        "colab_type": "code",
        "colab": {}
      },
      "source": [
        "bs=32"
      ],
      "execution_count": 0,
      "outputs": []
    },
    {
      "cell_type": "markdown",
      "metadata": {
        "id": "1rvu4rtJUgeS",
        "colab_type": "text"
      },
      "source": [
        "This is where the unlabelled data is going to be useful to us, as we can use it to fine-tune our model. Let's create our data object with the data block API (next line takes a few minutes)."
      ]
    },
    {
      "cell_type": "code",
      "metadata": {
        "id": "4u_6jjd0UgeU",
        "colab_type": "code",
        "colab": {}
      },
      "source": [
        "data_lm = (TextList.from_folder(path)\n",
        "           #Inputs: all the text files in path\n",
        "           # We use both the train and text data to build our LM\n",
        "            .filter_by_folder(include=['train', 'test']) \n",
        "           #We may have other temp folders that contain text files so we only keep what's in train and test\n",
        "            .random_split_by_pct(0.1)\n",
        "           #We randomly split and keep 10% (10,000 reviews) for validation\n",
        "            .label_for_lm()           \n",
        "           #We want to do a language model so we label accordingly\n",
        "            .databunch(bs= bs,))\n",
        "\n",
        "\n",
        "# change num workers if needed\n",
        "\n",
        "\n",
        "\n",
        "\n",
        "# data_lm.save('tmp_lm')"
      ],
      "execution_count": 0,
      "outputs": []
    },
    {
      "cell_type": "markdown",
      "metadata": {
        "id": "bzjj7TmcUgeW",
        "colab_type": "text"
      },
      "source": [
        "We have to use a special kind of `TextDataBunch` for the language model, that ignores the labels (that's why we put 0 everywhere), will shuffle the texts at each epoch before concatenating them all together (only for training, we don't shuffle for the validation set) and will send batches that read that text in order with targets that are the next word in the sentence.\n",
        "\n",
        "The line before being a bit long, we want to load quickly the final ids by using the following cell."
      ]
    },
    {
      "cell_type": "code",
      "metadata": {
        "id": "M7TOyljgUgeX",
        "colab_type": "code",
        "colab": {}
      },
      "source": [
        "# data_lm = TextLMDataBunch.load(path, 'tmp_lm', bs=bs)"
      ],
      "execution_count": 0,
      "outputs": []
    },
    {
      "cell_type": "code",
      "metadata": {
        "id": "_26s_7VuUgea",
        "colab_type": "code",
        "outputId": "a002ffee-ee8d-4d8e-bbf7-f99df85e1f31",
        "colab": {
          "base_uri": "https://localhost:8080/",
          "height": 380
        }
      },
      "source": [
        "data_lm.show_batch()"
      ],
      "execution_count": 0,
      "outputs": [
        {
          "output_type": "display_data",
          "data": {
            "text/html": [
              "<table border=\"1\" class=\"dataframe\">\n",
              "  <thead>\n",
              "    <tr style=\"text-align: right;\">\n",
              "      <th>idx</th>\n",
              "      <th>text</th>\n",
              "    </tr>\n",
              "  </thead>\n",
              "  <tbody>\n",
              "    <tr>\n",
              "      <td>0</td>\n",
              "      <td>marseilles , asks for some names , beats up some people , gets the names , goes to more scuzzy places , asks for more names , beats up more people , etc . xxmaj the whole movie is punch after punch after punch . xxmaj it seems that the people who made it had no other ambition than to create the xxmaj french equivalent of \" xxmaj dirty xxmaj</td>\n",
              "    </tr>\n",
              "    <tr>\n",
              "      <td>1</td>\n",
              "      <td>appeared engaged was when she was interacting with xxmaj matt xxmaj dillon , who i thought was appropriately over the top as xxmaj evil xxmaj bad xxmaj guy xxmaj trip xxmaj murphy . \\n \\n  xxmaj it was great to see xxmaj herbie again , and i loved the movie intro with material from the old movies . xxmaj if xxmaj disney had popped out with some xxmaj car</td>\n",
              "    </tr>\n",
              "    <tr>\n",
              "      <td>2</td>\n",
              "      <td>time . xxbos xxmaj who in their right mind does anything so stupid as this movie ? \\n \\n  xxmaj accidental killing of a security guard ... characters that are so two dimensional that a two year old could have painted drawn them ... and better ... \\n \\n  a red toolbox of death ? xxmaj please xxrep 4 . \\n \\n  xxmaj xxunk weak thugs ...</td>\n",
              "    </tr>\n",
              "    <tr>\n",
              "      <td>3</td>\n",
              "      <td>to wonder just what the heck this thing is about ! the title premise could have been the basis for a fun ( if politically incorrect ) comedy . instead , we 're treated to cheap , amateurish , unfinished sketches and depravity and weirdness for its own sake . if i want that , i 'll go buy a grace jones cd . xxbos i am a huge ,</td>\n",
              "    </tr>\n",
              "    <tr>\n",
              "      <td>4</td>\n",
              "      <td>like too often the case in other contemporary witchcraft movies like \" xxmaj the xxmaj dunwich xxmaj horror \" and \" xxmaj the xxmaj xxunk xxmaj terror \" . xxmaj the film jumps back and forth between the events in present day and flashbacks of 1692 ; which keeps it rather amusing and fast - paced . xxmaj the xxmaj ann xxmaj putman girl is quite a fascinating character ,</td>\n",
              "    </tr>\n",
              "  </tbody>\n",
              "</table>"
            ],
            "text/plain": [
              "<IPython.core.display.HTML object>"
            ]
          },
          "metadata": {
            "tags": []
          }
        }
      ]
    },
    {
      "cell_type": "markdown",
      "metadata": {
        "id": "hZb-f2EnUgee",
        "colab_type": "text"
      },
      "source": [
        "We can then put this in a learner object very easily with a model loaded with the pretrained weights. They'll be downloaded the first time you'll execute the following line and stored in './fastai/models/' (or elsewhere if you specified different paths in your config file)."
      ]
    },
    {
      "cell_type": "code",
      "metadata": {
        "id": "sXJUS9zx48MU",
        "colab_type": "code",
        "colab": {}
      },
      "source": [
        "# ??language_model_learner"
      ],
      "execution_count": 0,
      "outputs": []
    },
    {
      "cell_type": "markdown",
      "metadata": {
        "id": "AEsh7feDHs4E",
        "colab_type": "text"
      },
      "source": [
        "try \n",
        "\n",
        "FlattenedLoss(LabelSmoothingCrossEntropy, axis=-1)\n"
      ]
    },
    {
      "cell_type": "code",
      "metadata": {
        "id": "kwO4rzIpUgee",
        "colab_type": "code",
        "colab": {}
      },
      "source": [
        "# learn = language_model_learner(data_lm, arch=AWD_LSTM, drop_mult=0.3).to_fp16()\n",
        "\n",
        "\n",
        "learn = language_model_learner(data_lm, arch=AWD_LSTM, loss_func = FlattenedLoss(LabelSmoothingCrossEntropy, axis=-1),\n",
        "                               drop_mult=0.3).to_fp16()\n",
        "\n"
      ],
      "execution_count": 0,
      "outputs": []
    },
    {
      "cell_type": "markdown",
      "metadata": {
        "id": "29TMUhUYaiFT",
        "colab_type": "text"
      },
      "source": [
        "drop_mult is multiplied to the default dropout rate\n",
        "\n",
        "if drop_mult = 1, use default dropout rate\n",
        "\n",
        "if drop_mult = 0.5, use default dropout rate * 0.5\n",
        "\n",
        "higher drop_mult -> higher droput rate"
      ]
    },
    {
      "cell_type": "code",
      "metadata": {
        "id": "6L-EjrrYUgeg",
        "colab_type": "code",
        "outputId": "b68504d6-cbcf-47e2-840b-175d9c7c6978",
        "colab": {
          "base_uri": "https://localhost:8080/",
          "height": 300
        }
      },
      "source": [
        "learn.lr_find()\n",
        "learn.recorder.plot(skip_end=15)"
      ],
      "execution_count": 0,
      "outputs": [
        {
          "output_type": "display_data",
          "data": {
            "text/html": [
              ""
            ],
            "text/plain": [
              "<IPython.core.display.HTML object>"
            ]
          },
          "metadata": {
            "tags": []
          }
        },
        {
          "output_type": "stream",
          "text": [
            "LR Finder is complete, type {learner_name}.recorder.plot() to see the graph.\n"
          ],
          "name": "stdout"
        },
        {
          "output_type": "display_data",
          "data": {
            "image/png": "[encoded data removed]",
            "text/plain": [
              "<Figure size 432x288 with 1 Axes>"
            ]
          },
          "metadata": {
            "tags": []
          }
        }
      ]
    },
    {
      "cell_type": "markdown",
      "metadata": {
        "id": "sTmY_8SGa9I1",
        "colab_type": "text"
      },
      "source": [
        "just training the last layer (all other layers are frozen)"
      ]
    },
    {
      "cell_type": "code",
      "metadata": {
        "id": "joZwCAsjUgem",
        "colab_type": "code",
        "outputId": "3d8511cc-0597-48a2-f5cf-30d8adaaf7c5",
        "colab": {
          "base_uri": "https://localhost:8080/",
          "height": 347
        }
      },
      "source": [
        "learn.fit_one_cycle(1, 1e-2, moms=(0.8,0.7))\n",
        "\n",
        "learn.recorder.plot_losses()\n",
        "\n",
        "# moms is the momentum\n",
        "# useful for rnns to decrease the momentums a bit to get better results"
      ],
      "execution_count": 0,
      "outputs": [
        {
          "output_type": "display_data",
          "data": {
            "text/html": [
              "<table border=\"1\" class=\"dataframe\">\n",
              "  <thead>\n",
              "    <tr style=\"text-align: left;\">\n",
              "      <th>epoch</th>\n",
              "      <th>train_loss</th>\n",
              "      <th>valid_loss</th>\n",
              "      <th>accuracy</th>\n",
              "      <th>time</th>\n",
              "    </tr>\n",
              "  </thead>\n",
              "  <tbody>\n",
              "    <tr>\n",
              "      <td>0</td>\n",
              "      <td>5.113927</td>\n",
              "      <td>4.988869</td>\n",
              "      <td>0.292919</td>\n",
              "      <td>1:09:04</td>\n",
              "    </tr>\n",
              "  </tbody>\n",
              "</table>"
            ],
            "text/plain": [
              "<IPython.core.display.HTML object>"
            ]
          },
          "metadata": {
            "tags": []
          }
        },
        {
          "output_type": "display_data",
          "data": {
            "image/png": "[encoded data removed]",
            "text/plain": [
              "<Figure size 432x288 with 1 Axes>"
            ]
          },
          "metadata": {
            "tags": []
          }
        }
      ]
    },
    {
      "cell_type": "markdown",
      "metadata": {
        "id": "PjlbZgHFKrRX",
        "colab_type": "text"
      },
      "source": [
        "fp16: around 28% accuracy\n",
        "\n",
        "with label smoothing: around 29% accuracy"
      ]
    },
    {
      "cell_type": "code",
      "metadata": {
        "id": "ytwu5SZ8Ugeo",
        "colab_type": "code",
        "colab": {}
      },
      "source": [
        "learn.save('fit_head')"
      ],
      "execution_count": 0,
      "outputs": []
    },
    {
      "cell_type": "code",
      "metadata": {
        "id": "rPN-ahwRUgep",
        "colab_type": "code",
        "colab": {}
      },
      "source": [
        "learn.load('fit_head');"
      ],
      "execution_count": 0,
      "outputs": []
    },
    {
      "cell_type": "markdown",
      "metadata": {
        "id": "gm6C2YGvUger",
        "colab_type": "text"
      },
      "source": [
        "To complete the fine-tuning, we can then unfeeze and launch a new training."
      ]
    },
    {
      "cell_type": "code",
      "metadata": {
        "id": "ciX02G6bUges",
        "colab_type": "code",
        "outputId": "3ff123c8-69df-4ac7-bc74-62dc540158d3",
        "colab": {
          "base_uri": "https://localhost:8080/",
          "height": 95
        }
      },
      "source": [
        "learn.unfreeze()\n",
        "#learn.fit_one_cycle(10, 1e-3, moms=(0.8,0.7))\n",
        "learn.fit_one_cycle(1, slice(1e-2/(2.6**4), 1e-2), moms=(0.8,0.7))\n",
        "\n",
        "learn.recorder.plot_losses()\n"
      ],
      "execution_count": 0,
      "outputs": [
        {
          "output_type": "display_data",
          "data": {
            "text/html": [
              "\n",
              "    <div>\n",
              "        <style>\n",
              "            /* Turns off some styling */\n",
              "            progress {\n",
              "                /* gets rid of default border in Firefox and Opera. */\n",
              "                border: none;\n",
              "                /* Needs to be in here for Safari polyfill so background images work as expected. */\n",
              "                background-size: auto;\n",
              "            }\n",
              "            .progress-bar-interrupted, .progress-bar-interrupted::-webkit-progress-bar {\n",
              "                background: #F44336;\n",
              "            }\n",
              "        </style>\n",
              "      <progress value='0' class='' max='1', style='width:300px; height:20px; vertical-align: middle;'></progress>\n",
              "      0.00% [0/1 00:00<00:00]\n",
              "    </div>\n",
              "    \n",
              "<table border=\"1\" class=\"dataframe\">\n",
              "  <thead>\n",
              "    <tr style=\"text-align: left;\">\n",
              "      <th>epoch</th>\n",
              "      <th>train_loss</th>\n",
              "      <th>valid_loss</th>\n",
              "      <th>accuracy</th>\n",
              "      <th>time</th>\n",
              "    </tr>\n",
              "  </thead>\n",
              "  <tbody>\n",
              "  </tbody>\n",
              "</table><p>\n",
              "\n",
              "    <div>\n",
              "        <style>\n",
              "            /* Turns off some styling */\n",
              "            progress {\n",
              "                /* gets rid of default border in Firefox and Opera. */\n",
              "                border: none;\n",
              "                /* Needs to be in here for Safari polyfill so background images work as expected. */\n",
              "                background-size: auto;\n",
              "            }\n",
              "            .progress-bar-interrupted, .progress-bar-interrupted::-webkit-progress-bar {\n",
              "                background: #F44336;\n",
              "            }\n",
              "        </style>\n",
              "      <progress value='4858' class='' max='5992', style='width:300px; height:20px; vertical-align: middle;'></progress>\n",
              "      81.07% [4858/5992 59:19<13:50 4.8643]\n",
              "    </div>\n",
              "    "
            ],
            "text/plain": [
              "<IPython.core.display.HTML object>"
            ]
          },
          "metadata": {
            "tags": []
          }
        }
      ]
    },
    {
      "cell_type": "markdown",
      "metadata": {
        "id": "-CLUXSlubDGK",
        "colab_type": "text"
      },
      "source": [
        "since accuracy isn't dropping yet, we haven't overfitted yet, so we can probably continue training the model more"
      ]
    },
    {
      "cell_type": "code",
      "metadata": {
        "id": "hJGA-rCDbRUF",
        "colab_type": "code",
        "colab": {}
      },
      "source": [
        "learn.fit_one_cycle(1, slice(1e-2/(2.6**4), 1e-2), moms=(0.8,0.7))\n",
        "\n",
        "learn.recorder.plot_losses()"
      ],
      "execution_count": 0,
      "outputs": []
    },
    {
      "cell_type": "code",
      "metadata": {
        "id": "1ZZLrfWfUget",
        "colab_type": "code",
        "colab": {}
      },
      "source": [
        "learn.save('fine_tuned')"
      ],
      "execution_count": 0,
      "outputs": []
    },
    {
      "cell_type": "markdown",
      "metadata": {
        "id": "XbCItlPyUgev",
        "colab_type": "text"
      },
      "source": [
        "How good is our model? Well let's try to see what it predicts after a few given words."
      ]
    },
    {
      "cell_type": "code",
      "metadata": {
        "id": "XOwVRR3PUgew",
        "colab_type": "code",
        "colab": {}
      },
      "source": [
        "learn.load('fine_tuned');"
      ],
      "execution_count": 0,
      "outputs": []
    },
    {
      "cell_type": "code",
      "metadata": {
        "id": "KB6TIBrtUgey",
        "colab_type": "code",
        "outputId": "d966f2a6-9aba-41d9-d57d-1762e55fe6c9",
        "colab": {
          "base_uri": "https://localhost:8080/",
          "height": 54
        }
      },
      "source": [
        "learn.predict('I liked this movie because ', 100, temperature=1.1, min_p=0.001)"
      ],
      "execution_count": 0,
      "outputs": [
        {
          "output_type": "execute_result",
          "data": {
            "text/plain": [
              "'I liked this movie because  at other make do see the , the but any that . but so Was it , Not movie of . . of from and with are the are with Movies . for a to : . . ( of bad me it It get to of the It not movie to so in \\n \\n  to me The , a film Was would really : a been \\n \\n  movie you \" , on some , could \" to is be n\\'t to for A and for not be is of an to'"
            ]
          },
          "metadata": {
            "tags": []
          },
          "execution_count": 12
        }
      ]
    },
    {
      "cell_type": "markdown",
      "metadata": {
        "id": "9qdpkjfzUge0",
        "colab_type": "text"
      },
      "source": [
        "We have to save the model but also its **encoder, **the part that's responsible for creating and updating the hidden state. For the next part, we don't care about the part that tries to guess the next word."
      ]
    },
    {
      "cell_type": "code",
      "metadata": {
        "id": "uF0b5yyHUge2",
        "colab_type": "code",
        "colab": {}
      },
      "source": [
        "learn.save_encoder('fine_tuned_enc')"
      ],
      "execution_count": 0,
      "outputs": []
    },
    {
      "cell_type": "markdown",
      "metadata": {
        "id": "mkRDtAA3Uge3",
        "colab_type": "text"
      },
      "source": [
        "## Classifier"
      ]
    },
    {
      "cell_type": "markdown",
      "metadata": {
        "id": "eOxHS-w9Uge3",
        "colab_type": "text"
      },
      "source": [
        "Now, we'll create a new data object that only grabs the labelled data and keeps those labels. Again, this line takes a bit of time."
      ]
    },
    {
      "cell_type": "code",
      "metadata": {
        "id": "BFbCU4p8Uge5",
        "colab_type": "code",
        "outputId": "fd8613df-308e-45b7-c6ed-19587d0c26c0",
        "colab": {}
      },
      "source": [
        "path = untar_data(URLs.IMDB)\n",
        "path.ls()"
      ],
      "execution_count": 0,
      "outputs": [
        {
          "output_type": "execute_result",
          "data": {
            "text/plain": [
              "[PosixPath('/home/jhoward/.fastai/data/imdb/imdb.vocab'),\n",
              " PosixPath('/home/jhoward/.fastai/data/imdb/models'),\n",
              " PosixPath('/home/jhoward/.fastai/data/imdb/tmp_lm'),\n",
              " PosixPath('/home/jhoward/.fastai/data/imdb/train'),\n",
              " PosixPath('/home/jhoward/.fastai/data/imdb/test'),\n",
              " PosixPath('/home/jhoward/.fastai/data/imdb/README'),\n",
              " PosixPath('/home/jhoward/.fastai/data/imdb/tmp_clas')]"
            ]
          },
          "metadata": {
            "tags": []
          },
          "execution_count": 0
        }
      ]
    },
    {
      "cell_type": "code",
      "metadata": {
        "id": "cyfmfolWUge9",
        "colab_type": "code",
        "outputId": "2466c946-1393-4b2e-c4d7-ad1d069f19f4",
        "colab": {}
      },
      "source": [
        "(path/'train').ls()"
      ],
      "execution_count": 0,
      "outputs": [
        {
          "output_type": "execute_result",
          "data": {
            "text/plain": [
              "[PosixPath('/home/jhoward/.fastai/data/imdb/train/pos'),\n",
              " PosixPath('/home/jhoward/.fastai/data/imdb/train/unsup'),\n",
              " PosixPath('/home/jhoward/.fastai/data/imdb/train/unsupBow.feat'),\n",
              " PosixPath('/home/jhoward/.fastai/data/imdb/train/labeledBow.feat'),\n",
              " PosixPath('/home/jhoward/.fastai/data/imdb/train/neg')]"
            ]
          },
          "metadata": {
            "tags": []
          },
          "execution_count": 0
        }
      ]
    },
    {
      "cell_type": "code",
      "metadata": {
        "id": "6uGMiVhcUge_",
        "colab_type": "code",
        "colab": {}
      },
      "source": [
        "bs = 32\n",
        "\n",
        "data_clas = (TextList.from_folder(path, vocab=data_lm.vocab) # we need to ensure the vocab between the classifier and the LM is the same\n",
        "             #grab all the text files in path\n",
        "             .split_by_folder(valid='test')\n",
        "             #split by train and valid folder (that only keeps 'train' and 'test' so no need to filter)\n",
        "             .label_from_folder(classes=['neg', 'pos'])\n",
        "             #remove docs with labels not in above list (i.e. 'unsup')\n",
        "             .filter_missing_y()\n",
        "             #label them all with their folders\n",
        "             .databunch(bs=bs))\n",
        "data_clas.save('tmp_clas')"
      ],
      "execution_count": 0,
      "outputs": []
    },
    {
      "cell_type": "code",
      "metadata": {
        "id": "63iGV_7qUgfA",
        "colab_type": "code",
        "outputId": "90e585cf-f094-455f-e2a9-c66f3ea8face",
        "colab": {}
      },
      "source": [
        "len(data_clas.train_ds)"
      ],
      "execution_count": 0,
      "outputs": [
        {
          "output_type": "execute_result",
          "data": {
            "text/plain": [
              "75000"
            ]
          },
          "metadata": {
            "tags": []
          },
          "execution_count": 0
        }
      ]
    },
    {
      "cell_type": "code",
      "metadata": {
        "id": "10t0mOhDUgfD",
        "colab_type": "code",
        "outputId": "1eae190e-3643-4713-ac70-84f9352106bf",
        "colab": {}
      },
      "source": [
        "data_clas = TextClasDataBunch.load(path, 'tmp_clas', bs=bs)\n",
        "data_clas.show_batch()"
      ],
      "execution_count": 0,
      "outputs": [
        {
          "output_type": "display_data",
          "data": {
            "text/html": [
              "<table>  <col width='90%'>  <col width='10%'>  <tr>\n",
              "    <th>text</th>\n",
              "    <th>label</th>\n",
              "  </tr>\n",
              "  <tr>\n",
              "    <th>xxfld 1 match 1 : tag team table match bubba ray and spike dudley vs eddie guerrero and chris benoit bubba ray and spike dudley started things off with a tag team table match against eddie guerrero and chris benoit . according to the rules of the match , both</th>\n",
              "    <th>pos</th>\n",
              "  </tr>\n",
              "  <tr>\n",
              "    <th>xxfld 1 i have never seen any of spike lee 's prior films , as their trailers never caught my interest . i have seen , and admire denzel washington , and jodie foster 's work , and have several of their dvds . i was , however , entirely</th>\n",
              "    <th>neg</th>\n",
              "  </tr>\n",
              "  <tr>\n",
              "    <th>xxfld 1 pier paolo pasolini , or pee - pee - pee as i prefer to call him ( due to his love of showing male genitals ) , is perhaps xxup the most overrated european marxist director - and they are thick on the ground . how anyone can</th>\n",
              "    <th>neg</th>\n",
              "  </tr>\n",
              "  <tr>\n",
              "    <th>xxfld 1 chris rock deserves better than he gives himself in \" down to earth . \" as directed by brothers chris & paul weitz of \" american pie \" fame , this uninspired remake of warren beatty 's 1978 fantasy \" heaven can wait , \" itself a rehash</th>\n",
              "    <th>neg</th>\n",
              "  </tr>\n",
              "  <tr>\n",
              "    <th>xxfld 1 yesterday , i went to the monthly antique flea market that comes to town . i really have no interest in such things , but i went for the fellowship of friends who do have such an interest . looking over the hundreds of vendor , passing many</th>\n",
              "    <th>pos</th>\n",
              "  </tr>\n",
              "</table>\n"
            ],
            "text/plain": [
              "<IPython.core.display.HTML object>"
            ]
          },
          "metadata": {
            "tags": []
          }
        }
      ]
    },
    {
      "cell_type": "markdown",
      "metadata": {
        "id": "3oRRklq8UgfG",
        "colab_type": "text"
      },
      "source": [
        "We can then create a model to classify those reviews and load the encoder we saved before."
      ]
    },
    {
      "cell_type": "code",
      "metadata": {
        "id": "lWhnZ8TzUgfH",
        "colab_type": "code",
        "colab": {}
      },
      "source": [
        "learn = text_classifier_learner(data_clas, drop_mult=0.5)\n",
        "learn.load_encoder('fine_tuned_enc')\n",
        "learn.freeze()"
      ],
      "execution_count": 0,
      "outputs": []
    },
    {
      "cell_type": "code",
      "metadata": {
        "id": "C4cYt525UgfK",
        "colab_type": "code",
        "outputId": "56cd56fc-96c6-4ff2-b811-e1fc39478dea",
        "colab": {}
      },
      "source": [
        "learn.lr_find()"
      ],
      "execution_count": 0,
      "outputs": [
        {
          "output_type": "stream",
          "text": [
            "LR Finder is complete, type {learner_name}.recorder.plot() to see the graph.\n"
          ],
          "name": "stdout"
        }
      ]
    },
    {
      "cell_type": "code",
      "metadata": {
        "id": "vJIyrdYJUgfP",
        "colab_type": "code",
        "outputId": "89b30005-b903-4b98-ae80-9eb3e8fa18bc",
        "colab": {}
      },
      "source": [
        "learn.recorder.plot()"
      ],
      "execution_count": 0,
      "outputs": [
        {
          "output_type": "display_data",
          "data": {
            "image/png": "[encoded data removed]",
            "text/plain": [
              "<Figure size 432x288 with 1 Axes>"
            ]
          },
          "metadata": {
            "tags": [],
            "needs_background": "light"
          }
        }
      ]
    },
    {
      "cell_type": "code",
      "metadata": {
        "id": "A8YDZHMLUgfT",
        "colab_type": "code",
        "outputId": "9c474961-eb09-46e5-a7d3-66606e21a40b",
        "colab": {}
      },
      "source": [
        "learn.fit_one_cycle(1, 2e-2, moms=(0.8,0.7))"
      ],
      "execution_count": 0,
      "outputs": [
        {
          "output_type": "stream",
          "text": [
            "Total time: 02:46\n",
            "epoch  train_loss  valid_loss  accuracy\n",
            "1      0.294225    0.210385    0.918960  (02:46)\n",
            "\n"
          ],
          "name": "stdout"
        }
      ]
    },
    {
      "cell_type": "code",
      "metadata": {
        "id": "4w8TDdXhUgfW",
        "colab_type": "code",
        "colab": {}
      },
      "source": [
        "learn.save('first')"
      ],
      "execution_count": 0,
      "outputs": []
    },
    {
      "cell_type": "code",
      "metadata": {
        "id": "6MxR5Yq-UgfZ",
        "colab_type": "code",
        "colab": {}
      },
      "source": [
        "learn.load('first');"
      ],
      "execution_count": 0,
      "outputs": []
    },
    {
      "cell_type": "code",
      "metadata": {
        "id": "Il8y1el7Ugfc",
        "colab_type": "code",
        "outputId": "13c2b054-d152-4a01-b9c7-8d4b5fb2ddf8",
        "colab": {}
      },
      "source": [
        "learn.freeze_to(-2) # only unfreezes the last 2 layers\n",
        "\n",
        "\n",
        "\n",
        "learn.fit_one_cycle(1, slice(1e-2/(2.6**4),1e-2), moms=(0.8,0.7))"
      ],
      "execution_count": 0,
      "outputs": [
        {
          "output_type": "stream",
          "text": [
            "Total time: 03:03\n",
            "epoch  train_loss  valid_loss  accuracy\n",
            "1      0.268781    0.180993    0.930760  (03:03)\n",
            "\n"
          ],
          "name": "stdout"
        }
      ]
    },
    {
      "cell_type": "code",
      "metadata": {
        "id": "jr8O6o5AUgfe",
        "colab_type": "code",
        "colab": {}
      },
      "source": [
        "learn.save('second')"
      ],
      "execution_count": 0,
      "outputs": []
    },
    {
      "cell_type": "code",
      "metadata": {
        "id": "hDTlb2itUgfi",
        "colab_type": "code",
        "colab": {}
      },
      "source": [
        "learn.load('second');"
      ],
      "execution_count": 0,
      "outputs": []
    },
    {
      "cell_type": "code",
      "metadata": {
        "id": "P0HRP4ktUgfj",
        "colab_type": "code",
        "outputId": "48b51f38-5063-48cb-b538-37555a4fc394",
        "colab": {}
      },
      "source": [
        "learn.freeze_to(-3)\n",
        "learn.fit_one_cycle(1, slice(5e-3/(2.6**4),5e-3), moms=(0.8,0.7))"
      ],
      "execution_count": 0,
      "outputs": [
        {
          "output_type": "stream",
          "text": [
            "Total time: 04:06\n",
            "epoch  train_loss  valid_loss  accuracy\n",
            "1      0.211133    0.161494    0.941280  (04:06)\n",
            "\n"
          ],
          "name": "stdout"
        }
      ]
    },
    {
      "cell_type": "code",
      "metadata": {
        "id": "WtOEJ9btUgfl",
        "colab_type": "code",
        "colab": {}
      },
      "source": [
        "learn.save('third')"
      ],
      "execution_count": 0,
      "outputs": []
    },
    {
      "cell_type": "code",
      "metadata": {
        "id": "-USeMlYbUgfm",
        "colab_type": "code",
        "colab": {}
      },
      "source": [
        "learn.load('third');"
      ],
      "execution_count": 0,
      "outputs": []
    },
    {
      "cell_type": "code",
      "metadata": {
        "id": "_mbwU8t4Ugfo",
        "colab_type": "code",
        "outputId": "9034d070-0930-443b-988b-d8a49f8d7b74",
        "colab": {}
      },
      "source": [
        "learn.unfreeze()\n",
        "learn.fit_one_cycle(2, slice(1e-3/(2.6**4),1e-3), moms=(0.8,0.7))"
      ],
      "execution_count": 0,
      "outputs": [
        {
          "output_type": "stream",
          "text": [
            "Total time: 10:01\n",
            "epoch  train_loss  valid_loss  accuracy\n",
            "1      0.188145    0.155038    0.942480  (05:00)\n",
            "2      0.159475    0.153531    0.944040  (05:01)\n",
            "\n"
          ],
          "name": "stdout"
        }
      ]
    },
    {
      "cell_type": "code",
      "metadata": {
        "id": "8aZItphxUgfr",
        "colab_type": "code",
        "outputId": "1e93cf45-4787-4253-dd38-052778e18bb5",
        "colab": {}
      },
      "source": [
        "learn.predict(\"I really loved that movie, it was awesome!\")"
      ],
      "execution_count": 0,
      "outputs": [
        {
          "output_type": "execute_result",
          "data": {
            "text/plain": [
              "('pos', tensor(0), tensor([[9.9999e-01, 1.1991e-05]]))"
            ]
          },
          "metadata": {
            "tags": []
          },
          "execution_count": 0
        }
      ]
    },
    {
      "cell_type": "code",
      "metadata": {
        "id": "Mq9-9n_KUgft",
        "colab_type": "code",
        "colab": {}
      },
      "source": [
        ""
      ],
      "execution_count": 0,
      "outputs": []
    },
    {
      "cell_type": "markdown",
      "metadata": {
        "id": "U6TpLmfFd0qd",
        "colab_type": "text"
      },
      "source": [
        "## Why do we do lr = slice(lr/(2.6**4), lr)??\n",
        "\n",
        "the 2.6 value comes from results done by lots of model testing\n",
        "- get a bunch of models with different hyperparameters, and their results\n",
        "- use the hyperparameter settings as feature, results as label, put through a random forest\n",
        "- use rf interpretation methods to get what are the optimal hyperparameter settings\n",
        "\n",
        "That's where 2.6 comes from \n",
        "\n",
        "Using random forest interpretations can be useful for NN hyperparam optimization"
      ]
    }
  ]
}