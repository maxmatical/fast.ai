{
  "nbformat": 4,
  "nbformat_minor": 0,
  "metadata": {
    "colab": {
      "name": "hyperband test.ipynb",
      "provenance": [],
      "include_colab_link": true
    },
    "kernelspec": {
      "name": "python3",
      "display_name": "Python 3"
    }
  },
  "cells": [
    {
      "cell_type": "markdown",
      "metadata": {
        "id": "view-in-github",
        "colab_type": "text"
      },
      "source": [
        "<a href=\"https://colab.research.google.com/github/maxmatical/fast.ai/blob/master/hyperband_test.ipynb\" target=\"_parent\"><img src=\"https://colab.research.google.com/assets/colab-badge.svg\" alt=\"Open In Colab\"/></a>"
      ]
    },
    {
      "cell_type": "code",
      "metadata": {
        "id": "h_aHuj11oWxJ",
        "colab_type": "code",
        "colab": {
          "base_uri": "https://localhost:8080/",
          "height": 193
        },
        "outputId": "044f32a6-3324-467d-d395-fc4863208224"
      },
      "source": [
        "!pip install scikit-optimize"
      ],
      "execution_count": 1,
      "outputs": [
        {
          "output_type": "stream",
          "text": [
            "Collecting scikit-optimize\n",
            "\u001b[?25l  Downloading https://files.pythonhosted.org/packages/f4/44/60f82c97d1caa98752c7da2c1681cab5c7a390a0fdd3a55fac672b321cac/scikit_optimize-0.5.2-py2.py3-none-any.whl (74kB)\n",
            "\r\u001b[K     |████▍                           | 10kB 14.4MB/s eta 0:00:01\r\u001b[K     |████████▉                       | 20kB 3.3MB/s eta 0:00:01\r\u001b[K     |█████████████▏                  | 30kB 4.7MB/s eta 0:00:01\r\u001b[K     |█████████████████▋              | 40kB 3.0MB/s eta 0:00:01\r\u001b[K     |██████████████████████          | 51kB 3.7MB/s eta 0:00:01\r\u001b[K     |██████████████████████████▍     | 61kB 4.4MB/s eta 0:00:01\r\u001b[K     |██████████████████████████████▊ | 71kB 5.1MB/s eta 0:00:01\r\u001b[K     |████████████████████████████████| 81kB 3.9MB/s \n",
            "\u001b[?25hRequirement already satisfied: numpy in /usr/local/lib/python3.6/dist-packages (from scikit-optimize) (1.17.4)\n",
            "Requirement already satisfied: scikit-learn>=0.19.1 in /usr/local/lib/python3.6/dist-packages (from scikit-optimize) (0.21.3)\n",
            "Requirement already satisfied: scipy>=0.14.0 in /usr/local/lib/python3.6/dist-packages (from scikit-optimize) (1.3.2)\n",
            "Requirement already satisfied: joblib>=0.11 in /usr/local/lib/python3.6/dist-packages (from scikit-learn>=0.19.1->scikit-optimize) (0.14.0)\n",
            "Installing collected packages: scikit-optimize\n",
            "Successfully installed scikit-optimize-0.5.2\n"
          ],
          "name": "stdout"
        }
      ]
    },
    {
      "cell_type": "code",
      "metadata": {
        "id": "MqYHY46xobAk",
        "colab_type": "code",
        "colab": {
          "base_uri": "https://localhost:8080/",
          "height": 1000
        },
        "outputId": "bb55acaf-a806-4c2d-ac37-d4f38d450d1c"
      },
      "source": [
        "from sklearn import datasets\n",
        "from sklearn.ensemble import RandomForestClassifier\n",
        "from sklearn.model_selection import train_test_split\n",
        "from skopt.space import Integer, Real\n",
        "\n",
        "from hyperband import hyperband\n",
        "\n",
        "\n",
        "\n",
        "iris = datasets.load_iris()\n",
        "X = iris.data\n",
        "y = iris.target\n",
        "\n",
        "X_train, X_test, y_train, y_test = train_test_split(iris.data,\n",
        "                                                    iris.target,\n",
        "                                                    test_size=0.20,\n",
        "                                                    random_state=1337)\n",
        "\n",
        "mock_dimensions = [\n",
        "    Real(0.0, 1.0, name='min_samples_split'),\n",
        "    Integer(2, 10, name='max_depth')\n",
        "]\n",
        "\n",
        "def fit_and_score(resources, checkpoint, min_samples_split, max_depth):\n",
        "    import warnings\n",
        "    warnings.simplefilter(action='ignore', category=FutureWarning)\n",
        "\n",
        "    clf = RandomForestClassifier(min_samples_split = min_samples_split,\n",
        "                                 max_depth = max_depth)\n",
        "\n",
        "    clf.fit(X_train, y_train)\n",
        "\n",
        "    accuracy = clf.score(X_test, y_test)\n",
        "\n",
        "    # Maximisation problem\n",
        "    return - accuracy, [min_samples_split, max_depth]\n",
        "\n",
        "\n",
        "accuracies, hps = hyperband(objective=fit_and_score, dimensions=mock_dimensions)\n",
        "for acc, hp in zip(accuracies, hps):\n",
        "    print(acc, hp)"
      ],
      "execution_count": 3,
      "outputs": [
        {
          "output_type": "stream",
          "text": [
            "\n",
            "  0%|          | 0/2025 [00:00<?, ?it/s]\u001b[A\n",
            "  0%|          | 1.0/2025 [00:00<00:44, 45.89it/s, min_score=-.967, models_evaluated=0]\u001b[A\n",
            "  0%|          | 7.0/2025 [00:00<00:30, 65.67it/s, min_score=-.967, models_evaluated=0]\u001b[A\n",
            "  1%|          | 15.0/2025 [00:00<00:29, 67.29it/s, min_score=-.967, models_evaluated=0]\u001b[A\n",
            "  1%|          | 23.0/2025 [00:00<00:29, 68.81it/s, min_score=-.967, models_evaluated=0]\u001b[A\n",
            "  2%|▏         | 31.0/2025 [00:00<00:28, 69.46it/s, min_score=-.967, models_evaluated=0]\u001b[A\n",
            "  2%|▏         | 39.0/2025 [00:00<00:28, 70.73it/s, min_score=-.967, models_evaluated=0]\u001b[A\n",
            "  2%|▏         | 47.0/2025 [00:00<00:27, 71.67it/s, min_score=-.967, models_evaluated=0]\u001b[A\n",
            "  3%|▎         | 55.0/2025 [00:00<00:27, 72.17it/s, min_score=-.967, models_evaluated=0]\u001b[A\n",
            "  3%|▎         | 63.0/2025 [00:00<00:27, 72.54it/s, min_score=-.967, models_evaluated=0]\u001b[A\n",
            "  4%|▎         | 71.0/2025 [00:00<00:26, 72.54it/s, min_score=-.967, models_evaluated=0]\u001b[A\n",
            "  4%|▍         | 78.0/2025 [00:01<00:27, 71.68it/s, min_score=-.967, models_evaluated=0]\u001b[A\n",
            "  4%|▍         | 85.0/2025 [00:01<00:27, 69.79it/s, min_score=-.967, models_evaluated=0]\u001b[A\n",
            "  5%|▍         | 92.0/2025 [00:01<00:28, 68.97it/s, min_score=-.967, models_evaluated=0]\u001b[A\n",
            "  5%|▍         | 99.0/2025 [00:01<00:28, 67.90it/s, min_score=-.967, models_evaluated=0]\u001b[A\n",
            "  5%|▌         | 106.0/2025 [00:01<00:28, 68.27it/s, min_score=-.967, models_evaluated=0]\u001b[A\n",
            "  5%|▌         | 109.0/2025 [00:01<00:28, 68.27it/s, min_score=-1, models_evaluated=0]   \u001b[A\n",
            "  5%|▌         | 110.0/2025 [00:01<00:28, 68.27it/s, min_score=-1, models_evaluated=73]\u001b[A\n",
            "  6%|▌         | 114.0/2025 [00:01<00:27, 69.82it/s, min_score=-1, models_evaluated=73]\u001b[A\n",
            "  6%|▋         | 128.0/2025 [00:01<00:23, 81.66it/s, min_score=-1, models_evaluated=73]\u001b[A\n",
            "  7%|▋         | 142.0/2025 [00:01<00:20, 91.36it/s, min_score=-1, models_evaluated=73]\u001b[A\n",
            "  8%|▊         | 156.0/2025 [00:01<00:18, 99.76it/s, min_score=-1, models_evaluated=73]\u001b[A\n",
            "  8%|▊         | 170.0/2025 [00:02<00:17, 107.28it/s, min_score=-1, models_evaluated=73]\u001b[A\n",
            "  9%|▉         | 184.0/2025 [00:02<00:16, 112.05it/s, min_score=-1, models_evaluated=73]\u001b[A\n",
            "  9%|▉         | 184.0/2025 [00:02<00:16, 112.05it/s, min_score=-1, models_evaluated=98]\u001b[A\n",
            " 11%|█         | 220.0/2025 [00:02<00:12, 140.72it/s, min_score=-1, models_evaluated=98]\u001b[A\n",
            " 13%|█▎        | 256.0/2025 [00:02<00:12, 140.72it/s, min_score=-1, models_evaluated=106]\u001b[A\n",
            " 14%|█▎        | 274.0/2025 [00:02<00:09, 178.67it/s, min_score=-1, models_evaluated=106]\u001b[A\n",
            " 16%|█▌        | 328.0/2025 [00:02<00:09, 178.67it/s, min_score=-1, models_evaluated=109]\u001b[A\n",
            " 19%|█▉        | 382.0/2025 [00:02<00:09, 178.67it/s, min_score=-1, models_evaluated=110]\u001b[A"
          ],
          "name": "stderr"
        },
        {
          "output_type": "stream",
          "text": [
            "[2019-11-28 20:10:43,455][MainProcess][hyperband][INFO] Finished hyperband round: 0 of 4\n"
          ],
          "name": "stdout"
        },
        {
          "output_type": "stream",
          "text": [
            "\n",
            " 19%|█▉        | 388.0/2025 [00:02<00:06, 237.51it/s, min_score=-1, models_evaluated=110]\u001b[A\n",
            " 22%|██▏       | 439.0/2025 [00:02<00:06, 230.60it/s, min_score=-1, models_evaluated=110]\u001b[A\n",
            " 24%|██▍       | 481.0/2025 [00:02<00:07, 215.41it/s, min_score=-1, models_evaluated=110]\u001b[A\n",
            " 26%|██▌       | 517.0/2025 [00:03<00:07, 211.62it/s, min_score=-1, models_evaluated=110]\u001b[A\n",
            " 26%|██▌       | 517.0/2025 [00:03<00:07, 211.62it/s, min_score=-1, models_evaluated=140]\u001b[A\n",
            " 28%|██▊       | 559.0/2025 [00:03<00:06, 242.72it/s, min_score=-1, models_evaluated=140]\u001b[A\n",
            " 30%|██▉       | 601.0/2025 [00:03<00:05, 270.91it/s, min_score=-1, models_evaluated=140]\u001b[A\n",
            " 30%|██▉       | 607.0/2025 [00:03<00:05, 270.91it/s, min_score=-1, models_evaluated=150]\u001b[A\n",
            " 34%|███▍      | 697.0/2025 [00:03<00:04, 270.91it/s, min_score=-1, models_evaluated=153]\u001b[A\n",
            " 37%|███▋      | 751.0/2025 [00:03<00:03, 353.85it/s, min_score=-1, models_evaluated=153]\u001b[A\n",
            " 40%|███▉      | 805.0/2025 [00:03<00:03, 353.85it/s, min_score=-1, models_evaluated=155]\u001b[A"
          ],
          "name": "stderr"
        },
        {
          "output_type": "stream",
          "text": [
            "[2019-11-28 20:10:44,502][MainProcess][hyperband][INFO] Finished hyperband round: 1 of 4\n"
          ],
          "name": "stdout"
        },
        {
          "output_type": "stream",
          "text": [
            "\n",
            " 42%|████▏     | 850.0/2025 [00:03<00:02, 436.37it/s, min_score=-1, models_evaluated=155]\u001b[A\n",
            " 46%|████▌     | 922.0/2025 [00:03<00:02, 476.48it/s, min_score=-1, models_evaluated=155]\u001b[A\n",
            " 48%|████▊     | 976.0/2025 [00:03<00:02, 476.48it/s, min_score=-1, models_evaluated=168]\u001b[A\n",
            " 49%|████▉     | 994.0/2025 [00:03<00:01, 517.12it/s, min_score=-1, models_evaluated=168]\u001b[A\n",
            " 54%|█████▎    | 1084.0/2025 [00:03<00:01, 517.12it/s, min_score=-1, models_evaluated=172]\u001b[A\n",
            " 59%|█████▉    | 1192.0/2025 [00:03<00:01, 657.55it/s, min_score=-1, models_evaluated=172]\u001b[A\n",
            " 59%|█████▉    | 1192.0/2025 [00:03<00:01, 657.55it/s, min_score=-1, models_evaluated=174]\u001b[A"
          ],
          "name": "stderr"
        },
        {
          "output_type": "stream",
          "text": [
            "[2019-11-28 20:10:44,927][MainProcess][hyperband][INFO] Finished hyperband round: 2 of 4\n"
          ],
          "name": "stdout"
        },
        {
          "output_type": "stream",
          "text": [
            "\n",
            " 68%|██████▊   | 1381.0/2025 [00:04<00:00, 807.01it/s, min_score=-1, models_evaluated=174]\u001b[A\n",
            " 71%|███████   | 1435.0/2025 [00:04<00:00, 807.01it/s, min_score=-1, models_evaluated=180]\u001b[A\n",
            " 79%|███████▉  | 1597.0/2025 [00:04<00:00, 807.01it/s, min_score=-1, models_evaluated=183]\u001b[A"
          ],
          "name": "stderr"
        },
        {
          "output_type": "stream",
          "text": [
            "[2019-11-28 20:10:45,115][MainProcess][hyperband][INFO] Finished hyperband round: 3 of 4\n"
          ],
          "name": "stdout"
        },
        {
          "output_type": "stream",
          "text": [
            "\n",
            " 83%|████████▎ | 1678.0/2025 [00:04<00:00, 1027.31it/s, min_score=-1, models_evaluated=183]\u001b[A\n",
            " 99%|█████████▉| 2002.0/2025 [00:04<00:00, 1027.31it/s, min_score=-1, models_evaluated=188]\u001b[A"
          ],
          "name": "stderr"
        },
        {
          "output_type": "stream",
          "text": [
            "[2019-11-28 20:10:45,199][MainProcess][hyperband][INFO] Finished hyperband round: 4 of 4\n"
          ],
          "name": "stdout"
        },
        {
          "output_type": "stream",
          "text": [
            "\n",
            " 99%|█████████▉| 2002.0/2025 [00:04<00:00, 477.44it/s, min_score=-1, models_evaluated=188] \u001b[A"
          ],
          "name": "stderr"
        },
        {
          "output_type": "stream",
          "text": [
            "[2019-11-28 20:10:45,203][MainProcess][hyperband][INFO] Total models evaluated: 188.740260\n",
            "[2019-11-28 20:10:45,205][MainProcess][hyperband][INFO] Total resources used: 2025.000000\n",
            "[2019-11-28 20:10:45,206][MainProcess][hyperband][INFO] Total resources used per model on average: 2.330127\n",
            "-1.0 {'min_samples_split': 0.4581276711524409, 'max_depth': 10}\n",
            "-0.9666666666666667 {'min_samples_split': 0.04230551115728443, 'max_depth': 7}\n",
            "-0.9666666666666667 {'min_samples_split': 0.2818498208152123, 'max_depth': 4}\n",
            "-1.0 {'min_samples_split': 0.6489565602510388, 'max_depth': 9}\n",
            "-0.9666666666666667 {'min_samples_split': 0.325928415556849, 'max_depth': 10}\n",
            "-0.9666666666666667 {'min_samples_split': 0.17410479576948393, 'max_depth': 2}\n",
            "-0.9666666666666667 {'min_samples_split': 0.06484727314566187, 'max_depth': 8}\n",
            "-0.9666666666666667 {'min_samples_split': 0.147945397647997, 'max_depth': 10}\n",
            "-0.9666666666666667 {'min_samples_split': 0.4974731101661486, 'max_depth': 3}\n",
            "-0.16666666666666666 {'min_samples_split': 0.8308829259700521, 'max_depth': 2}\n",
            "-0.9666666666666667 {'min_samples_split': 0.17447149089881733, 'max_depth': 7}\n",
            "-0.9666666666666667 {'min_samples_split': 0.2522284456934269, 'max_depth': 6}\n",
            "-0.9666666666666667 {'min_samples_split': 0.5990799866209129, 'max_depth': 5}\n"
          ],
          "name": "stdout"
        }
      ]
    },
    {
      "cell_type": "code",
      "metadata": {
        "id": "z2BD22VHovle",
        "colab_type": "code",
        "colab": {}
      },
      "source": [
        ""
      ],
      "execution_count": 0,
      "outputs": []
    }
  ]
}